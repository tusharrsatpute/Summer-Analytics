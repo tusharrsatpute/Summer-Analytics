{
 "cells": [
  {
   "cell_type": "code",
   "execution_count": 1,
   "id": "6e78e6ab",
   "metadata": {
    "_cell_guid": "b1076dfc-b9ad-4769-8c92-a6c4dae69d19",
    "_uuid": "8f2839f25d086af736a60e9eeb907d3b93b6e0e5",
    "execution": {
     "iopub.execute_input": "2025-06-13T23:15:11.067740Z",
     "iopub.status.busy": "2025-06-13T23:15:11.067034Z",
     "iopub.status.idle": "2025-06-13T23:15:12.686381Z",
     "shell.execute_reply": "2025-06-13T23:15:12.685496Z"
    },
    "id": "a8cbd0db",
    "outputId": "b26e6cb5-a2a4-42b4-d82e-f135eac663be",
    "papermill": {
     "duration": 1.628843,
     "end_time": "2025-06-13T23:15:12.687996",
     "exception": false,
     "start_time": "2025-06-13T23:15:11.059153",
     "status": "completed"
    },
    "tags": []
   },
   "outputs": [
    {
     "name": "stdout",
     "output_type": "stream",
     "text": [
      "/kaggle/input/first-hackathon/hacktest.csv\n",
      "/kaggle/input/first-hackathon/hacktrain.csv\n"
     ]
    }
   ],
   "source": [
    "# This Python 3 environment comes with many helpful analytics libraries installed\n",
    "# It is defined by the kaggle/python Docker image: https://github.com/kaggle/docker-python\n",
    "# For example, here's several helpful packages to load\n",
    "\n",
    "import numpy as np # linear algebra\n",
    "import pandas as pd # data processing, CSV file I/O (e.g. pd.read_csv)\n",
    "\n",
    "# Input data files are available in the read-only \"../input/\" directory\n",
    "# For example, running this (by clicking run or pressing Shift+Enter) will list all files under the input directory\n",
    "\n",
    "import os\n",
    "for dirname, _, filenames in os.walk('/kaggle/input'):\n",
    "    for filename in filenames:\n",
    "        print(os.path.join(dirname, filename))\n",
    "\n",
    "# You can write up to 20GB to the current directory (/kaggle/working/) that gets preserved as output when you create a version using \"Save & Run All\"\n",
    "# You can also write temporary files to /kaggle/temp/, but they won't be saved outside of the current session"
   ]
  },
  {
   "cell_type": "code",
   "execution_count": 2,
   "id": "0206c70f",
   "metadata": {
    "execution": {
     "iopub.execute_input": "2025-06-13T23:15:12.701155Z",
     "iopub.status.busy": "2025-06-13T23:15:12.700834Z",
     "iopub.status.idle": "2025-06-13T23:15:12.795117Z",
     "shell.execute_reply": "2025-06-13T23:15:12.794240Z"
    },
    "id": "52fc0999",
    "outputId": "530f7b2f-c6f6-46f7-ebb1-d32d46026a71",
    "papermill": {
     "duration": 0.102425,
     "end_time": "2025-06-13T23:15:12.796610",
     "exception": false,
     "start_time": "2025-06-13T23:15:12.694185",
     "status": "completed"
    },
    "tags": []
   },
   "outputs": [
    {
     "data": {
      "text/html": [
       "<div>\n",
       "<style scoped>\n",
       "    .dataframe tbody tr th:only-of-type {\n",
       "        vertical-align: middle;\n",
       "    }\n",
       "\n",
       "    .dataframe tbody tr th {\n",
       "        vertical-align: top;\n",
       "    }\n",
       "\n",
       "    .dataframe thead th {\n",
       "        text-align: right;\n",
       "    }\n",
       "</style>\n",
       "<table border=\"1\" class=\"dataframe\">\n",
       "  <thead>\n",
       "    <tr style=\"text-align: right;\">\n",
       "      <th></th>\n",
       "      <th>Unnamed: 0</th>\n",
       "      <th>ID</th>\n",
       "      <th>class</th>\n",
       "      <th>20150720_N</th>\n",
       "      <th>20150602_N</th>\n",
       "      <th>20150517_N</th>\n",
       "      <th>20150501_N</th>\n",
       "      <th>20150415_N</th>\n",
       "      <th>20150330_N</th>\n",
       "      <th>20150314_N</th>\n",
       "      <th>...</th>\n",
       "      <th>20140610_N</th>\n",
       "      <th>20140525_N</th>\n",
       "      <th>20140509_N</th>\n",
       "      <th>20140423_N</th>\n",
       "      <th>20140407_N</th>\n",
       "      <th>20140322_N</th>\n",
       "      <th>20140218_N</th>\n",
       "      <th>20140202_N</th>\n",
       "      <th>20140117_N</th>\n",
       "      <th>20140101_N</th>\n",
       "    </tr>\n",
       "  </thead>\n",
       "  <tbody>\n",
       "    <tr>\n",
       "      <th>0</th>\n",
       "      <td>0</td>\n",
       "      <td>1</td>\n",
       "      <td>water</td>\n",
       "      <td>637.5950</td>\n",
       "      <td>658.668</td>\n",
       "      <td>-1882.030</td>\n",
       "      <td>-1924.36</td>\n",
       "      <td>997.904</td>\n",
       "      <td>-1739.990</td>\n",
       "      <td>630.087</td>\n",
       "      <td>...</td>\n",
       "      <td>NaN</td>\n",
       "      <td>-1043.160</td>\n",
       "      <td>-1942.490</td>\n",
       "      <td>267.138</td>\n",
       "      <td>NaN</td>\n",
       "      <td>NaN</td>\n",
       "      <td>211.328</td>\n",
       "      <td>-2203.020</td>\n",
       "      <td>-1180.19</td>\n",
       "      <td>433.906</td>\n",
       "    </tr>\n",
       "    <tr>\n",
       "      <th>1</th>\n",
       "      <td>1</td>\n",
       "      <td>2</td>\n",
       "      <td>water</td>\n",
       "      <td>634.2400</td>\n",
       "      <td>593.705</td>\n",
       "      <td>-1625.790</td>\n",
       "      <td>-1672.32</td>\n",
       "      <td>914.198</td>\n",
       "      <td>-692.386</td>\n",
       "      <td>707.626</td>\n",
       "      <td>...</td>\n",
       "      <td>NaN</td>\n",
       "      <td>-933.934</td>\n",
       "      <td>-625.385</td>\n",
       "      <td>120.059</td>\n",
       "      <td>364.858</td>\n",
       "      <td>476.972</td>\n",
       "      <td>220.878</td>\n",
       "      <td>-2250.000</td>\n",
       "      <td>-1360.56</td>\n",
       "      <td>524.075</td>\n",
       "    </tr>\n",
       "    <tr>\n",
       "      <th>2</th>\n",
       "      <td>3</td>\n",
       "      <td>4</td>\n",
       "      <td>water</td>\n",
       "      <td>58.0174</td>\n",
       "      <td>-1599.160</td>\n",
       "      <td>NaN</td>\n",
       "      <td>-1052.63</td>\n",
       "      <td>NaN</td>\n",
       "      <td>-1564.630</td>\n",
       "      <td>NaN</td>\n",
       "      <td>...</td>\n",
       "      <td>-1025.88</td>\n",
       "      <td>368.622</td>\n",
       "      <td>NaN</td>\n",
       "      <td>-1227.800</td>\n",
       "      <td>304.621</td>\n",
       "      <td>NaN</td>\n",
       "      <td>369.214</td>\n",
       "      <td>-2202.120</td>\n",
       "      <td>NaN</td>\n",
       "      <td>-1343.550</td>\n",
       "    </tr>\n",
       "    <tr>\n",
       "      <th>3</th>\n",
       "      <td>4</td>\n",
       "      <td>5</td>\n",
       "      <td>water</td>\n",
       "      <td>72.5180</td>\n",
       "      <td>NaN</td>\n",
       "      <td>380.436</td>\n",
       "      <td>-1256.93</td>\n",
       "      <td>515.805</td>\n",
       "      <td>-1413.180</td>\n",
       "      <td>-802.942</td>\n",
       "      <td>...</td>\n",
       "      <td>-1813.95</td>\n",
       "      <td>155.624</td>\n",
       "      <td>NaN</td>\n",
       "      <td>-924.073</td>\n",
       "      <td>432.150</td>\n",
       "      <td>282.833</td>\n",
       "      <td>298.320</td>\n",
       "      <td>-2197.360</td>\n",
       "      <td>NaN</td>\n",
       "      <td>-826.727</td>\n",
       "    </tr>\n",
       "    <tr>\n",
       "      <th>4</th>\n",
       "      <td>7</td>\n",
       "      <td>8</td>\n",
       "      <td>water</td>\n",
       "      <td>1136.4400</td>\n",
       "      <td>NaN</td>\n",
       "      <td>NaN</td>\n",
       "      <td>1647.83</td>\n",
       "      <td>1935.800</td>\n",
       "      <td>NaN</td>\n",
       "      <td>2158.980</td>\n",
       "      <td>...</td>\n",
       "      <td>1535.00</td>\n",
       "      <td>1959.430</td>\n",
       "      <td>-279.317</td>\n",
       "      <td>-384.915</td>\n",
       "      <td>-113.406</td>\n",
       "      <td>1020.720</td>\n",
       "      <td>1660.650</td>\n",
       "      <td>-116.801</td>\n",
       "      <td>-568.05</td>\n",
       "      <td>-1357.140</td>\n",
       "    </tr>\n",
       "  </tbody>\n",
       "</table>\n",
       "<p>5 rows × 30 columns</p>\n",
       "</div>"
      ],
      "text/plain": [
       "   Unnamed: 0  ID  class  20150720_N  20150602_N  20150517_N  20150501_N  \\\n",
       "0           0   1  water    637.5950     658.668   -1882.030    -1924.36   \n",
       "1           1   2  water    634.2400     593.705   -1625.790    -1672.32   \n",
       "2           3   4  water     58.0174   -1599.160         NaN    -1052.63   \n",
       "3           4   5  water     72.5180         NaN     380.436    -1256.93   \n",
       "4           7   8  water   1136.4400         NaN         NaN     1647.83   \n",
       "\n",
       "   20150415_N  20150330_N  20150314_N  ...  20140610_N  20140525_N  \\\n",
       "0     997.904   -1739.990     630.087  ...         NaN   -1043.160   \n",
       "1     914.198    -692.386     707.626  ...         NaN    -933.934   \n",
       "2         NaN   -1564.630         NaN  ...    -1025.88     368.622   \n",
       "3     515.805   -1413.180    -802.942  ...    -1813.95     155.624   \n",
       "4    1935.800         NaN    2158.980  ...     1535.00    1959.430   \n",
       "\n",
       "   20140509_N  20140423_N  20140407_N  20140322_N  20140218_N  20140202_N  \\\n",
       "0   -1942.490     267.138         NaN         NaN     211.328   -2203.020   \n",
       "1    -625.385     120.059     364.858     476.972     220.878   -2250.000   \n",
       "2         NaN   -1227.800     304.621         NaN     369.214   -2202.120   \n",
       "3         NaN    -924.073     432.150     282.833     298.320   -2197.360   \n",
       "4    -279.317    -384.915    -113.406    1020.720    1660.650    -116.801   \n",
       "\n",
       "   20140117_N  20140101_N  \n",
       "0    -1180.19     433.906  \n",
       "1    -1360.56     524.075  \n",
       "2         NaN   -1343.550  \n",
       "3         NaN    -826.727  \n",
       "4     -568.05   -1357.140  \n",
       "\n",
       "[5 rows x 30 columns]"
      ]
     },
     "execution_count": 2,
     "metadata": {},
     "output_type": "execute_result"
    }
   ],
   "source": [
    "df = pd.read_csv(\"/kaggle/input/first-hackathon/hacktrain.csv\")\n",
    "import warnings\n",
    "\n",
    "warnings.filterwarnings('ignore')\n",
    "df.head()"
   ]
  },
  {
   "cell_type": "code",
   "execution_count": 3,
   "id": "ae044d70",
   "metadata": {
    "execution": {
     "iopub.execute_input": "2025-06-13T23:15:12.809316Z",
     "iopub.status.busy": "2025-06-13T23:15:12.809115Z",
     "iopub.status.idle": "2025-06-13T23:15:12.831763Z",
     "shell.execute_reply": "2025-06-13T23:15:12.830890Z"
    },
    "papermill": {
     "duration": 0.030382,
     "end_time": "2025-06-13T23:15:12.833284",
     "exception": false,
     "start_time": "2025-06-13T23:15:12.802902",
     "status": "completed"
    },
    "tags": []
   },
   "outputs": [
    {
     "name": "stdout",
     "output_type": "stream",
     "text": [
      "<class 'pandas.core.frame.DataFrame'>\n",
      "RangeIndex: 8000 entries, 0 to 7999\n",
      "Data columns (total 30 columns):\n",
      " #   Column      Non-Null Count  Dtype  \n",
      "---  ------      --------------  -----  \n",
      " 0   Unnamed: 0  8000 non-null   int64  \n",
      " 1   ID          8000 non-null   int64  \n",
      " 2   class       8000 non-null   object \n",
      " 3   20150720_N  7440 non-null   float64\n",
      " 4   20150602_N  6800 non-null   float64\n",
      " 5   20150517_N  7200 non-null   float64\n",
      " 6   20150501_N  7040 non-null   float64\n",
      " 7   20150415_N  7520 non-null   float64\n",
      " 8   20150330_N  6880 non-null   float64\n",
      " 9   20150314_N  7280 non-null   float64\n",
      " 10  20150226_N  6640 non-null   float64\n",
      " 11  20150210_N  7360 non-null   float64\n",
      " 12  20150125_N  6960 non-null   float64\n",
      " 13  20150109_N  7120 non-null   float64\n",
      " 14  20141117_N  6720 non-null   float64\n",
      " 15  20141101_N  7600 non-null   float64\n",
      " 16  20141016_N  6560 non-null   float64\n",
      " 17  20140930_N  7200 non-null   float64\n",
      " 18  20140813_N  7440 non-null   float64\n",
      " 19  20140626_N  6400 non-null   float64\n",
      " 20  20140610_N  7520 non-null   float64\n",
      " 21  20140525_N  7280 non-null   float64\n",
      " 22  20140509_N  7120 non-null   float64\n",
      " 23  20140423_N  6240 non-null   float64\n",
      " 24  20140407_N  7360 non-null   float64\n",
      " 25  20140322_N  6880 non-null   float64\n",
      " 26  20140218_N  6560 non-null   float64\n",
      " 27  20140202_N  7440 non-null   float64\n",
      " 28  20140117_N  6800 non-null   float64\n",
      " 29  20140101_N  7600 non-null   float64\n",
      "dtypes: float64(27), int64(2), object(1)\n",
      "memory usage: 1.8+ MB\n"
     ]
    }
   ],
   "source": [
    "df.info()"
   ]
  },
  {
   "cell_type": "code",
   "execution_count": 4,
   "id": "73e20572",
   "metadata": {
    "execution": {
     "iopub.execute_input": "2025-06-13T23:15:12.846274Z",
     "iopub.status.busy": "2025-06-13T23:15:12.846070Z",
     "iopub.status.idle": "2025-06-13T23:15:12.912526Z",
     "shell.execute_reply": "2025-06-13T23:15:12.911799Z"
    },
    "papermill": {
     "duration": 0.074266,
     "end_time": "2025-06-13T23:15:12.913865",
     "exception": false,
     "start_time": "2025-06-13T23:15:12.839599",
     "status": "completed"
    },
    "tags": []
   },
   "outputs": [
    {
     "data": {
      "text/html": [
       "<div>\n",
       "<style scoped>\n",
       "    .dataframe tbody tr th:only-of-type {\n",
       "        vertical-align: middle;\n",
       "    }\n",
       "\n",
       "    .dataframe tbody tr th {\n",
       "        vertical-align: top;\n",
       "    }\n",
       "\n",
       "    .dataframe thead th {\n",
       "        text-align: right;\n",
       "    }\n",
       "</style>\n",
       "<table border=\"1\" class=\"dataframe\">\n",
       "  <thead>\n",
       "    <tr style=\"text-align: right;\">\n",
       "      <th></th>\n",
       "      <th>Unnamed: 0</th>\n",
       "      <th>ID</th>\n",
       "      <th>20150720_N</th>\n",
       "      <th>20150602_N</th>\n",
       "      <th>20150517_N</th>\n",
       "      <th>20150501_N</th>\n",
       "      <th>20150415_N</th>\n",
       "      <th>20150330_N</th>\n",
       "      <th>20150314_N</th>\n",
       "      <th>20150226_N</th>\n",
       "      <th>...</th>\n",
       "      <th>20140610_N</th>\n",
       "      <th>20140525_N</th>\n",
       "      <th>20140509_N</th>\n",
       "      <th>20140423_N</th>\n",
       "      <th>20140407_N</th>\n",
       "      <th>20140322_N</th>\n",
       "      <th>20140218_N</th>\n",
       "      <th>20140202_N</th>\n",
       "      <th>20140117_N</th>\n",
       "      <th>20140101_N</th>\n",
       "    </tr>\n",
       "  </thead>\n",
       "  <tbody>\n",
       "    <tr>\n",
       "      <th>count</th>\n",
       "      <td>8000.000000</td>\n",
       "      <td>8000.000000</td>\n",
       "      <td>7440.000000</td>\n",
       "      <td>6800.000000</td>\n",
       "      <td>7200.000000</td>\n",
       "      <td>7040.000000</td>\n",
       "      <td>7520.000000</td>\n",
       "      <td>6880.000000</td>\n",
       "      <td>7280.000000</td>\n",
       "      <td>6640.000000</td>\n",
       "      <td>...</td>\n",
       "      <td>7520.000000</td>\n",
       "      <td>7280.000000</td>\n",
       "      <td>7120.000000</td>\n",
       "      <td>6240.000000</td>\n",
       "      <td>7360.000000</td>\n",
       "      <td>6880.000000</td>\n",
       "      <td>6560.000000</td>\n",
       "      <td>7440.000000</td>\n",
       "      <td>6800.000000</td>\n",
       "      <td>7600.000000</td>\n",
       "    </tr>\n",
       "    <tr>\n",
       "      <th>mean</th>\n",
       "      <td>4984.202625</td>\n",
       "      <td>4985.202625</td>\n",
       "      <td>5845.476916</td>\n",
       "      <td>4868.091395</td>\n",
       "      <td>4469.837748</td>\n",
       "      <td>5193.485086</td>\n",
       "      <td>2927.586705</td>\n",
       "      <td>4924.493648</td>\n",
       "      <td>3313.881373</td>\n",
       "      <td>4987.520158</td>\n",
       "      <td>...</td>\n",
       "      <td>4872.681670</td>\n",
       "      <td>3674.886731</td>\n",
       "      <td>3012.178524</td>\n",
       "      <td>3055.167358</td>\n",
       "      <td>2041.316792</td>\n",
       "      <td>2799.820342</td>\n",
       "      <td>2144.360224</td>\n",
       "      <td>6259.064275</td>\n",
       "      <td>2629.203972</td>\n",
       "      <td>2578.449870</td>\n",
       "    </tr>\n",
       "    <tr>\n",
       "      <th>std</th>\n",
       "      <td>2900.022898</td>\n",
       "      <td>2900.022898</td>\n",
       "      <td>2261.409128</td>\n",
       "      <td>2758.499942</td>\n",
       "      <td>2876.218394</td>\n",
       "      <td>2510.389832</td>\n",
       "      <td>2728.325670</td>\n",
       "      <td>2600.418802</td>\n",
       "      <td>2434.828743</td>\n",
       "      <td>2674.963286</td>\n",
       "      <td>...</td>\n",
       "      <td>2776.135418</td>\n",
       "      <td>2331.105635</td>\n",
       "      <td>2068.334108</td>\n",
       "      <td>2209.985887</td>\n",
       "      <td>2040.354512</td>\n",
       "      <td>2452.563243</td>\n",
       "      <td>2267.606759</td>\n",
       "      <td>1825.563702</td>\n",
       "      <td>2386.147667</td>\n",
       "      <td>2436.270797</td>\n",
       "    </tr>\n",
       "    <tr>\n",
       "      <th>min</th>\n",
       "      <td>0.000000</td>\n",
       "      <td>1.000000</td>\n",
       "      <td>-433.735000</td>\n",
       "      <td>-1781.790000</td>\n",
       "      <td>-2939.740000</td>\n",
       "      <td>-1924.360000</td>\n",
       "      <td>-1794.870000</td>\n",
       "      <td>-1848.910000</td>\n",
       "      <td>-1574.970000</td>\n",
       "      <td>-2532.490000</td>\n",
       "      <td>...</td>\n",
       "      <td>-2683.600000</td>\n",
       "      <td>-1043.160000</td>\n",
       "      <td>-2435.900000</td>\n",
       "      <td>-1505.780000</td>\n",
       "      <td>-1445.370000</td>\n",
       "      <td>55.564100</td>\n",
       "      <td>-232.292000</td>\n",
       "      <td>-2729.430000</td>\n",
       "      <td>-2139.860000</td>\n",
       "      <td>-4145.250000</td>\n",
       "    </tr>\n",
       "    <tr>\n",
       "      <th>25%</th>\n",
       "      <td>2514.750000</td>\n",
       "      <td>2515.750000</td>\n",
       "      <td>4331.232500</td>\n",
       "      <td>2067.265000</td>\n",
       "      <td>1521.195000</td>\n",
       "      <td>3087.072500</td>\n",
       "      <td>500.515750</td>\n",
       "      <td>2398.385000</td>\n",
       "      <td>992.778250</td>\n",
       "      <td>2404.075000</td>\n",
       "      <td>...</td>\n",
       "      <td>2010.732500</td>\n",
       "      <td>1369.355000</td>\n",
       "      <td>1368.742500</td>\n",
       "      <td>1009.827500</td>\n",
       "      <td>419.987000</td>\n",
       "      <td>791.741250</td>\n",
       "      <td>501.602750</td>\n",
       "      <td>5938.257500</td>\n",
       "      <td>691.171500</td>\n",
       "      <td>689.199000</td>\n",
       "    </tr>\n",
       "    <tr>\n",
       "      <th>50%</th>\n",
       "      <td>4917.500000</td>\n",
       "      <td>4918.500000</td>\n",
       "      <td>6908.255000</td>\n",
       "      <td>5513.375000</td>\n",
       "      <td>4672.000000</td>\n",
       "      <td>5810.755000</td>\n",
       "      <td>1586.240000</td>\n",
       "      <td>5742.485000</td>\n",
       "      <td>2802.010000</td>\n",
       "      <td>5831.120000</td>\n",
       "      <td>...</td>\n",
       "      <td>5484.905000</td>\n",
       "      <td>3659.770000</td>\n",
       "      <td>2633.695000</td>\n",
       "      <td>2624.125000</td>\n",
       "      <td>1183.715000</td>\n",
       "      <td>1599.385000</td>\n",
       "      <td>969.711500</td>\n",
       "      <td>6941.010000</td>\n",
       "      <td>1521.210000</td>\n",
       "      <td>1439.950000</td>\n",
       "    </tr>\n",
       "    <tr>\n",
       "      <th>75%</th>\n",
       "      <td>7311.250000</td>\n",
       "      <td>7312.250000</td>\n",
       "      <td>7626.845000</td>\n",
       "      <td>7555.570000</td>\n",
       "      <td>7431.697500</td>\n",
       "      <td>7511.880000</td>\n",
       "      <td>5703.067500</td>\n",
       "      <td>7280.110000</td>\n",
       "      <td>5508.350000</td>\n",
       "      <td>7430.915000</td>\n",
       "      <td>...</td>\n",
       "      <td>7607.755000</td>\n",
       "      <td>5927.035000</td>\n",
       "      <td>4128.082500</td>\n",
       "      <td>4952.317500</td>\n",
       "      <td>3075.997500</td>\n",
       "      <td>4909.997500</td>\n",
       "      <td>3227.380000</td>\n",
       "      <td>7395.612500</td>\n",
       "      <td>4452.257500</td>\n",
       "      <td>4146.342500</td>\n",
       "    </tr>\n",
       "    <tr>\n",
       "      <th>max</th>\n",
       "      <td>10544.000000</td>\n",
       "      <td>10545.000000</td>\n",
       "      <td>8376.150000</td>\n",
       "      <td>8566.420000</td>\n",
       "      <td>8650.500000</td>\n",
       "      <td>8516.100000</td>\n",
       "      <td>8267.120000</td>\n",
       "      <td>8499.330000</td>\n",
       "      <td>8001.700000</td>\n",
       "      <td>8452.380000</td>\n",
       "      <td>...</td>\n",
       "      <td>8489.970000</td>\n",
       "      <td>7981.820000</td>\n",
       "      <td>8445.410000</td>\n",
       "      <td>7762.980000</td>\n",
       "      <td>8078.080000</td>\n",
       "      <td>8216.700000</td>\n",
       "      <td>8247.630000</td>\n",
       "      <td>8410.330000</td>\n",
       "      <td>8418.230000</td>\n",
       "      <td>8502.020000</td>\n",
       "    </tr>\n",
       "  </tbody>\n",
       "</table>\n",
       "<p>8 rows × 29 columns</p>\n",
       "</div>"
      ],
      "text/plain": [
       "         Unnamed: 0            ID   20150720_N   20150602_N   20150517_N  \\\n",
       "count   8000.000000   8000.000000  7440.000000  6800.000000  7200.000000   \n",
       "mean    4984.202625   4985.202625  5845.476916  4868.091395  4469.837748   \n",
       "std     2900.022898   2900.022898  2261.409128  2758.499942  2876.218394   \n",
       "min        0.000000      1.000000  -433.735000 -1781.790000 -2939.740000   \n",
       "25%     2514.750000   2515.750000  4331.232500  2067.265000  1521.195000   \n",
       "50%     4917.500000   4918.500000  6908.255000  5513.375000  4672.000000   \n",
       "75%     7311.250000   7312.250000  7626.845000  7555.570000  7431.697500   \n",
       "max    10544.000000  10545.000000  8376.150000  8566.420000  8650.500000   \n",
       "\n",
       "        20150501_N   20150415_N   20150330_N   20150314_N   20150226_N  ...  \\\n",
       "count  7040.000000  7520.000000  6880.000000  7280.000000  6640.000000  ...   \n",
       "mean   5193.485086  2927.586705  4924.493648  3313.881373  4987.520158  ...   \n",
       "std    2510.389832  2728.325670  2600.418802  2434.828743  2674.963286  ...   \n",
       "min   -1924.360000 -1794.870000 -1848.910000 -1574.970000 -2532.490000  ...   \n",
       "25%    3087.072500   500.515750  2398.385000   992.778250  2404.075000  ...   \n",
       "50%    5810.755000  1586.240000  5742.485000  2802.010000  5831.120000  ...   \n",
       "75%    7511.880000  5703.067500  7280.110000  5508.350000  7430.915000  ...   \n",
       "max    8516.100000  8267.120000  8499.330000  8001.700000  8452.380000  ...   \n",
       "\n",
       "        20140610_N   20140525_N   20140509_N   20140423_N   20140407_N  \\\n",
       "count  7520.000000  7280.000000  7120.000000  6240.000000  7360.000000   \n",
       "mean   4872.681670  3674.886731  3012.178524  3055.167358  2041.316792   \n",
       "std    2776.135418  2331.105635  2068.334108  2209.985887  2040.354512   \n",
       "min   -2683.600000 -1043.160000 -2435.900000 -1505.780000 -1445.370000   \n",
       "25%    2010.732500  1369.355000  1368.742500  1009.827500   419.987000   \n",
       "50%    5484.905000  3659.770000  2633.695000  2624.125000  1183.715000   \n",
       "75%    7607.755000  5927.035000  4128.082500  4952.317500  3075.997500   \n",
       "max    8489.970000  7981.820000  8445.410000  7762.980000  8078.080000   \n",
       "\n",
       "        20140322_N   20140218_N   20140202_N   20140117_N   20140101_N  \n",
       "count  6880.000000  6560.000000  7440.000000  6800.000000  7600.000000  \n",
       "mean   2799.820342  2144.360224  6259.064275  2629.203972  2578.449870  \n",
       "std    2452.563243  2267.606759  1825.563702  2386.147667  2436.270797  \n",
       "min      55.564100  -232.292000 -2729.430000 -2139.860000 -4145.250000  \n",
       "25%     791.741250   501.602750  5938.257500   691.171500   689.199000  \n",
       "50%    1599.385000   969.711500  6941.010000  1521.210000  1439.950000  \n",
       "75%    4909.997500  3227.380000  7395.612500  4452.257500  4146.342500  \n",
       "max    8216.700000  8247.630000  8410.330000  8418.230000  8502.020000  \n",
       "\n",
       "[8 rows x 29 columns]"
      ]
     },
     "execution_count": 4,
     "metadata": {},
     "output_type": "execute_result"
    }
   ],
   "source": [
    "df.describe()"
   ]
  },
  {
   "cell_type": "code",
   "execution_count": 5,
   "id": "e63f9126",
   "metadata": {
    "execution": {
     "iopub.execute_input": "2025-06-13T23:15:12.928013Z",
     "iopub.status.busy": "2025-06-13T23:15:12.927797Z",
     "iopub.status.idle": "2025-06-13T23:15:12.936766Z",
     "shell.execute_reply": "2025-06-13T23:15:12.936093Z"
    },
    "id": "92e3be16",
    "outputId": "bc886c4b-0842-4cea-9899-97e749b48400",
    "papermill": {
     "duration": 0.01721,
     "end_time": "2025-06-13T23:15:12.938030",
     "exception": false,
     "start_time": "2025-06-13T23:15:12.920820",
     "status": "completed"
    },
    "tags": []
   },
   "outputs": [
    {
     "data": {
      "text/plain": [
       "Unnamed: 0       0\n",
       "ID               0\n",
       "class            0\n",
       "20150720_N     560\n",
       "20150602_N    1200\n",
       "20150517_N     800\n",
       "20150501_N     960\n",
       "20150415_N     480\n",
       "20150330_N    1120\n",
       "20150314_N     720\n",
       "20150226_N    1360\n",
       "20150210_N     640\n",
       "20150125_N    1040\n",
       "20150109_N     880\n",
       "20141117_N    1280\n",
       "20141101_N     400\n",
       "20141016_N    1440\n",
       "20140930_N     800\n",
       "20140813_N     560\n",
       "20140626_N    1600\n",
       "20140610_N     480\n",
       "20140525_N     720\n",
       "20140509_N     880\n",
       "20140423_N    1760\n",
       "20140407_N     640\n",
       "20140322_N    1120\n",
       "20140218_N    1440\n",
       "20140202_N     560\n",
       "20140117_N    1200\n",
       "20140101_N     400\n",
       "dtype: int64"
      ]
     },
     "execution_count": 5,
     "metadata": {},
     "output_type": "execute_result"
    }
   ],
   "source": [
    "df.isnull().sum()"
   ]
  },
  {
   "cell_type": "code",
   "execution_count": 6,
   "id": "32364b6a",
   "metadata": {
    "execution": {
     "iopub.execute_input": "2025-06-13T23:15:12.952482Z",
     "iopub.status.busy": "2025-06-13T23:15:12.952206Z",
     "iopub.status.idle": "2025-06-13T23:15:12.975637Z",
     "shell.execute_reply": "2025-06-13T23:15:12.974629Z"
    },
    "id": "8646c661",
    "outputId": "1ef225da-5aa3-4d50-c3b0-b91f9b008882",
    "papermill": {
     "duration": 0.031893,
     "end_time": "2025-06-13T23:15:12.976980",
     "exception": false,
     "start_time": "2025-06-13T23:15:12.945087",
     "status": "completed"
    },
    "tags": []
   },
   "outputs": [
    {
     "name": "stdout",
     "output_type": "stream",
     "text": [
      "Unnamed: 0    0\n",
      "ID            0\n",
      "class         0\n",
      "20150720_N    0\n",
      "20150602_N    0\n",
      "20150517_N    0\n",
      "20150501_N    0\n",
      "20150415_N    0\n",
      "20150330_N    0\n",
      "20150314_N    0\n",
      "20150226_N    0\n",
      "20150210_N    0\n",
      "20150125_N    0\n",
      "20150109_N    0\n",
      "20141117_N    0\n",
      "20141101_N    0\n",
      "20141016_N    0\n",
      "20140930_N    0\n",
      "20140813_N    0\n",
      "20140626_N    0\n",
      "20140610_N    0\n",
      "20140525_N    0\n",
      "20140509_N    0\n",
      "20140423_N    0\n",
      "20140407_N    0\n",
      "20140322_N    0\n",
      "20140218_N    0\n",
      "20140202_N    0\n",
      "20140117_N    0\n",
      "20140101_N    0\n",
      "dtype: int64\n"
     ]
    }
   ],
   "source": [
    "df.fillna(df.mean(numeric_only=True), inplace=True) #simple mean imputation [This part has a lot of scope for imporovement.]\n",
    "#keep in mind that the data is inherently noisy and the test dataset is not.\n",
    "print(df.isnull().sum())"
   ]
  },
  {
   "cell_type": "code",
   "execution_count": 7,
   "id": "5a83da79",
   "metadata": {
    "execution": {
     "iopub.execute_input": "2025-06-13T23:15:12.991002Z",
     "iopub.status.busy": "2025-06-13T23:15:12.990761Z",
     "iopub.status.idle": "2025-06-13T23:15:12.996198Z",
     "shell.execute_reply": "2025-06-13T23:15:12.995593Z"
    },
    "papermill": {
     "duration": 0.013731,
     "end_time": "2025-06-13T23:15:12.997405",
     "exception": false,
     "start_time": "2025-06-13T23:15:12.983674",
     "status": "completed"
    },
    "tags": []
   },
   "outputs": [
    {
     "name": "stdout",
     "output_type": "stream",
     "text": [
      "class\n",
      "forest        6159\n",
      "farm           841\n",
      "impervious     669\n",
      "grass          196\n",
      "water          105\n",
      "orchard         30\n",
      "Name: count, dtype: int64\n"
     ]
    }
   ],
   "source": [
    "print(df['class'].value_counts())"
   ]
  },
  {
   "cell_type": "code",
   "execution_count": 8,
   "id": "72721833",
   "metadata": {
    "execution": {
     "iopub.execute_input": "2025-06-13T23:15:13.012005Z",
     "iopub.status.busy": "2025-06-13T23:15:13.011724Z",
     "iopub.status.idle": "2025-06-13T23:15:13.016135Z",
     "shell.execute_reply": "2025-06-13T23:15:13.015352Z"
    },
    "papermill": {
     "duration": 0.013599,
     "end_time": "2025-06-13T23:15:13.017507",
     "exception": false,
     "start_time": "2025-06-13T23:15:13.003908",
     "status": "completed"
    },
    "tags": []
   },
   "outputs": [],
   "source": [
    "ndvi_columns = ['20150720_N', '20150602_N', '20150517_N', '20150501_N', '20150415_N',\n",
    "'20150330_N', '20150314_N', '20150226_N', '20150210_N', '20150125_N',\n",
    "'20150109_N', '20141117_N', '20141101_N', '20141016_N', '20140930_N',\n",
    "'20140813_N', '20140626_N', '20140610_N', '20140525_N', '20140509_N',\n",
    "'20140423_N', '20140407_N', '20140322_N', '20140218_N', '20140202_N',\n",
    "'20140117_N', '20140101_N']"
   ]
  },
  {
   "cell_type": "code",
   "execution_count": 9,
   "id": "c72592ba",
   "metadata": {
    "execution": {
     "iopub.execute_input": "2025-06-13T23:15:13.030926Z",
     "iopub.status.busy": "2025-06-13T23:15:13.030692Z",
     "iopub.status.idle": "2025-06-13T23:15:13.140794Z",
     "shell.execute_reply": "2025-06-13T23:15:13.140126Z"
    },
    "papermill": {
     "duration": 0.11835,
     "end_time": "2025-06-13T23:15:13.142260",
     "exception": false,
     "start_time": "2025-06-13T23:15:13.023910",
     "status": "completed"
    },
    "tags": []
   },
   "outputs": [],
   "source": [
    "df[ndvi_columns] = df[ndvi_columns].interpolate(axis=1)\n",
    "# Optionally, backfill any remaining NaNs at the beginning or end of the time series\n",
    "df[ndvi_columns] = df[ndvi_columns].fillna(method='bfill', axis=1)\n",
    "df[ndvi_columns] = df[ndvi_columns].fillna(method='ffill', axis=1)"
   ]
  },
  {
   "cell_type": "code",
   "execution_count": 10,
   "id": "7725b032",
   "metadata": {
    "execution": {
     "iopub.execute_input": "2025-06-13T23:15:13.157061Z",
     "iopub.status.busy": "2025-06-13T23:15:13.156802Z",
     "iopub.status.idle": "2025-06-13T23:15:13.205485Z",
     "shell.execute_reply": "2025-06-13T23:15:13.204641Z"
    },
    "papermill": {
     "duration": 0.057504,
     "end_time": "2025-06-13T23:15:13.206716",
     "exception": false,
     "start_time": "2025-06-13T23:15:13.149212",
     "status": "completed"
    },
    "tags": []
   },
   "outputs": [
    {
     "data": {
      "text/html": [
       "<div>\n",
       "<style scoped>\n",
       "    .dataframe tbody tr th:only-of-type {\n",
       "        vertical-align: middle;\n",
       "    }\n",
       "\n",
       "    .dataframe tbody tr th {\n",
       "        vertical-align: top;\n",
       "    }\n",
       "\n",
       "    .dataframe thead th {\n",
       "        text-align: right;\n",
       "    }\n",
       "</style>\n",
       "<table border=\"1\" class=\"dataframe\">\n",
       "  <thead>\n",
       "    <tr style=\"text-align: right;\">\n",
       "      <th></th>\n",
       "      <th>Unnamed: 0</th>\n",
       "      <th>ID</th>\n",
       "      <th>class</th>\n",
       "      <th>20150720_N</th>\n",
       "      <th>20150602_N</th>\n",
       "      <th>20150517_N</th>\n",
       "      <th>20150501_N</th>\n",
       "      <th>20150415_N</th>\n",
       "      <th>20150330_N</th>\n",
       "      <th>20150314_N</th>\n",
       "      <th>...</th>\n",
       "      <th>20140218_N</th>\n",
       "      <th>20140202_N</th>\n",
       "      <th>20140117_N</th>\n",
       "      <th>20140101_N</th>\n",
       "      <th>mean</th>\n",
       "      <th>median</th>\n",
       "      <th>std</th>\n",
       "      <th>max</th>\n",
       "      <th>min</th>\n",
       "      <th>range</th>\n",
       "    </tr>\n",
       "  </thead>\n",
       "  <tbody>\n",
       "    <tr>\n",
       "      <th>0</th>\n",
       "      <td>0</td>\n",
       "      <td>1</td>\n",
       "      <td>water</td>\n",
       "      <td>637.5950</td>\n",
       "      <td>658.668000</td>\n",
       "      <td>-1882.030000</td>\n",
       "      <td>-1924.36</td>\n",
       "      <td>997.904000</td>\n",
       "      <td>-1739.990000</td>\n",
       "      <td>630.087000</td>\n",
       "      <td>...</td>\n",
       "      <td>211.328</td>\n",
       "      <td>-2203.020</td>\n",
       "      <td>-1180.190000</td>\n",
       "      <td>433.906</td>\n",
       "      <td>343.448055</td>\n",
       "      <td>433.906</td>\n",
       "      <td>1875.808490</td>\n",
       "      <td>4987.520158</td>\n",
       "      <td>-2203.02</td>\n",
       "      <td>7190.540158</td>\n",
       "    </tr>\n",
       "    <tr>\n",
       "      <th>1</th>\n",
       "      <td>1</td>\n",
       "      <td>2</td>\n",
       "      <td>water</td>\n",
       "      <td>634.2400</td>\n",
       "      <td>593.705000</td>\n",
       "      <td>-1625.790000</td>\n",
       "      <td>-1672.32</td>\n",
       "      <td>914.198000</td>\n",
       "      <td>-692.386000</td>\n",
       "      <td>707.626000</td>\n",
       "      <td>...</td>\n",
       "      <td>220.878</td>\n",
       "      <td>-2250.000</td>\n",
       "      <td>-1360.560000</td>\n",
       "      <td>524.075</td>\n",
       "      <td>-62.798231</td>\n",
       "      <td>214.200</td>\n",
       "      <td>1359.282039</td>\n",
       "      <td>4872.681670</td>\n",
       "      <td>-2250.00</td>\n",
       "      <td>7122.681670</td>\n",
       "    </tr>\n",
       "    <tr>\n",
       "      <th>2</th>\n",
       "      <td>3</td>\n",
       "      <td>4</td>\n",
       "      <td>water</td>\n",
       "      <td>58.0174</td>\n",
       "      <td>-1599.160000</td>\n",
       "      <td>4469.837748</td>\n",
       "      <td>-1052.63</td>\n",
       "      <td>2927.586705</td>\n",
       "      <td>-1564.630000</td>\n",
       "      <td>3313.881373</td>\n",
       "      <td>...</td>\n",
       "      <td>369.214</td>\n",
       "      <td>-2202.120</td>\n",
       "      <td>2629.203972</td>\n",
       "      <td>-1343.550</td>\n",
       "      <td>653.996916</td>\n",
       "      <td>369.214</td>\n",
       "      <td>2124.035801</td>\n",
       "      <td>5237.037739</td>\n",
       "      <td>-3162.14</td>\n",
       "      <td>8399.177739</td>\n",
       "    </tr>\n",
       "    <tr>\n",
       "      <th>3</th>\n",
       "      <td>4</td>\n",
       "      <td>5</td>\n",
       "      <td>water</td>\n",
       "      <td>72.5180</td>\n",
       "      <td>4868.091395</td>\n",
       "      <td>380.436000</td>\n",
       "      <td>-1256.93</td>\n",
       "      <td>515.805000</td>\n",
       "      <td>-1413.180000</td>\n",
       "      <td>-802.942000</td>\n",
       "      <td>...</td>\n",
       "      <td>298.320</td>\n",
       "      <td>-2197.360</td>\n",
       "      <td>2629.203972</td>\n",
       "      <td>-826.727</td>\n",
       "      <td>131.198959</td>\n",
       "      <td>298.320</td>\n",
       "      <td>1602.465853</td>\n",
       "      <td>4868.091395</td>\n",
       "      <td>-2829.40</td>\n",
       "      <td>7697.491395</td>\n",
       "    </tr>\n",
       "    <tr>\n",
       "      <th>4</th>\n",
       "      <td>7</td>\n",
       "      <td>8</td>\n",
       "      <td>water</td>\n",
       "      <td>1136.4400</td>\n",
       "      <td>4868.091395</td>\n",
       "      <td>4469.837748</td>\n",
       "      <td>1647.83</td>\n",
       "      <td>1935.800000</td>\n",
       "      <td>4924.493648</td>\n",
       "      <td>2158.980000</td>\n",
       "      <td>...</td>\n",
       "      <td>1660.650</td>\n",
       "      <td>-116.801</td>\n",
       "      <td>-568.050000</td>\n",
       "      <td>-1357.140</td>\n",
       "      <td>1350.864018</td>\n",
       "      <td>1242.870</td>\n",
       "      <td>1951.032950</td>\n",
       "      <td>4987.520158</td>\n",
       "      <td>-2646.05</td>\n",
       "      <td>7633.570158</td>\n",
       "    </tr>\n",
       "  </tbody>\n",
       "</table>\n",
       "<p>5 rows × 36 columns</p>\n",
       "</div>"
      ],
      "text/plain": [
       "   Unnamed: 0  ID  class  20150720_N   20150602_N   20150517_N  20150501_N  \\\n",
       "0           0   1  water    637.5950   658.668000 -1882.030000    -1924.36   \n",
       "1           1   2  water    634.2400   593.705000 -1625.790000    -1672.32   \n",
       "2           3   4  water     58.0174 -1599.160000  4469.837748    -1052.63   \n",
       "3           4   5  water     72.5180  4868.091395   380.436000    -1256.93   \n",
       "4           7   8  water   1136.4400  4868.091395  4469.837748     1647.83   \n",
       "\n",
       "    20150415_N   20150330_N   20150314_N  ...  20140218_N  20140202_N  \\\n",
       "0   997.904000 -1739.990000   630.087000  ...     211.328   -2203.020   \n",
       "1   914.198000  -692.386000   707.626000  ...     220.878   -2250.000   \n",
       "2  2927.586705 -1564.630000  3313.881373  ...     369.214   -2202.120   \n",
       "3   515.805000 -1413.180000  -802.942000  ...     298.320   -2197.360   \n",
       "4  1935.800000  4924.493648  2158.980000  ...    1660.650    -116.801   \n",
       "\n",
       "    20140117_N  20140101_N         mean    median          std          max  \\\n",
       "0 -1180.190000     433.906   343.448055   433.906  1875.808490  4987.520158   \n",
       "1 -1360.560000     524.075   -62.798231   214.200  1359.282039  4872.681670   \n",
       "2  2629.203972   -1343.550   653.996916   369.214  2124.035801  5237.037739   \n",
       "3  2629.203972    -826.727   131.198959   298.320  1602.465853  4868.091395   \n",
       "4  -568.050000   -1357.140  1350.864018  1242.870  1951.032950  4987.520158   \n",
       "\n",
       "       min        range  \n",
       "0 -2203.02  7190.540158  \n",
       "1 -2250.00  7122.681670  \n",
       "2 -3162.14  8399.177739  \n",
       "3 -2829.40  7697.491395  \n",
       "4 -2646.05  7633.570158  \n",
       "\n",
       "[5 rows x 36 columns]"
      ]
     },
     "execution_count": 10,
     "metadata": {},
     "output_type": "execute_result"
    }
   ],
   "source": [
    "df['mean'] = df[ndvi_columns].mean(axis=1)\n",
    "df['median'] = df[ndvi_columns].median(axis=1)\n",
    "df['std'] = df[ndvi_columns].std(axis=1)\n",
    "df['max'] = df[ndvi_columns].max(axis=1)\n",
    "df['min'] = df[ndvi_columns].min(axis=1)\n",
    "df['range'] = df['max'] - df['min']\n",
    "df.head()"
   ]
  },
  {
   "cell_type": "code",
   "execution_count": 11,
   "id": "f8541687",
   "metadata": {
    "execution": {
     "iopub.execute_input": "2025-06-13T23:15:13.221280Z",
     "iopub.status.busy": "2025-06-13T23:15:13.221044Z",
     "iopub.status.idle": "2025-06-13T23:15:13.233950Z",
     "shell.execute_reply": "2025-06-13T23:15:13.233044Z"
    },
    "papermill": {
     "duration": 0.02201,
     "end_time": "2025-06-13T23:15:13.235290",
     "exception": false,
     "start_time": "2025-06-13T23:15:13.213280",
     "status": "completed"
    },
    "tags": []
   },
   "outputs": [
    {
     "name": "stdout",
     "output_type": "stream",
     "text": [
      "<class 'pandas.core.frame.DataFrame'>\n",
      "RangeIndex: 8000 entries, 0 to 7999\n",
      "Data columns (total 36 columns):\n",
      " #   Column      Non-Null Count  Dtype  \n",
      "---  ------      --------------  -----  \n",
      " 0   Unnamed: 0  8000 non-null   int64  \n",
      " 1   ID          8000 non-null   int64  \n",
      " 2   class       8000 non-null   object \n",
      " 3   20150720_N  8000 non-null   float64\n",
      " 4   20150602_N  8000 non-null   float64\n",
      " 5   20150517_N  8000 non-null   float64\n",
      " 6   20150501_N  8000 non-null   float64\n",
      " 7   20150415_N  8000 non-null   float64\n",
      " 8   20150330_N  8000 non-null   float64\n",
      " 9   20150314_N  8000 non-null   float64\n",
      " 10  20150226_N  8000 non-null   float64\n",
      " 11  20150210_N  8000 non-null   float64\n",
      " 12  20150125_N  8000 non-null   float64\n",
      " 13  20150109_N  8000 non-null   float64\n",
      " 14  20141117_N  8000 non-null   float64\n",
      " 15  20141101_N  8000 non-null   float64\n",
      " 16  20141016_N  8000 non-null   float64\n",
      " 17  20140930_N  8000 non-null   float64\n",
      " 18  20140813_N  8000 non-null   float64\n",
      " 19  20140626_N  8000 non-null   float64\n",
      " 20  20140610_N  8000 non-null   float64\n",
      " 21  20140525_N  8000 non-null   float64\n",
      " 22  20140509_N  8000 non-null   float64\n",
      " 23  20140423_N  8000 non-null   float64\n",
      " 24  20140407_N  8000 non-null   float64\n",
      " 25  20140322_N  8000 non-null   float64\n",
      " 26  20140218_N  8000 non-null   float64\n",
      " 27  20140202_N  8000 non-null   float64\n",
      " 28  20140117_N  8000 non-null   float64\n",
      " 29  20140101_N  8000 non-null   float64\n",
      " 30  mean        8000 non-null   float64\n",
      " 31  median      8000 non-null   float64\n",
      " 32  std         8000 non-null   float64\n",
      " 33  max         8000 non-null   float64\n",
      " 34  min         8000 non-null   float64\n",
      " 35  range       8000 non-null   float64\n",
      "dtypes: float64(33), int64(2), object(1)\n",
      "memory usage: 2.2+ MB\n"
     ]
    }
   ],
   "source": [
    "X = df.drop(columns=['Unnamed: 0', 'ID', 'class'] + list(ndvi_columns))\n",
    "y = df['class']\n",
    "df.info()"
   ]
  },
  {
   "cell_type": "code",
   "execution_count": 12,
   "id": "fc2e9ae6",
   "metadata": {
    "execution": {
     "iopub.execute_input": "2025-06-13T23:15:13.250971Z",
     "iopub.status.busy": "2025-06-13T23:15:13.250725Z",
     "iopub.status.idle": "2025-06-13T23:15:14.788251Z",
     "shell.execute_reply": "2025-06-13T23:15:14.786761Z"
    },
    "id": "c5a6f9fa",
    "outputId": "31724303-5f00-43d2-cd67-28a513593134",
    "papermill": {
     "duration": 1.547407,
     "end_time": "2025-06-13T23:15:14.789917",
     "exception": false,
     "start_time": "2025-06-13T23:15:13.242510",
     "status": "completed"
    },
    "tags": []
   },
   "outputs": [
    {
     "name": "stdout",
     "output_type": "stream",
     "text": [
      "              precision    recall  f1-score   support\n",
      "\n",
      "        farm       0.69      0.76      0.73       168\n",
      "      forest       0.96      0.99      0.97      1232\n",
      "       grass       0.00      0.00      0.00        39\n",
      "  impervious       0.72      0.74      0.73       134\n",
      "     orchard       0.00      0.00      0.00         6\n",
      "       water       0.00      0.00      0.00        21\n",
      "\n",
      "    accuracy                           0.90      1600\n",
      "   macro avg       0.39      0.42      0.40      1600\n",
      "weighted avg       0.87      0.90      0.89      1600\n",
      "\n"
     ]
    }
   ],
   "source": [
    "import pandas as pd\n",
    "from sklearn.linear_model import LogisticRegression\n",
    "from sklearn.model_selection import train_test_split\n",
    "from sklearn.preprocessing import LabelEncoder\n",
    "from sklearn.metrics import classification_report\n",
    "\n",
    "# Drop ID column\n",
    "df.drop(columns=['ID'], inplace=True)\n",
    "\n",
    "# Encode class column (if it's categorical)\n",
    "label_encoder = LabelEncoder()\n",
    "df['class'] = label_encoder.fit_transform(df['class'])\n",
    "\n",
    "# Split into features and target\n",
    "X = df.drop(columns=['class'])\n",
    "y = df['class']\n",
    "\n",
    "# Train-test split\n",
    "X_train, X_test, y_train, y_test = train_test_split(\n",
    "    X, y, test_size=0.2, random_state=42, stratify=y)\n",
    "\n",
    "# Fit multinomial logistic regression\n",
    "model = LogisticRegression(\n",
    "    multi_class='multinomial',\n",
    "    solver='lbfgs',\n",
    "    max_iter=10\n",
    ")\n",
    "model.fit(X_train, y_train)\n",
    "\n",
    "# Predict on test set\n",
    "y_pred = model.predict(X_test)\n",
    "\n",
    "# Classification report with all original class labels\n",
    "print(classification_report(\n",
    "    y_test,\n",
    "    y_pred,\n",
    "    labels=list(range(len(label_encoder.classes_))),\n",
    "    target_names=label_encoder.classes_\n",
    "))\n"
   ]
  },
  {
   "cell_type": "code",
   "execution_count": 13,
   "id": "5c3d0b14",
   "metadata": {
    "execution": {
     "iopub.execute_input": "2025-06-13T23:15:14.814516Z",
     "iopub.status.busy": "2025-06-13T23:15:14.814020Z",
     "iopub.status.idle": "2025-06-13T23:15:15.164183Z",
     "shell.execute_reply": "2025-06-13T23:15:15.163294Z"
    },
    "papermill": {
     "duration": 0.36421,
     "end_time": "2025-06-13T23:15:15.165758",
     "exception": false,
     "start_time": "2025-06-13T23:15:14.801548",
     "status": "completed"
    },
    "tags": []
   },
   "outputs": [
    {
     "data": {
      "text/html": [
       "<style>#sk-container-id-1 {color: black;background-color: white;}#sk-container-id-1 pre{padding: 0;}#sk-container-id-1 div.sk-toggleable {background-color: white;}#sk-container-id-1 label.sk-toggleable__label {cursor: pointer;display: block;width: 100%;margin-bottom: 0;padding: 0.3em;box-sizing: border-box;text-align: center;}#sk-container-id-1 label.sk-toggleable__label-arrow:before {content: \"▸\";float: left;margin-right: 0.25em;color: #696969;}#sk-container-id-1 label.sk-toggleable__label-arrow:hover:before {color: black;}#sk-container-id-1 div.sk-estimator:hover label.sk-toggleable__label-arrow:before {color: black;}#sk-container-id-1 div.sk-toggleable__content {max-height: 0;max-width: 0;overflow: hidden;text-align: left;background-color: #f0f8ff;}#sk-container-id-1 div.sk-toggleable__content pre {margin: 0.2em;color: black;border-radius: 0.25em;background-color: #f0f8ff;}#sk-container-id-1 input.sk-toggleable__control:checked~div.sk-toggleable__content {max-height: 200px;max-width: 100%;overflow: auto;}#sk-container-id-1 input.sk-toggleable__control:checked~label.sk-toggleable__label-arrow:before {content: \"▾\";}#sk-container-id-1 div.sk-estimator input.sk-toggleable__control:checked~label.sk-toggleable__label {background-color: #d4ebff;}#sk-container-id-1 div.sk-label input.sk-toggleable__control:checked~label.sk-toggleable__label {background-color: #d4ebff;}#sk-container-id-1 input.sk-hidden--visually {border: 0;clip: rect(1px 1px 1px 1px);clip: rect(1px, 1px, 1px, 1px);height: 1px;margin: -1px;overflow: hidden;padding: 0;position: absolute;width: 1px;}#sk-container-id-1 div.sk-estimator {font-family: monospace;background-color: #f0f8ff;border: 1px dotted black;border-radius: 0.25em;box-sizing: border-box;margin-bottom: 0.5em;}#sk-container-id-1 div.sk-estimator:hover {background-color: #d4ebff;}#sk-container-id-1 div.sk-parallel-item::after {content: \"\";width: 100%;border-bottom: 1px solid gray;flex-grow: 1;}#sk-container-id-1 div.sk-label:hover label.sk-toggleable__label {background-color: #d4ebff;}#sk-container-id-1 div.sk-serial::before {content: \"\";position: absolute;border-left: 1px solid gray;box-sizing: border-box;top: 0;bottom: 0;left: 50%;z-index: 0;}#sk-container-id-1 div.sk-serial {display: flex;flex-direction: column;align-items: center;background-color: white;padding-right: 0.2em;padding-left: 0.2em;position: relative;}#sk-container-id-1 div.sk-item {position: relative;z-index: 1;}#sk-container-id-1 div.sk-parallel {display: flex;align-items: stretch;justify-content: center;background-color: white;position: relative;}#sk-container-id-1 div.sk-item::before, #sk-container-id-1 div.sk-parallel-item::before {content: \"\";position: absolute;border-left: 1px solid gray;box-sizing: border-box;top: 0;bottom: 0;left: 50%;z-index: -1;}#sk-container-id-1 div.sk-parallel-item {display: flex;flex-direction: column;z-index: 1;position: relative;background-color: white;}#sk-container-id-1 div.sk-parallel-item:first-child::after {align-self: flex-end;width: 50%;}#sk-container-id-1 div.sk-parallel-item:last-child::after {align-self: flex-start;width: 50%;}#sk-container-id-1 div.sk-parallel-item:only-child::after {width: 0;}#sk-container-id-1 div.sk-dashed-wrapped {border: 1px dashed gray;margin: 0 0.4em 0.5em 0.4em;box-sizing: border-box;padding-bottom: 0.4em;background-color: white;}#sk-container-id-1 div.sk-label label {font-family: monospace;font-weight: bold;display: inline-block;line-height: 1.2em;}#sk-container-id-1 div.sk-label-container {text-align: center;}#sk-container-id-1 div.sk-container {/* jupyter's `normalize.less` sets `[hidden] { display: none; }` but bootstrap.min.css set `[hidden] { display: none !important; }` so we also need the `!important` here to be able to override the default hidden behavior on the sphinx rendered scikit-learn.org. See: https://github.com/scikit-learn/scikit-learn/issues/21755 */display: inline-block !important;position: relative;}#sk-container-id-1 div.sk-text-repr-fallback {display: none;}</style><div id=\"sk-container-id-1\" class=\"sk-top-container\"><div class=\"sk-text-repr-fallback\"><pre>LogisticRegression(C=0.1, max_iter=1000, multi_class=&#x27;ovr&#x27;, penalty=&#x27;l1&#x27;,\n",
       "                   random_state=42, solver=&#x27;liblinear&#x27;)</pre><b>In a Jupyter environment, please rerun this cell to show the HTML representation or trust the notebook. <br />On GitHub, the HTML representation is unable to render, please try loading this page with nbviewer.org.</b></div><div class=\"sk-container\" hidden><div class=\"sk-item\"><div class=\"sk-estimator sk-toggleable\"><input class=\"sk-toggleable__control sk-hidden--visually\" id=\"sk-estimator-id-1\" type=\"checkbox\" checked><label for=\"sk-estimator-id-1\" class=\"sk-toggleable__label sk-toggleable__label-arrow\">LogisticRegression</label><div class=\"sk-toggleable__content\"><pre>LogisticRegression(C=0.1, max_iter=1000, multi_class=&#x27;ovr&#x27;, penalty=&#x27;l1&#x27;,\n",
       "                   random_state=42, solver=&#x27;liblinear&#x27;)</pre></div></div></div></div></div>"
      ],
      "text/plain": [
       "LogisticRegression(C=0.1, max_iter=1000, multi_class='ovr', penalty='l1',\n",
       "                   random_state=42, solver='liblinear')"
      ]
     },
     "execution_count": 13,
     "metadata": {},
     "output_type": "execute_result"
    }
   ],
   "source": [
    "from sklearn.linear_model import LogisticRegression\n",
    "from sklearn.preprocessing import StandardScaler\n",
    "\n",
    "# Scale the features\n",
    "scaler = StandardScaler()\n",
    "X_train_scaled = scaler.fit_transform(X_train)\n",
    "X_test_scaled = scaler.transform(X_test)\n",
    "\n",
    "# Train the Logistic Regression model\n",
    "model = LogisticRegression(\n",
    "multi_class='ovr', # One-vs-Rest strategy for multiclass\n",
    "solver='liblinear',\n",
    "penalty='l1', # or 'l2'\n",
    "C=0.1, # Adjust regularization strength\n",
    "random_state=42,\n",
    "max_iter=1000\n",
    ")\n",
    "\n",
    "model.fit(X_train_scaled, y_train)"
   ]
  },
  {
   "cell_type": "code",
   "execution_count": 14,
   "id": "8e024d0e",
   "metadata": {
    "execution": {
     "iopub.execute_input": "2025-06-13T23:15:15.181241Z",
     "iopub.status.busy": "2025-06-13T23:15:15.180993Z",
     "iopub.status.idle": "2025-06-13T23:15:16.068276Z",
     "shell.execute_reply": "2025-06-13T23:15:16.067476Z"
    },
    "papermill": {
     "duration": 0.896233,
     "end_time": "2025-06-13T23:15:16.069622",
     "exception": false,
     "start_time": "2025-06-13T23:15:15.173389",
     "status": "completed"
    },
    "tags": []
   },
   "outputs": [
    {
     "name": "stdout",
     "output_type": "stream",
     "text": [
      "Accuracy: 0.94375\n",
      "              precision    recall  f1-score   support\n",
      "\n",
      "        farm       0.86      0.79      0.82       168\n",
      "      forest       0.97      0.99      0.98      1232\n",
      "       grass       0.81      0.54      0.65        39\n",
      "  impervious       0.81      0.89      0.85       134\n",
      "     orchard       0.00      0.00      0.00         6\n",
      "       water       0.87      0.62      0.72        21\n",
      "\n",
      "    accuracy                           0.94      1600\n",
      "   macro avg       0.72      0.64      0.67      1600\n",
      "weighted avg       0.94      0.94      0.94      1600\n",
      "\n",
      "Confusion Matrix:\n",
      "[[ 132   18    2   15    0    1]\n",
      " [   5 1225    0    1    0    1]\n",
      " [   6    1   21   11    0    0]\n",
      " [   8    4    3  119    0    0]\n",
      " [   3    3    0    0    0    0]\n",
      " [   0    7    0    1    0   13]]\n"
     ]
    },
    {
     "data": {
      "image/png": "[encoded data removed]",
      "text/plain": [
       "<Figure size 640x480 with 2 Axes>"
      ]
     },
     "metadata": {},
     "output_type": "display_data"
    }
   ],
   "source": [
    "from sklearn.metrics import accuracy_score, classification_report, confusion_matrix\n",
    "import seaborn as sns \n",
    "import matplotlib.pyplot as plt \n",
    "\n",
    "# Make predictions\n",
    "y_pred = model.predict(X_test_scaled)\n",
    "\n",
    "# Evaluate the model\n",
    "accuracy = accuracy_score(y_test, y_pred)\n",
    "print(f'Accuracy: {accuracy}')\n",
    "\n",
    "print(classification_report(y_test, y_pred, target_names=label_encoder.classes_))\n",
    "\n",
    "conf_matrix = confusion_matrix(y_test, y_pred)\n",
    "print(\"Confusion Matrix:\")\n",
    "print(conf_matrix)\n",
    "\n",
    "sns.heatmap(conf_matrix, annot=True, fmt='d', cmap='Blues',\n",
    "xticklabels=label_encoder.classes_,\n",
    "yticklabels=label_encoder.classes_)\n",
    "plt.xlabel('Predicted Label')\n",
    "plt.ylabel('True Label')\n",
    "plt.title('Confusion Matrix')\n",
    "plt.show()"
   ]
  },
  {
   "cell_type": "code",
   "execution_count": 15,
   "id": "3dbaf0db",
   "metadata": {
    "execution": {
     "iopub.execute_input": "2025-06-13T23:15:16.085837Z",
     "iopub.status.busy": "2025-06-13T23:15:16.085447Z",
     "iopub.status.idle": "2025-06-13T23:15:39.553318Z",
     "shell.execute_reply": "2025-06-13T23:15:39.552366Z"
    },
    "papermill": {
     "duration": 23.477255,
     "end_time": "2025-06-13T23:15:39.554723",
     "exception": false,
     "start_time": "2025-06-13T23:15:16.077468",
     "status": "completed"
    },
    "tags": []
   },
   "outputs": [
    {
     "name": "stdout",
     "output_type": "stream",
     "text": [
      "Best parameters: {'C': 10}\n",
      "Best cross-validation score: 0.9554680887492232\n"
     ]
    }
   ],
   "source": [
    "from sklearn.model_selection import GridSearchCV\n",
    "\n",
    "param_grid = {\n",
    "'C': [0.001, 0.01, 0.1, 1, 10]\n",
    "}\n",
    "\n",
    "grid_search = GridSearchCV(LogisticRegression(\n",
    "multi_class='ovr',\n",
    "solver='liblinear',\n",
    "penalty='l1',\n",
    "random_state=42,\n",
    "max_iter=1000\n",
    "), param_grid, cv=3, scoring='accuracy')\n",
    "\n",
    "grid_search.fit(X_train_scaled, y_train)\n",
    "\n",
    "print(\"Best parameters:\", grid_search.best_params_)\n",
    "print(\"Best cross-validation score:\", grid_search.best_score_)\n",
    "\n",
    "best_model = grid_search.best_estimator_"
   ]
  },
  {
   "cell_type": "code",
   "execution_count": 16,
   "id": "1f68a18a",
   "metadata": {
    "execution": {
     "iopub.execute_input": "2025-06-13T23:15:39.571643Z",
     "iopub.status.busy": "2025-06-13T23:15:39.571361Z",
     "iopub.status.idle": "2025-06-13T23:15:39.601547Z",
     "shell.execute_reply": "2025-06-13T23:15:39.600786Z"
    },
    "id": "ff1cd1b8",
    "outputId": "52d002c8-6ac5-4938-85b2-a730609224c3",
    "papermill": {
     "duration": 0.039935,
     "end_time": "2025-06-13T23:15:39.602862",
     "exception": false,
     "start_time": "2025-06-13T23:15:39.562927",
     "status": "completed"
    },
    "tags": []
   },
   "outputs": [
    {
     "data": {
      "text/plain": [
       "(2845, 29)"
      ]
     },
     "execution_count": 16,
     "metadata": {},
     "output_type": "execute_result"
    }
   ],
   "source": [
    "test_data = pd.read_csv(\"/kaggle/input/first-hackathon/hacktest.csv\")\n",
    "test_data.shape\n"
   ]
  },
  {
   "cell_type": "code",
   "execution_count": 17,
   "id": "4bed61ff",
   "metadata": {
    "execution": {
     "iopub.execute_input": "2025-06-13T23:15:39.620495Z",
     "iopub.status.busy": "2025-06-13T23:15:39.619664Z",
     "iopub.status.idle": "2025-06-13T23:15:39.665275Z",
     "shell.execute_reply": "2025-06-13T23:15:39.664454Z"
    },
    "id": "ac73a96b",
    "papermill": {
     "duration": 0.055749,
     "end_time": "2025-06-13T23:15:39.666885",
     "exception": false,
     "start_time": "2025-06-13T23:15:39.611136",
     "status": "completed"
    },
    "tags": []
   },
   "outputs": [],
   "source": [
    "test_data[ndvi_columns] = test_data[ndvi_columns].interpolate(axis=1)\n",
    "test_data[ndvi_columns] = test_data[ndvi_columns].fillna(method='bfill', axis=1)\n",
    "test_data[ndvi_columns] = test_data[ndvi_columns].fillna(method='ffill', axis=1)"
   ]
  },
  {
   "cell_type": "code",
   "execution_count": 18,
   "id": "08e61ec9",
   "metadata": {
    "execution": {
     "iopub.execute_input": "2025-06-13T23:15:39.686650Z",
     "iopub.status.busy": "2025-06-13T23:15:39.686345Z",
     "iopub.status.idle": "2025-06-13T23:15:39.794394Z",
     "shell.execute_reply": "2025-06-13T23:15:39.793703Z"
    },
    "papermill": {
     "duration": 0.118938,
     "end_time": "2025-06-13T23:15:39.796203",
     "exception": false,
     "start_time": "2025-06-13T23:15:39.677265",
     "status": "completed"
    },
    "tags": []
   },
   "outputs": [],
   "source": [
    "window_size = 3\n",
    "test_data[ndvi_columns] = test_data[ndvi_columns].rolling(window=window_size, axis=1).mean().fillna(method='bfill', axis=1).fillna(method='ffill', axis=1)"
   ]
  },
  {
   "cell_type": "code",
   "execution_count": 19,
   "id": "226ade4a",
   "metadata": {
    "execution": {
     "iopub.execute_input": "2025-06-13T23:15:39.813719Z",
     "iopub.status.busy": "2025-06-13T23:15:39.813405Z",
     "iopub.status.idle": "2025-06-13T23:15:39.832871Z",
     "shell.execute_reply": "2025-06-13T23:15:39.832293Z"
    },
    "papermill": {
     "duration": 0.029377,
     "end_time": "2025-06-13T23:15:39.834005",
     "exception": false,
     "start_time": "2025-06-13T23:15:39.804628",
     "status": "completed"
    },
    "tags": []
   },
   "outputs": [],
   "source": [
    "test_data['NDVI_mean'] = test_data[ndvi_columns].mean(axis=1)\n",
    "test_data['NDVI_median'] = test_data[ndvi_columns].median(axis=1)\n",
    "test_data['NDVI_std'] = test_data[ndvi_columns].std(axis=1)\n",
    "test_data['NDVI_max'] = test_data[ndvi_columns].max(axis=1)\n",
    "test_data['NDVI_min'] = test_data[ndvi_columns].min(axis=1)\n",
    "test_data['NDVI_range'] = test_data['NDVI_max'] - test_data['NDVI_min']"
   ]
  },
  {
   "cell_type": "code",
   "execution_count": 20,
   "id": "b0581539",
   "metadata": {
    "execution": {
     "iopub.execute_input": "2025-06-13T23:15:39.850696Z",
     "iopub.status.busy": "2025-06-13T23:15:39.850206Z",
     "iopub.status.idle": "2025-06-13T23:15:39.854343Z",
     "shell.execute_reply": "2025-06-13T23:15:39.853798Z"
    },
    "papermill": {
     "duration": 0.013399,
     "end_time": "2025-06-13T23:15:39.855517",
     "exception": false,
     "start_time": "2025-06-13T23:15:39.842118",
     "status": "completed"
    },
    "tags": []
   },
   "outputs": [],
   "source": [
    "X_test = test_data.drop(columns=['Unnamed: 0', \"ID\"] + list(ndvi_columns))"
   ]
  },
  {
   "cell_type": "code",
   "execution_count": 21,
   "id": "19ca0ace",
   "metadata": {
    "execution": {
     "iopub.execute_input": "2025-06-13T23:15:39.871935Z",
     "iopub.status.busy": "2025-06-13T23:15:39.871662Z",
     "iopub.status.idle": "2025-06-13T23:15:39.882391Z",
     "shell.execute_reply": "2025-06-13T23:15:39.881608Z"
    },
    "papermill": {
     "duration": 0.020701,
     "end_time": "2025-06-13T23:15:39.883803",
     "exception": false,
     "start_time": "2025-06-13T23:15:39.863102",
     "status": "completed"
    },
    "tags": []
   },
   "outputs": [],
   "source": [
    "X = df.drop(columns=[\"class\"])\n",
    "y = df[\"class\"]\n",
    "\n",
    "X_train, X_test, y_train, y_test = train_test_split(X, y, test_size=0.25, random_state=42)"
   ]
  },
  {
   "cell_type": "code",
   "execution_count": 22,
   "id": "2ccae106",
   "metadata": {
    "execution": {
     "iopub.execute_input": "2025-06-13T23:15:39.900090Z",
     "iopub.status.busy": "2025-06-13T23:15:39.899849Z",
     "iopub.status.idle": "2025-06-13T23:15:39.909171Z",
     "shell.execute_reply": "2025-06-13T23:15:39.908602Z"
    },
    "papermill": {
     "duration": 0.018612,
     "end_time": "2025-06-13T23:15:39.910333",
     "exception": false,
     "start_time": "2025-06-13T23:15:39.891721",
     "status": "completed"
    },
    "tags": []
   },
   "outputs": [],
   "source": [
    "X_test_scaled = scaler.fit_transform(X_test)"
   ]
  },
  {
   "cell_type": "code",
   "execution_count": 23,
   "id": "ab379cc5",
   "metadata": {
    "execution": {
     "iopub.execute_input": "2025-06-13T23:15:39.926707Z",
     "iopub.status.busy": "2025-06-13T23:15:39.926024Z",
     "iopub.status.idle": "2025-06-13T23:15:40.491761Z",
     "shell.execute_reply": "2025-06-13T23:15:40.488883Z"
    },
    "papermill": {
     "duration": 0.576618,
     "end_time": "2025-06-13T23:15:40.494544",
     "exception": false,
     "start_time": "2025-06-13T23:15:39.917926",
     "status": "completed"
    },
    "tags": []
   },
   "outputs": [],
   "source": [
    "import pandas as pd\n",
    "from sklearn.model_selection import train_test_split\n",
    "from sklearn.preprocessing import StandardScaler\n",
    "from sklearn.linear_model import LogisticRegression\n",
    "\n",
    "\n",
    "# Optional: Split for local testing\n",
    "X_train, X_test, y_train, y_test = train_test_split(X, y, test_size=0.2, random_state=42)\n",
    "\n",
    "# Align columns if needed\n",
    "X_test = X_test[X_train.columns]  # Make sure test matches train\n",
    "\n",
    "# Scale the data\n",
    "scaler = StandardScaler()\n",
    "X_train_scaled = scaler.fit_transform(X_train)\n",
    "X_test_scaled = scaler.transform(X_test)\n",
    "\n",
    "# Train the model\n",
    "model = LogisticRegression()\n",
    "model.fit(X_train_scaled, y_train)\n",
    "\n",
    "# Predict\n",
    "predictions = model.predict(X_test_scaled)"
   ]
  },
  {
   "cell_type": "code",
   "execution_count": 24,
   "id": "1c8ea5c1",
   "metadata": {
    "execution": {
     "iopub.execute_input": "2025-06-13T23:15:40.526680Z",
     "iopub.status.busy": "2025-06-13T23:15:40.526089Z",
     "iopub.status.idle": "2025-06-13T23:15:40.532683Z",
     "shell.execute_reply": "2025-06-13T23:15:40.531929Z"
    },
    "papermill": {
     "duration": 0.021796,
     "end_time": "2025-06-13T23:15:40.534406",
     "exception": false,
     "start_time": "2025-06-13T23:15:40.512610",
     "status": "completed"
    },
    "tags": []
   },
   "outputs": [
    {
     "name": "stdout",
     "output_type": "stream",
     "text": [
      "Accuracy: 0.62625\n"
     ]
    }
   ],
   "source": [
    "print(\"Accuracy:\", accuracy_score(y_test, y_pred))"
   ]
  },
  {
   "cell_type": "code",
   "execution_count": 25,
   "id": "0e3d4198",
   "metadata": {
    "execution": {
     "iopub.execute_input": "2025-06-13T23:15:40.562713Z",
     "iopub.status.busy": "2025-06-13T23:15:40.562396Z",
     "iopub.status.idle": "2025-06-13T23:15:40.569361Z",
     "shell.execute_reply": "2025-06-13T23:15:40.568727Z"
    },
    "papermill": {
     "duration": 0.0227,
     "end_time": "2025-06-13T23:15:40.570863",
     "exception": false,
     "start_time": "2025-06-13T23:15:40.548163",
     "status": "completed"
    },
    "tags": []
   },
   "outputs": [
    {
     "name": "stdout",
     "output_type": "stream",
     "text": [
      "Number of predictions: 1600\n",
      "Number of test samples: 2845\n"
     ]
    }
   ],
   "source": [
    "print(f\"Number of predictions: {len(predictions)}\")\n",
    "print(f\"Number of test samples: {len(test_data)}\")"
   ]
  },
  {
   "cell_type": "code",
   "execution_count": 26,
   "id": "b4d50efc",
   "metadata": {
    "execution": {
     "iopub.execute_input": "2025-06-13T23:15:40.600134Z",
     "iopub.status.busy": "2025-06-13T23:15:40.599728Z",
     "iopub.status.idle": "2025-06-13T23:15:40.605185Z",
     "shell.execute_reply": "2025-06-13T23:15:40.604316Z"
    },
    "papermill": {
     "duration": 0.021349,
     "end_time": "2025-06-13T23:15:40.606495",
     "exception": false,
     "start_time": "2025-06-13T23:15:40.585146",
     "status": "completed"
    },
    "tags": []
   },
   "outputs": [],
   "source": [
    "\n",
    "X_test = test_data.drop(columns=['Unnamed: 0', 'ID'] + list(ndvi_columns), errors='ignore')"
   ]
  },
  {
   "cell_type": "code",
   "execution_count": 27,
   "id": "18ea7bab",
   "metadata": {
    "execution": {
     "iopub.execute_input": "2025-06-13T23:15:40.623626Z",
     "iopub.status.busy": "2025-06-13T23:15:40.622953Z",
     "iopub.status.idle": "2025-06-13T23:15:40.627334Z",
     "shell.execute_reply": "2025-06-13T23:15:40.626485Z"
    },
    "papermill": {
     "duration": 0.014051,
     "end_time": "2025-06-13T23:15:40.628589",
     "exception": false,
     "start_time": "2025-06-13T23:15:40.614538",
     "status": "completed"
    },
    "tags": []
   },
   "outputs": [
    {
     "name": "stdout",
     "output_type": "stream",
     "text": [
      "(2845, 6)\n"
     ]
    }
   ],
   "source": [
    "print(X_test.shape)"
   ]
  },
  {
   "cell_type": "code",
   "execution_count": 28,
   "id": "cb71949b",
   "metadata": {
    "execution": {
     "iopub.execute_input": "2025-06-13T23:15:40.645040Z",
     "iopub.status.busy": "2025-06-13T23:15:40.644814Z",
     "iopub.status.idle": "2025-06-13T23:15:40.649074Z",
     "shell.execute_reply": "2025-06-13T23:15:40.648221Z"
    },
    "papermill": {
     "duration": 0.013716,
     "end_time": "2025-06-13T23:15:40.650282",
     "exception": false,
     "start_time": "2025-06-13T23:15:40.636566",
     "status": "completed"
    },
    "tags": []
   },
   "outputs": [
    {
     "name": "stdout",
     "output_type": "stream",
     "text": [
      "(1600,)\n"
     ]
    }
   ],
   "source": [
    "print(predictions.shape)\n"
   ]
  },
  {
   "cell_type": "code",
   "execution_count": 29,
   "id": "e26958a0",
   "metadata": {
    "execution": {
     "iopub.execute_input": "2025-06-13T23:15:40.666727Z",
     "iopub.status.busy": "2025-06-13T23:15:40.666495Z",
     "iopub.status.idle": "2025-06-13T23:15:40.671721Z",
     "shell.execute_reply": "2025-06-13T23:15:40.670907Z"
    },
    "papermill": {
     "duration": 0.014888,
     "end_time": "2025-06-13T23:15:40.673237",
     "exception": false,
     "start_time": "2025-06-13T23:15:40.658349",
     "status": "completed"
    },
    "tags": []
   },
   "outputs": [],
   "source": [
    "predictions = model.predict(X_test_scaled) # X_test_scaled should have the correct number of rows\n",
    "predicted_classes = label_encoder.inverse_transform(predictions) # Make sure the label_encoder is fitted correctly"
   ]
  },
  {
   "cell_type": "code",
   "execution_count": 30,
   "id": "48cbcbf7",
   "metadata": {
    "execution": {
     "iopub.execute_input": "2025-06-13T23:15:40.739892Z",
     "iopub.status.busy": "2025-06-13T23:15:40.739595Z",
     "iopub.status.idle": "2025-06-13T23:15:40.743065Z",
     "shell.execute_reply": "2025-06-13T23:15:40.742459Z"
    },
    "papermill": {
     "duration": 0.013121,
     "end_time": "2025-06-13T23:15:40.744107",
     "exception": false,
     "start_time": "2025-06-13T23:15:40.730986",
     "status": "completed"
    },
    "tags": []
   },
   "outputs": [],
   "source": [
    "\n",
    "#submission = pd.DataFrame({\n",
    "#'ID': X_test ['ID'], # Use test_data to access the 'ID' column\n",
    "#'PredictedClass': label_encoder.inverse_transform(predictions) # Convert encoded labels back to original class names\n",
    "#})\n",
    "\n",
    "\n",
    "#submission.to_csv('submission.csv', index=False)\n",
    "\n",
    "\n",
    "#print(submission.head())"
   ]
  },
  {
   "cell_type": "code",
   "execution_count": 31,
   "id": "154845a9",
   "metadata": {
    "execution": {
     "iopub.execute_input": "2025-06-13T23:15:40.760829Z",
     "iopub.status.busy": "2025-06-13T23:15:40.760580Z",
     "iopub.status.idle": "2025-06-13T23:15:40.764559Z",
     "shell.execute_reply": "2025-06-13T23:15:40.763964Z"
    },
    "papermill": {
     "duration": 0.013409,
     "end_time": "2025-06-13T23:15:40.765569",
     "exception": false,
     "start_time": "2025-06-13T23:15:40.752160",
     "status": "completed"
    },
    "tags": []
   },
   "outputs": [],
   "source": [
    "predictions = model.predict(X_test_scaled)"
   ]
  },
  {
   "cell_type": "code",
   "execution_count": null,
   "id": "55067cd3",
   "metadata": {
    "papermill": {
     "duration": 0.007656,
     "end_time": "2025-06-13T23:15:40.780938",
     "exception": false,
     "start_time": "2025-06-13T23:15:40.773282",
     "status": "completed"
    },
    "tags": []
   },
   "outputs": [],
   "source": []
  },
  {
   "cell_type": "code",
   "execution_count": 32,
   "id": "f40b2784",
   "metadata": {
    "execution": {
     "iopub.execute_input": "2025-06-13T23:15:40.796966Z",
     "iopub.status.busy": "2025-06-13T23:15:40.796718Z",
     "iopub.status.idle": "2025-06-13T23:15:40.800102Z",
     "shell.execute_reply": "2025-06-13T23:15:40.799319Z"
    },
    "id": "e65b77a4",
    "papermill": {
     "duration": 0.012919,
     "end_time": "2025-06-13T23:15:40.801321",
     "exception": false,
     "start_time": "2025-06-13T23:15:40.788402",
     "status": "completed"
    },
    "tags": []
   },
   "outputs": [],
   "source": [
    "#y_test = model.predict(test_data)"
   ]
  },
  {
   "cell_type": "code",
   "execution_count": 33,
   "id": "235f7939",
   "metadata": {
    "execution": {
     "iopub.execute_input": "2025-06-13T23:15:40.818014Z",
     "iopub.status.busy": "2025-06-13T23:15:40.817801Z",
     "iopub.status.idle": "2025-06-13T23:15:40.823723Z",
     "shell.execute_reply": "2025-06-13T23:15:40.823137Z"
    },
    "id": "44be4c4c",
    "outputId": "eac2117d-0d28-4e83-f112-4097d993b814",
    "papermill": {
     "duration": 0.015776,
     "end_time": "2025-06-13T23:15:40.824896",
     "exception": false,
     "start_time": "2025-06-13T23:15:40.809120",
     "status": "completed"
    },
    "tags": []
   },
   "outputs": [
    {
     "data": {
      "text/plain": [
       "2215    1\n",
       "2582    1\n",
       "1662    1\n",
       "3027    1\n",
       "4343    1\n",
       "       ..\n",
       "1079    1\n",
       "7979    4\n",
       "1115    1\n",
       "6093    1\n",
       "6832    0\n",
       "Name: class, Length: 1600, dtype: int64"
      ]
     },
     "execution_count": 33,
     "metadata": {},
     "output_type": "execute_result"
    }
   ],
   "source": [
    "y_test"
   ]
  },
  {
   "cell_type": "code",
   "execution_count": 34,
   "id": "91b8d7cb",
   "metadata": {
    "execution": {
     "iopub.execute_input": "2025-06-13T23:15:40.841094Z",
     "iopub.status.busy": "2025-06-13T23:15:40.840881Z",
     "iopub.status.idle": "2025-06-13T23:15:40.845933Z",
     "shell.execute_reply": "2025-06-13T23:15:40.845368Z"
    },
    "id": "aeee262b",
    "outputId": "30fe79e6-90e5-456f-f1cd-1675292494f9",
    "papermill": {
     "duration": 0.01474,
     "end_time": "2025-06-13T23:15:40.847132",
     "exception": false,
     "start_time": "2025-06-13T23:15:40.832392",
     "status": "completed"
    },
    "tags": []
   },
   "outputs": [
    {
     "data": {
      "text/plain": [
       "array(['forest', 'forest', 'forest', ..., 'forest', 'forest', 'farm'],\n",
       "      dtype=object)"
      ]
     },
     "execution_count": 34,
     "metadata": {},
     "output_type": "execute_result"
    }
   ],
   "source": [
    "y_decoded = label_encoder.inverse_transform(y_test)\n",
    "y_decoded"
   ]
  },
  {
   "cell_type": "code",
   "execution_count": 35,
   "id": "0c523585",
   "metadata": {
    "execution": {
     "iopub.execute_input": "2025-06-13T23:15:40.863918Z",
     "iopub.status.busy": "2025-06-13T23:15:40.863705Z",
     "iopub.status.idle": "2025-06-13T23:15:40.866797Z",
     "shell.execute_reply": "2025-06-13T23:15:40.866195Z"
    },
    "id": "e10db231",
    "papermill": {
     "duration": 0.013041,
     "end_time": "2025-06-13T23:15:40.867967",
     "exception": false,
     "start_time": "2025-06-13T23:15:40.854926",
     "status": "completed"
    },
    "tags": []
   },
   "outputs": [],
   "source": [
    "#result = pd.DataFrame({\n",
    "#    'ID': ID,\n",
    "#    'class': y_decoded\n",
    "#})"
   ]
  },
  {
   "cell_type": "code",
   "execution_count": 36,
   "id": "391e0f7c",
   "metadata": {
    "execution": {
     "iopub.execute_input": "2025-06-13T23:15:40.883859Z",
     "iopub.status.busy": "2025-06-13T23:15:40.883664Z",
     "iopub.status.idle": "2025-06-13T23:15:40.886791Z",
     "shell.execute_reply": "2025-06-13T23:15:40.886028Z"
    },
    "id": "9906b67f",
    "outputId": "c200ba01-8fde-45d6-c673-3bd6f5faec4d",
    "papermill": {
     "duration": 0.012779,
     "end_time": "2025-06-13T23:15:40.888140",
     "exception": false,
     "start_time": "2025-06-13T23:15:40.875361",
     "status": "completed"
    },
    "tags": []
   },
   "outputs": [],
   "source": [
    "#result"
   ]
  },
  {
   "cell_type": "code",
   "execution_count": 37,
   "id": "09af25ff",
   "metadata": {
    "execution": {
     "iopub.execute_input": "2025-06-13T23:15:40.904832Z",
     "iopub.status.busy": "2025-06-13T23:15:40.904613Z",
     "iopub.status.idle": "2025-06-13T23:15:40.908008Z",
     "shell.execute_reply": "2025-06-13T23:15:40.907234Z"
    },
    "id": "484c74df",
    "papermill": {
     "duration": 0.013208,
     "end_time": "2025-06-13T23:15:40.909189",
     "exception": false,
     "start_time": "2025-06-13T23:15:40.895981",
     "status": "completed"
    },
    "tags": []
   },
   "outputs": [],
   "source": [
    "#result.to_csv(\"submission.csv\", index=False) #this file will appear under the output section of the right navbar. You need to submit this csv file"
   ]
  },
  {
   "cell_type": "code",
   "execution_count": null,
   "id": "58844c92",
   "metadata": {
    "id": "60bc6119",
    "papermill": {
     "duration": 0.007607,
     "end_time": "2025-06-13T23:15:40.924797",
     "exception": false,
     "start_time": "2025-06-13T23:15:40.917190",
     "status": "completed"
    },
    "tags": []
   },
   "outputs": [],
   "source": []
  }
 ],
 "metadata": {
  "colab": {
   "provenance": []
  },
  "kaggle": {
   "accelerator": "none",
   "dataSources": [
    {
     "datasetId": 7641817,
     "sourceId": 12134642,
     "sourceType": "datasetVersion"
    }
   ],
   "dockerImageVersionId": 31040,
   "isGpuEnabled": false,
   "isInternetEnabled": true,
   "language": "python",
   "sourceType": "notebook"
  },
  "kernelspec": {
   "display_name": "Python 3",
   "language": "python",
   "name": "python3"
  },
  "language_info": {
   "codemirror_mode": {
    "name": "ipython",
    "version": 3
   },
   "file_extension": ".py",
   "mimetype": "text/x-python",
   "name": "python",
   "nbconvert_exporter": "python",
   "pygments_lexer": "ipython3",
   "version": "3.11.11"
  },
  "papermill": {
   "default_parameters": {},
   "duration": 34.686767,
   "end_time": "2025-06-13T23:15:41.451616",
   "environment_variables": {},
   "exception": null,
   "input_path": "__notebook__.ipynb",
   "output_path": "__notebook__.ipynb",
   "parameters": {},
   "start_time": "2025-06-13T23:15:06.764849",
   "version": "2.6.0"
  }
 },
 "nbformat": 4,
 "nbformat_minor": 5
}
