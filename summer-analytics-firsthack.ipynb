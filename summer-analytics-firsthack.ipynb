{
 "cells": [
  {
   "cell_type": "code",
   "execution_count": 1,
   "id": "b5a81c7c",
   "metadata": {
    "_cell_guid": "b1076dfc-b9ad-4769-8c92-a6c4dae69d19",
    "_uuid": "8f2839f25d086af736a60e9eeb907d3b93b6e0e5",
    "execution": {
     "iopub.execute_input": "2025-06-07T17:48:07.193394Z",
     "iopub.status.busy": "2025-06-07T17:48:07.192971Z",
     "iopub.status.idle": "2025-06-07T17:48:07.203630Z",
     "shell.execute_reply": "2025-06-07T17:48:07.202616Z"
    },
    "papermill": {
     "duration": 0.023448,
     "end_time": "2025-06-07T17:48:07.205361",
     "exception": false,
     "start_time": "2025-06-07T17:48:07.181913",
     "status": "completed"
    },
    "tags": []
   },
   "outputs": [
    {
     "name": "stdout",
     "output_type": "stream",
     "text": [
      "/kaggle/input/summer-analytics-mid-hackathon/hacktest.csv\n",
      "hacktest.csv\n",
      "\n",
      "/kaggle/input/summer-analytics-mid-hackathon/hacktrain.csv\n",
      "hacktrain.csv\n",
      "\n"
     ]
    }
   ],
   "source": [
    "import os\n",
    "for dirname, _, filenames in os.walk('/kaggle/input/summer-analytics-mid-hackathon'):\n",
    "    for filename in filenames:\n",
    "        print(os.path.join(dirname, filename))\n",
    "        print(f\"{filename}\\n\")"
   ]
  },
  {
   "cell_type": "code",
   "execution_count": 2,
   "id": "cfb05fd1",
   "metadata": {
    "execution": {
     "iopub.execute_input": "2025-06-07T17:48:07.225119Z",
     "iopub.status.busy": "2025-06-07T17:48:07.224818Z",
     "iopub.status.idle": "2025-06-07T17:48:09.383131Z",
     "shell.execute_reply": "2025-06-07T17:48:09.382205Z"
    },
    "papermill": {
     "duration": 2.170465,
     "end_time": "2025-06-07T17:48:09.385101",
     "exception": false,
     "start_time": "2025-06-07T17:48:07.214636",
     "status": "completed"
    },
    "tags": []
   },
   "outputs": [],
   "source": [
    "import pandas as pd\n",
    "import numpy as np"
   ]
  },
  {
   "cell_type": "code",
   "execution_count": 3,
   "id": "22e07c26",
   "metadata": {
    "execution": {
     "iopub.execute_input": "2025-06-07T17:48:09.403950Z",
     "iopub.status.busy": "2025-06-07T17:48:09.403544Z",
     "iopub.status.idle": "2025-06-07T17:48:09.408330Z",
     "shell.execute_reply": "2025-06-07T17:48:09.407475Z"
    },
    "papermill": {
     "duration": 0.015871,
     "end_time": "2025-06-07T17:48:09.409819",
     "exception": false,
     "start_time": "2025-06-07T17:48:09.393948",
     "status": "completed"
    },
    "tags": []
   },
   "outputs": [],
   "source": [
    "import warnings\n",
    "\n",
    "warnings.filterwarnings('ignore')"
   ]
  },
  {
   "cell_type": "code",
   "execution_count": 4,
   "id": "83feb2b5",
   "metadata": {
    "execution": {
     "iopub.execute_input": "2025-06-07T17:48:09.428373Z",
     "iopub.status.busy": "2025-06-07T17:48:09.428042Z",
     "iopub.status.idle": "2025-06-07T17:48:09.544523Z",
     "shell.execute_reply": "2025-06-07T17:48:09.543513Z"
    },
    "papermill": {
     "duration": 0.127584,
     "end_time": "2025-06-07T17:48:09.546071",
     "exception": false,
     "start_time": "2025-06-07T17:48:09.418487",
     "status": "completed"
    },
    "tags": []
   },
   "outputs": [
    {
     "data": {
      "text/html": [
       "<div>\n",
       "<style scoped>\n",
       "    .dataframe tbody tr th:only-of-type {\n",
       "        vertical-align: middle;\n",
       "    }\n",
       "\n",
       "    .dataframe tbody tr th {\n",
       "        vertical-align: top;\n",
       "    }\n",
       "\n",
       "    .dataframe thead th {\n",
       "        text-align: right;\n",
       "    }\n",
       "</style>\n",
       "<table border=\"1\" class=\"dataframe\">\n",
       "  <thead>\n",
       "    <tr style=\"text-align: right;\">\n",
       "      <th></th>\n",
       "      <th>Unnamed: 0</th>\n",
       "      <th>ID</th>\n",
       "      <th>class</th>\n",
       "      <th>20150720_N</th>\n",
       "      <th>20150602_N</th>\n",
       "      <th>20150517_N</th>\n",
       "      <th>20150501_N</th>\n",
       "      <th>20150415_N</th>\n",
       "      <th>20150330_N</th>\n",
       "      <th>20150314_N</th>\n",
       "      <th>...</th>\n",
       "      <th>20140610_N</th>\n",
       "      <th>20140525_N</th>\n",
       "      <th>20140509_N</th>\n",
       "      <th>20140423_N</th>\n",
       "      <th>20140407_N</th>\n",
       "      <th>20140322_N</th>\n",
       "      <th>20140218_N</th>\n",
       "      <th>20140202_N</th>\n",
       "      <th>20140117_N</th>\n",
       "      <th>20140101_N</th>\n",
       "    </tr>\n",
       "  </thead>\n",
       "  <tbody>\n",
       "    <tr>\n",
       "      <th>0</th>\n",
       "      <td>0</td>\n",
       "      <td>1</td>\n",
       "      <td>water</td>\n",
       "      <td>637.5950</td>\n",
       "      <td>658.668</td>\n",
       "      <td>-1882.030</td>\n",
       "      <td>-1924.36</td>\n",
       "      <td>997.904</td>\n",
       "      <td>-1739.990</td>\n",
       "      <td>630.087</td>\n",
       "      <td>...</td>\n",
       "      <td>NaN</td>\n",
       "      <td>-1043.160</td>\n",
       "      <td>-1942.490</td>\n",
       "      <td>267.138</td>\n",
       "      <td>NaN</td>\n",
       "      <td>NaN</td>\n",
       "      <td>211.328</td>\n",
       "      <td>-2203.020</td>\n",
       "      <td>-1180.19</td>\n",
       "      <td>433.906</td>\n",
       "    </tr>\n",
       "    <tr>\n",
       "      <th>1</th>\n",
       "      <td>1</td>\n",
       "      <td>2</td>\n",
       "      <td>water</td>\n",
       "      <td>634.2400</td>\n",
       "      <td>593.705</td>\n",
       "      <td>-1625.790</td>\n",
       "      <td>-1672.32</td>\n",
       "      <td>914.198</td>\n",
       "      <td>-692.386</td>\n",
       "      <td>707.626</td>\n",
       "      <td>...</td>\n",
       "      <td>NaN</td>\n",
       "      <td>-933.934</td>\n",
       "      <td>-625.385</td>\n",
       "      <td>120.059</td>\n",
       "      <td>364.858</td>\n",
       "      <td>476.972</td>\n",
       "      <td>220.878</td>\n",
       "      <td>-2250.000</td>\n",
       "      <td>-1360.56</td>\n",
       "      <td>524.075</td>\n",
       "    </tr>\n",
       "    <tr>\n",
       "      <th>2</th>\n",
       "      <td>3</td>\n",
       "      <td>4</td>\n",
       "      <td>water</td>\n",
       "      <td>58.0174</td>\n",
       "      <td>-1599.160</td>\n",
       "      <td>NaN</td>\n",
       "      <td>-1052.63</td>\n",
       "      <td>NaN</td>\n",
       "      <td>-1564.630</td>\n",
       "      <td>NaN</td>\n",
       "      <td>...</td>\n",
       "      <td>-1025.88</td>\n",
       "      <td>368.622</td>\n",
       "      <td>NaN</td>\n",
       "      <td>-1227.800</td>\n",
       "      <td>304.621</td>\n",
       "      <td>NaN</td>\n",
       "      <td>369.214</td>\n",
       "      <td>-2202.120</td>\n",
       "      <td>NaN</td>\n",
       "      <td>-1343.550</td>\n",
       "    </tr>\n",
       "    <tr>\n",
       "      <th>3</th>\n",
       "      <td>4</td>\n",
       "      <td>5</td>\n",
       "      <td>water</td>\n",
       "      <td>72.5180</td>\n",
       "      <td>NaN</td>\n",
       "      <td>380.436</td>\n",
       "      <td>-1256.93</td>\n",
       "      <td>515.805</td>\n",
       "      <td>-1413.180</td>\n",
       "      <td>-802.942</td>\n",
       "      <td>...</td>\n",
       "      <td>-1813.95</td>\n",
       "      <td>155.624</td>\n",
       "      <td>NaN</td>\n",
       "      <td>-924.073</td>\n",
       "      <td>432.150</td>\n",
       "      <td>282.833</td>\n",
       "      <td>298.320</td>\n",
       "      <td>-2197.360</td>\n",
       "      <td>NaN</td>\n",
       "      <td>-826.727</td>\n",
       "    </tr>\n",
       "    <tr>\n",
       "      <th>4</th>\n",
       "      <td>7</td>\n",
       "      <td>8</td>\n",
       "      <td>water</td>\n",
       "      <td>1136.4400</td>\n",
       "      <td>NaN</td>\n",
       "      <td>NaN</td>\n",
       "      <td>1647.83</td>\n",
       "      <td>1935.800</td>\n",
       "      <td>NaN</td>\n",
       "      <td>2158.980</td>\n",
       "      <td>...</td>\n",
       "      <td>1535.00</td>\n",
       "      <td>1959.430</td>\n",
       "      <td>-279.317</td>\n",
       "      <td>-384.915</td>\n",
       "      <td>-113.406</td>\n",
       "      <td>1020.720</td>\n",
       "      <td>1660.650</td>\n",
       "      <td>-116.801</td>\n",
       "      <td>-568.05</td>\n",
       "      <td>-1357.140</td>\n",
       "    </tr>\n",
       "  </tbody>\n",
       "</table>\n",
       "<p>5 rows × 30 columns</p>\n",
       "</div>"
      ],
      "text/plain": [
       "   Unnamed: 0  ID  class  20150720_N  20150602_N  20150517_N  20150501_N  \\\n",
       "0           0   1  water    637.5950     658.668   -1882.030    -1924.36   \n",
       "1           1   2  water    634.2400     593.705   -1625.790    -1672.32   \n",
       "2           3   4  water     58.0174   -1599.160         NaN    -1052.63   \n",
       "3           4   5  water     72.5180         NaN     380.436    -1256.93   \n",
       "4           7   8  water   1136.4400         NaN         NaN     1647.83   \n",
       "\n",
       "   20150415_N  20150330_N  20150314_N  ...  20140610_N  20140525_N  \\\n",
       "0     997.904   -1739.990     630.087  ...         NaN   -1043.160   \n",
       "1     914.198    -692.386     707.626  ...         NaN    -933.934   \n",
       "2         NaN   -1564.630         NaN  ...    -1025.88     368.622   \n",
       "3     515.805   -1413.180    -802.942  ...    -1813.95     155.624   \n",
       "4    1935.800         NaN    2158.980  ...     1535.00    1959.430   \n",
       "\n",
       "   20140509_N  20140423_N  20140407_N  20140322_N  20140218_N  20140202_N  \\\n",
       "0   -1942.490     267.138         NaN         NaN     211.328   -2203.020   \n",
       "1    -625.385     120.059     364.858     476.972     220.878   -2250.000   \n",
       "2         NaN   -1227.800     304.621         NaN     369.214   -2202.120   \n",
       "3         NaN    -924.073     432.150     282.833     298.320   -2197.360   \n",
       "4    -279.317    -384.915    -113.406    1020.720    1660.650    -116.801   \n",
       "\n",
       "   20140117_N  20140101_N  \n",
       "0    -1180.19     433.906  \n",
       "1    -1360.56     524.075  \n",
       "2         NaN   -1343.550  \n",
       "3         NaN    -826.727  \n",
       "4     -568.05   -1357.140  \n",
       "\n",
       "[5 rows x 30 columns]"
      ]
     },
     "execution_count": 4,
     "metadata": {},
     "output_type": "execute_result"
    }
   ],
   "source": [
    "traindf = pd.read_csv(\"/kaggle/input/summer-analytics-mid-hackathon/hacktrain.csv\")\n",
    "\n",
    "traindf.head()"
   ]
  },
  {
   "attachments": {
    "76ab1e1b-be06-46bd-bc73-c22925c1b19b.png": {
     "image/png": "[encoded data removed]"
    }
   },
   "cell_type": "markdown",
   "id": "2da4f81b",
   "metadata": {
    "papermill": {
     "duration": 0.008827,
     "end_time": "2025-06-07T17:48:09.564586",
     "exception": false,
     "start_time": "2025-06-07T17:48:09.555759",
     "status": "completed"
    },
    "tags": []
   },
   "source": [
    "![image.png](attachment:76ab1e1b-be06-46bd-bc73-c22925c1b19b.png)"
   ]
  },
  {
   "cell_type": "code",
   "execution_count": 5,
   "id": "6223b55d",
   "metadata": {
    "execution": {
     "iopub.execute_input": "2025-06-07T17:48:09.583955Z",
     "iopub.status.busy": "2025-06-07T17:48:09.583079Z",
     "iopub.status.idle": "2025-06-07T17:48:09.631388Z",
     "shell.execute_reply": "2025-06-07T17:48:09.630143Z"
    },
    "papermill": {
     "duration": 0.059559,
     "end_time": "2025-06-07T17:48:09.633046",
     "exception": false,
     "start_time": "2025-06-07T17:48:09.573487",
     "status": "completed"
    },
    "tags": []
   },
   "outputs": [
    {
     "data": {
      "text/html": [
       "<div>\n",
       "<style scoped>\n",
       "    .dataframe tbody tr th:only-of-type {\n",
       "        vertical-align: middle;\n",
       "    }\n",
       "\n",
       "    .dataframe tbody tr th {\n",
       "        vertical-align: top;\n",
       "    }\n",
       "\n",
       "    .dataframe thead th {\n",
       "        text-align: right;\n",
       "    }\n",
       "</style>\n",
       "<table border=\"1\" class=\"dataframe\">\n",
       "  <thead>\n",
       "    <tr style=\"text-align: right;\">\n",
       "      <th></th>\n",
       "      <th>Unnamed: 0</th>\n",
       "      <th>ID</th>\n",
       "      <th>20150720_N</th>\n",
       "      <th>20150602_N</th>\n",
       "      <th>20150517_N</th>\n",
       "      <th>20150501_N</th>\n",
       "      <th>20150415_N</th>\n",
       "      <th>20150330_N</th>\n",
       "      <th>20150314_N</th>\n",
       "      <th>20150226_N</th>\n",
       "      <th>...</th>\n",
       "      <th>20140610_N</th>\n",
       "      <th>20140525_N</th>\n",
       "      <th>20140509_N</th>\n",
       "      <th>20140423_N</th>\n",
       "      <th>20140407_N</th>\n",
       "      <th>20140322_N</th>\n",
       "      <th>20140218_N</th>\n",
       "      <th>20140202_N</th>\n",
       "      <th>20140117_N</th>\n",
       "      <th>20140101_N</th>\n",
       "    </tr>\n",
       "  </thead>\n",
       "  <tbody>\n",
       "    <tr>\n",
       "      <th>0</th>\n",
       "      <td>0</td>\n",
       "      <td>1</td>\n",
       "      <td>7466.42</td>\n",
       "      <td>413.162</td>\n",
       "      <td>5761.00</td>\n",
       "      <td>5625.45</td>\n",
       "      <td>489.403</td>\n",
       "      <td>3923.84</td>\n",
       "      <td>3097.110</td>\n",
       "      <td>6766.42</td>\n",
       "      <td>...</td>\n",
       "      <td>801.184</td>\n",
       "      <td>927.115</td>\n",
       "      <td>4704.14</td>\n",
       "      <td>6378.42</td>\n",
       "      <td>340.949</td>\n",
       "      <td>2695.570</td>\n",
       "      <td>527.268</td>\n",
       "      <td>4736.75</td>\n",
       "      <td>601.843</td>\n",
       "      <td>6639.760</td>\n",
       "    </tr>\n",
       "    <tr>\n",
       "      <th>1</th>\n",
       "      <td>1</td>\n",
       "      <td>2</td>\n",
       "      <td>7235.26</td>\n",
       "      <td>6037.350</td>\n",
       "      <td>1027.56</td>\n",
       "      <td>6085.14</td>\n",
       "      <td>1618.050</td>\n",
       "      <td>6668.54</td>\n",
       "      <td>2513.990</td>\n",
       "      <td>1051.69</td>\n",
       "      <td>...</td>\n",
       "      <td>5533.470</td>\n",
       "      <td>5103.040</td>\n",
       "      <td>5216.12</td>\n",
       "      <td>4885.27</td>\n",
       "      <td>4366.790</td>\n",
       "      <td>1234.140</td>\n",
       "      <td>3298.110</td>\n",
       "      <td>6942.68</td>\n",
       "      <td>1070.440</td>\n",
       "      <td>842.101</td>\n",
       "    </tr>\n",
       "    <tr>\n",
       "      <th>2</th>\n",
       "      <td>2</td>\n",
       "      <td>3</td>\n",
       "      <td>7425.08</td>\n",
       "      <td>6969.980</td>\n",
       "      <td>1177.94</td>\n",
       "      <td>7408.93</td>\n",
       "      <td>861.061</td>\n",
       "      <td>7644.43</td>\n",
       "      <td>814.458</td>\n",
       "      <td>1504.29</td>\n",
       "      <td>...</td>\n",
       "      <td>1981.390</td>\n",
       "      <td>6204.540</td>\n",
       "      <td>7021.69</td>\n",
       "      <td>5704.41</td>\n",
       "      <td>4897.450</td>\n",
       "      <td>1789.990</td>\n",
       "      <td>2206.100</td>\n",
       "      <td>6928.93</td>\n",
       "      <td>1036.560</td>\n",
       "      <td>831.441</td>\n",
       "    </tr>\n",
       "    <tr>\n",
       "      <th>3</th>\n",
       "      <td>3</td>\n",
       "      <td>4</td>\n",
       "      <td>7119.12</td>\n",
       "      <td>1731.620</td>\n",
       "      <td>6311.93</td>\n",
       "      <td>6441.61</td>\n",
       "      <td>465.979</td>\n",
       "      <td>7128.42</td>\n",
       "      <td>1649.120</td>\n",
       "      <td>6935.22</td>\n",
       "      <td>...</td>\n",
       "      <td>959.344</td>\n",
       "      <td>5794.150</td>\n",
       "      <td>1045.57</td>\n",
       "      <td>5572.90</td>\n",
       "      <td>586.287</td>\n",
       "      <td>685.906</td>\n",
       "      <td>1287.000</td>\n",
       "      <td>6734.72</td>\n",
       "      <td>824.584</td>\n",
       "      <td>6883.610</td>\n",
       "    </tr>\n",
       "    <tr>\n",
       "      <th>4</th>\n",
       "      <td>4</td>\n",
       "      <td>5</td>\n",
       "      <td>7519.55</td>\n",
       "      <td>8130.260</td>\n",
       "      <td>1482.54</td>\n",
       "      <td>7879.53</td>\n",
       "      <td>1001.210</td>\n",
       "      <td>7937.60</td>\n",
       "      <td>4122.530</td>\n",
       "      <td>1094.51</td>\n",
       "      <td>...</td>\n",
       "      <td>7636.070</td>\n",
       "      <td>6996.760</td>\n",
       "      <td>7413.43</td>\n",
       "      <td>4596.13</td>\n",
       "      <td>4511.700</td>\n",
       "      <td>1413.520</td>\n",
       "      <td>3283.940</td>\n",
       "      <td>7937.68</td>\n",
       "      <td>1857.800</td>\n",
       "      <td>1336.920</td>\n",
       "    </tr>\n",
       "  </tbody>\n",
       "</table>\n",
       "<p>5 rows × 29 columns</p>\n",
       "</div>"
      ],
      "text/plain": [
       "   Unnamed: 0  ID  20150720_N  20150602_N  20150517_N  20150501_N  20150415_N  \\\n",
       "0           0   1     7466.42     413.162     5761.00     5625.45     489.403   \n",
       "1           1   2     7235.26    6037.350     1027.56     6085.14    1618.050   \n",
       "2           2   3     7425.08    6969.980     1177.94     7408.93     861.061   \n",
       "3           3   4     7119.12    1731.620     6311.93     6441.61     465.979   \n",
       "4           4   5     7519.55    8130.260     1482.54     7879.53    1001.210   \n",
       "\n",
       "   20150330_N  20150314_N  20150226_N  ...  20140610_N  20140525_N  \\\n",
       "0     3923.84    3097.110     6766.42  ...     801.184     927.115   \n",
       "1     6668.54    2513.990     1051.69  ...    5533.470    5103.040   \n",
       "2     7644.43     814.458     1504.29  ...    1981.390    6204.540   \n",
       "3     7128.42    1649.120     6935.22  ...     959.344    5794.150   \n",
       "4     7937.60    4122.530     1094.51  ...    7636.070    6996.760   \n",
       "\n",
       "   20140509_N  20140423_N  20140407_N  20140322_N  20140218_N  20140202_N  \\\n",
       "0     4704.14     6378.42     340.949    2695.570     527.268     4736.75   \n",
       "1     5216.12     4885.27    4366.790    1234.140    3298.110     6942.68   \n",
       "2     7021.69     5704.41    4897.450    1789.990    2206.100     6928.93   \n",
       "3     1045.57     5572.90     586.287     685.906    1287.000     6734.72   \n",
       "4     7413.43     4596.13    4511.700    1413.520    3283.940     7937.68   \n",
       "\n",
       "   20140117_N  20140101_N  \n",
       "0     601.843    6639.760  \n",
       "1    1070.440     842.101  \n",
       "2    1036.560     831.441  \n",
       "3     824.584    6883.610  \n",
       "4    1857.800    1336.920  \n",
       "\n",
       "[5 rows x 29 columns]"
      ]
     },
     "execution_count": 5,
     "metadata": {},
     "output_type": "execute_result"
    }
   ],
   "source": [
    "testdf = pd.read_csv(\"/kaggle/input/summer-analytics-mid-hackathon/hacktest.csv\")\n",
    "\n",
    "testdf.head()"
   ]
  },
  {
   "cell_type": "code",
   "execution_count": 6,
   "id": "3191f332",
   "metadata": {
    "execution": {
     "iopub.execute_input": "2025-06-07T17:48:09.652847Z",
     "iopub.status.busy": "2025-06-07T17:48:09.652434Z",
     "iopub.status.idle": "2025-06-07T17:48:09.658656Z",
     "shell.execute_reply": "2025-06-07T17:48:09.657781Z"
    },
    "papermill": {
     "duration": 0.018142,
     "end_time": "2025-06-07T17:48:09.660441",
     "exception": false,
     "start_time": "2025-06-07T17:48:09.642299",
     "status": "completed"
    },
    "tags": []
   },
   "outputs": [
    {
     "data": {
      "text/plain": [
       "((8000, 30), (2845, 29))"
      ]
     },
     "execution_count": 6,
     "metadata": {},
     "output_type": "execute_result"
    }
   ],
   "source": [
    "traindf.shape, testdf.shape"
   ]
  },
  {
   "cell_type": "code",
   "execution_count": 7,
   "id": "f1f95a81",
   "metadata": {
    "execution": {
     "iopub.execute_input": "2025-06-07T17:48:09.680478Z",
     "iopub.status.busy": "2025-06-07T17:48:09.680142Z",
     "iopub.status.idle": "2025-06-07T17:48:09.687965Z",
     "shell.execute_reply": "2025-06-07T17:48:09.687009Z"
    },
    "papermill": {
     "duration": 0.019535,
     "end_time": "2025-06-07T17:48:09.689565",
     "exception": false,
     "start_time": "2025-06-07T17:48:09.670030",
     "status": "completed"
    },
    "tags": []
   },
   "outputs": [
    {
     "data": {
      "text/plain": [
       "(Index(['Unnamed: 0', 'ID', 'class', '20150720_N', '20150602_N', '20150517_N',\n",
       "        '20150501_N', '20150415_N', '20150330_N', '20150314_N', '20150226_N',\n",
       "        '20150210_N', '20150125_N', '20150109_N', '20141117_N', '20141101_N',\n",
       "        '20141016_N', '20140930_N', '20140813_N', '20140626_N', '20140610_N',\n",
       "        '20140525_N', '20140509_N', '20140423_N', '20140407_N', '20140322_N',\n",
       "        '20140218_N', '20140202_N', '20140117_N', '20140101_N'],\n",
       "       dtype='object'),\n",
       " Index(['Unnamed: 0', 'ID', '20150720_N', '20150602_N', '20150517_N',\n",
       "        '20150501_N', '20150415_N', '20150330_N', '20150314_N', '20150226_N',\n",
       "        '20150210_N', '20150125_N', '20150109_N', '20141117_N', '20141101_N',\n",
       "        '20141016_N', '20140930_N', '20140813_N', '20140626_N', '20140610_N',\n",
       "        '20140525_N', '20140509_N', '20140423_N', '20140407_N', '20140322_N',\n",
       "        '20140218_N', '20140202_N', '20140117_N', '20140101_N'],\n",
       "       dtype='object'))"
      ]
     },
     "execution_count": 7,
     "metadata": {},
     "output_type": "execute_result"
    }
   ],
   "source": [
    "traindf.columns, testdf.columns"
   ]
  },
  {
   "cell_type": "markdown",
   "id": "759d7722",
   "metadata": {
    "papermill": {
     "duration": 0.008805,
     "end_time": "2025-06-07T17:48:09.707777",
     "exception": false,
     "start_time": "2025-06-07T17:48:09.698972",
     "status": "completed"
    },
    "tags": []
   },
   "source": [
    "To predict: Class in `testdf`"
   ]
  },
  {
   "cell_type": "code",
   "execution_count": 8,
   "id": "cdacd11e",
   "metadata": {
    "execution": {
     "iopub.execute_input": "2025-06-07T17:48:09.727970Z",
     "iopub.status.busy": "2025-06-07T17:48:09.727053Z",
     "iopub.status.idle": "2025-06-07T17:48:09.810607Z",
     "shell.execute_reply": "2025-06-07T17:48:09.809812Z"
    },
    "papermill": {
     "duration": 0.095275,
     "end_time": "2025-06-07T17:48:09.812223",
     "exception": false,
     "start_time": "2025-06-07T17:48:09.716948",
     "status": "completed"
    },
    "tags": []
   },
   "outputs": [
    {
     "data": {
      "text/html": [
       "<div>\n",
       "<style scoped>\n",
       "    .dataframe tbody tr th:only-of-type {\n",
       "        vertical-align: middle;\n",
       "    }\n",
       "\n",
       "    .dataframe tbody tr th {\n",
       "        vertical-align: top;\n",
       "    }\n",
       "\n",
       "    .dataframe thead th {\n",
       "        text-align: right;\n",
       "    }\n",
       "</style>\n",
       "<table border=\"1\" class=\"dataframe\">\n",
       "  <thead>\n",
       "    <tr style=\"text-align: right;\">\n",
       "      <th></th>\n",
       "      <th>Unnamed: 0</th>\n",
       "      <th>ID</th>\n",
       "      <th>20150720_N</th>\n",
       "      <th>20150602_N</th>\n",
       "      <th>20150517_N</th>\n",
       "      <th>20150501_N</th>\n",
       "      <th>20150415_N</th>\n",
       "      <th>20150330_N</th>\n",
       "      <th>20150314_N</th>\n",
       "      <th>20150226_N</th>\n",
       "      <th>...</th>\n",
       "      <th>20140610_N</th>\n",
       "      <th>20140525_N</th>\n",
       "      <th>20140509_N</th>\n",
       "      <th>20140423_N</th>\n",
       "      <th>20140407_N</th>\n",
       "      <th>20140322_N</th>\n",
       "      <th>20140218_N</th>\n",
       "      <th>20140202_N</th>\n",
       "      <th>20140117_N</th>\n",
       "      <th>20140101_N</th>\n",
       "    </tr>\n",
       "  </thead>\n",
       "  <tbody>\n",
       "    <tr>\n",
       "      <th>count</th>\n",
       "      <td>8000.000000</td>\n",
       "      <td>8000.000000</td>\n",
       "      <td>7440.000000</td>\n",
       "      <td>6800.000000</td>\n",
       "      <td>7200.000000</td>\n",
       "      <td>7040.000000</td>\n",
       "      <td>7520.000000</td>\n",
       "      <td>6880.000000</td>\n",
       "      <td>7280.000000</td>\n",
       "      <td>6640.000000</td>\n",
       "      <td>...</td>\n",
       "      <td>7520.000000</td>\n",
       "      <td>7280.000000</td>\n",
       "      <td>7120.000000</td>\n",
       "      <td>6240.000000</td>\n",
       "      <td>7360.000000</td>\n",
       "      <td>6880.000000</td>\n",
       "      <td>6560.000000</td>\n",
       "      <td>7440.000000</td>\n",
       "      <td>6800.000000</td>\n",
       "      <td>7600.000000</td>\n",
       "    </tr>\n",
       "    <tr>\n",
       "      <th>mean</th>\n",
       "      <td>4984.202625</td>\n",
       "      <td>4985.202625</td>\n",
       "      <td>5845.476916</td>\n",
       "      <td>4868.091395</td>\n",
       "      <td>4469.837748</td>\n",
       "      <td>5193.485086</td>\n",
       "      <td>2927.586705</td>\n",
       "      <td>4924.493648</td>\n",
       "      <td>3313.881373</td>\n",
       "      <td>4987.520158</td>\n",
       "      <td>...</td>\n",
       "      <td>4872.681670</td>\n",
       "      <td>3674.886731</td>\n",
       "      <td>3012.178524</td>\n",
       "      <td>3055.167358</td>\n",
       "      <td>2041.316792</td>\n",
       "      <td>2799.820342</td>\n",
       "      <td>2144.360224</td>\n",
       "      <td>6259.064275</td>\n",
       "      <td>2629.203972</td>\n",
       "      <td>2578.449870</td>\n",
       "    </tr>\n",
       "    <tr>\n",
       "      <th>std</th>\n",
       "      <td>2900.022898</td>\n",
       "      <td>2900.022898</td>\n",
       "      <td>2261.409128</td>\n",
       "      <td>2758.499942</td>\n",
       "      <td>2876.218394</td>\n",
       "      <td>2510.389832</td>\n",
       "      <td>2728.325670</td>\n",
       "      <td>2600.418802</td>\n",
       "      <td>2434.828743</td>\n",
       "      <td>2674.963286</td>\n",
       "      <td>...</td>\n",
       "      <td>2776.135418</td>\n",
       "      <td>2331.105635</td>\n",
       "      <td>2068.334108</td>\n",
       "      <td>2209.985887</td>\n",
       "      <td>2040.354512</td>\n",
       "      <td>2452.563243</td>\n",
       "      <td>2267.606759</td>\n",
       "      <td>1825.563702</td>\n",
       "      <td>2386.147667</td>\n",
       "      <td>2436.270797</td>\n",
       "    </tr>\n",
       "    <tr>\n",
       "      <th>min</th>\n",
       "      <td>0.000000</td>\n",
       "      <td>1.000000</td>\n",
       "      <td>-433.735000</td>\n",
       "      <td>-1781.790000</td>\n",
       "      <td>-2939.740000</td>\n",
       "      <td>-1924.360000</td>\n",
       "      <td>-1794.870000</td>\n",
       "      <td>-1848.910000</td>\n",
       "      <td>-1574.970000</td>\n",
       "      <td>-2532.490000</td>\n",
       "      <td>...</td>\n",
       "      <td>-2683.600000</td>\n",
       "      <td>-1043.160000</td>\n",
       "      <td>-2435.900000</td>\n",
       "      <td>-1505.780000</td>\n",
       "      <td>-1445.370000</td>\n",
       "      <td>55.564100</td>\n",
       "      <td>-232.292000</td>\n",
       "      <td>-2729.430000</td>\n",
       "      <td>-2139.860000</td>\n",
       "      <td>-4145.250000</td>\n",
       "    </tr>\n",
       "    <tr>\n",
       "      <th>25%</th>\n",
       "      <td>2514.750000</td>\n",
       "      <td>2515.750000</td>\n",
       "      <td>4331.232500</td>\n",
       "      <td>2067.265000</td>\n",
       "      <td>1521.195000</td>\n",
       "      <td>3087.072500</td>\n",
       "      <td>500.515750</td>\n",
       "      <td>2398.385000</td>\n",
       "      <td>992.778250</td>\n",
       "      <td>2404.075000</td>\n",
       "      <td>...</td>\n",
       "      <td>2010.732500</td>\n",
       "      <td>1369.355000</td>\n",
       "      <td>1368.742500</td>\n",
       "      <td>1009.827500</td>\n",
       "      <td>419.987000</td>\n",
       "      <td>791.741250</td>\n",
       "      <td>501.602750</td>\n",
       "      <td>5938.257500</td>\n",
       "      <td>691.171500</td>\n",
       "      <td>689.199000</td>\n",
       "    </tr>\n",
       "    <tr>\n",
       "      <th>50%</th>\n",
       "      <td>4917.500000</td>\n",
       "      <td>4918.500000</td>\n",
       "      <td>6908.255000</td>\n",
       "      <td>5513.375000</td>\n",
       "      <td>4672.000000</td>\n",
       "      <td>5810.755000</td>\n",
       "      <td>1586.240000</td>\n",
       "      <td>5742.485000</td>\n",
       "      <td>2802.010000</td>\n",
       "      <td>5831.120000</td>\n",
       "      <td>...</td>\n",
       "      <td>5484.905000</td>\n",
       "      <td>3659.770000</td>\n",
       "      <td>2633.695000</td>\n",
       "      <td>2624.125000</td>\n",
       "      <td>1183.715000</td>\n",
       "      <td>1599.385000</td>\n",
       "      <td>969.711500</td>\n",
       "      <td>6941.010000</td>\n",
       "      <td>1521.210000</td>\n",
       "      <td>1439.950000</td>\n",
       "    </tr>\n",
       "    <tr>\n",
       "      <th>75%</th>\n",
       "      <td>7311.250000</td>\n",
       "      <td>7312.250000</td>\n",
       "      <td>7626.845000</td>\n",
       "      <td>7555.570000</td>\n",
       "      <td>7431.697500</td>\n",
       "      <td>7511.880000</td>\n",
       "      <td>5703.067500</td>\n",
       "      <td>7280.110000</td>\n",
       "      <td>5508.350000</td>\n",
       "      <td>7430.915000</td>\n",
       "      <td>...</td>\n",
       "      <td>7607.755000</td>\n",
       "      <td>5927.035000</td>\n",
       "      <td>4128.082500</td>\n",
       "      <td>4952.317500</td>\n",
       "      <td>3075.997500</td>\n",
       "      <td>4909.997500</td>\n",
       "      <td>3227.380000</td>\n",
       "      <td>7395.612500</td>\n",
       "      <td>4452.257500</td>\n",
       "      <td>4146.342500</td>\n",
       "    </tr>\n",
       "    <tr>\n",
       "      <th>max</th>\n",
       "      <td>10544.000000</td>\n",
       "      <td>10545.000000</td>\n",
       "      <td>8376.150000</td>\n",
       "      <td>8566.420000</td>\n",
       "      <td>8650.500000</td>\n",
       "      <td>8516.100000</td>\n",
       "      <td>8267.120000</td>\n",
       "      <td>8499.330000</td>\n",
       "      <td>8001.700000</td>\n",
       "      <td>8452.380000</td>\n",
       "      <td>...</td>\n",
       "      <td>8489.970000</td>\n",
       "      <td>7981.820000</td>\n",
       "      <td>8445.410000</td>\n",
       "      <td>7762.980000</td>\n",
       "      <td>8078.080000</td>\n",
       "      <td>8216.700000</td>\n",
       "      <td>8247.630000</td>\n",
       "      <td>8410.330000</td>\n",
       "      <td>8418.230000</td>\n",
       "      <td>8502.020000</td>\n",
       "    </tr>\n",
       "  </tbody>\n",
       "</table>\n",
       "<p>8 rows × 29 columns</p>\n",
       "</div>"
      ],
      "text/plain": [
       "         Unnamed: 0            ID   20150720_N   20150602_N   20150517_N  \\\n",
       "count   8000.000000   8000.000000  7440.000000  6800.000000  7200.000000   \n",
       "mean    4984.202625   4985.202625  5845.476916  4868.091395  4469.837748   \n",
       "std     2900.022898   2900.022898  2261.409128  2758.499942  2876.218394   \n",
       "min        0.000000      1.000000  -433.735000 -1781.790000 -2939.740000   \n",
       "25%     2514.750000   2515.750000  4331.232500  2067.265000  1521.195000   \n",
       "50%     4917.500000   4918.500000  6908.255000  5513.375000  4672.000000   \n",
       "75%     7311.250000   7312.250000  7626.845000  7555.570000  7431.697500   \n",
       "max    10544.000000  10545.000000  8376.150000  8566.420000  8650.500000   \n",
       "\n",
       "        20150501_N   20150415_N   20150330_N   20150314_N   20150226_N  ...  \\\n",
       "count  7040.000000  7520.000000  6880.000000  7280.000000  6640.000000  ...   \n",
       "mean   5193.485086  2927.586705  4924.493648  3313.881373  4987.520158  ...   \n",
       "std    2510.389832  2728.325670  2600.418802  2434.828743  2674.963286  ...   \n",
       "min   -1924.360000 -1794.870000 -1848.910000 -1574.970000 -2532.490000  ...   \n",
       "25%    3087.072500   500.515750  2398.385000   992.778250  2404.075000  ...   \n",
       "50%    5810.755000  1586.240000  5742.485000  2802.010000  5831.120000  ...   \n",
       "75%    7511.880000  5703.067500  7280.110000  5508.350000  7430.915000  ...   \n",
       "max    8516.100000  8267.120000  8499.330000  8001.700000  8452.380000  ...   \n",
       "\n",
       "        20140610_N   20140525_N   20140509_N   20140423_N   20140407_N  \\\n",
       "count  7520.000000  7280.000000  7120.000000  6240.000000  7360.000000   \n",
       "mean   4872.681670  3674.886731  3012.178524  3055.167358  2041.316792   \n",
       "std    2776.135418  2331.105635  2068.334108  2209.985887  2040.354512   \n",
       "min   -2683.600000 -1043.160000 -2435.900000 -1505.780000 -1445.370000   \n",
       "25%    2010.732500  1369.355000  1368.742500  1009.827500   419.987000   \n",
       "50%    5484.905000  3659.770000  2633.695000  2624.125000  1183.715000   \n",
       "75%    7607.755000  5927.035000  4128.082500  4952.317500  3075.997500   \n",
       "max    8489.970000  7981.820000  8445.410000  7762.980000  8078.080000   \n",
       "\n",
       "        20140322_N   20140218_N   20140202_N   20140117_N   20140101_N  \n",
       "count  6880.000000  6560.000000  7440.000000  6800.000000  7600.000000  \n",
       "mean   2799.820342  2144.360224  6259.064275  2629.203972  2578.449870  \n",
       "std    2452.563243  2267.606759  1825.563702  2386.147667  2436.270797  \n",
       "min      55.564100  -232.292000 -2729.430000 -2139.860000 -4145.250000  \n",
       "25%     791.741250   501.602750  5938.257500   691.171500   689.199000  \n",
       "50%    1599.385000   969.711500  6941.010000  1521.210000  1439.950000  \n",
       "75%    4909.997500  3227.380000  7395.612500  4452.257500  4146.342500  \n",
       "max    8216.700000  8247.630000  8410.330000  8418.230000  8502.020000  \n",
       "\n",
       "[8 rows x 29 columns]"
      ]
     },
     "execution_count": 8,
     "metadata": {},
     "output_type": "execute_result"
    }
   ],
   "source": [
    "traindf.describe()"
   ]
  },
  {
   "cell_type": "code",
   "execution_count": 9,
   "id": "24aca447",
   "metadata": {
    "execution": {
     "iopub.execute_input": "2025-06-07T17:48:09.832618Z",
     "iopub.status.busy": "2025-06-07T17:48:09.832237Z",
     "iopub.status.idle": "2025-06-07T17:48:09.857019Z",
     "shell.execute_reply": "2025-06-07T17:48:09.855450Z"
    },
    "papermill": {
     "duration": 0.036712,
     "end_time": "2025-06-07T17:48:09.858686",
     "exception": false,
     "start_time": "2025-06-07T17:48:09.821974",
     "status": "completed"
    },
    "tags": []
   },
   "outputs": [
    {
     "name": "stdout",
     "output_type": "stream",
     "text": [
      "<class 'pandas.core.frame.DataFrame'>\n",
      "RangeIndex: 8000 entries, 0 to 7999\n",
      "Data columns (total 30 columns):\n",
      " #   Column      Non-Null Count  Dtype  \n",
      "---  ------      --------------  -----  \n",
      " 0   Unnamed: 0  8000 non-null   int64  \n",
      " 1   ID          8000 non-null   int64  \n",
      " 2   class       8000 non-null   object \n",
      " 3   20150720_N  7440 non-null   float64\n",
      " 4   20150602_N  6800 non-null   float64\n",
      " 5   20150517_N  7200 non-null   float64\n",
      " 6   20150501_N  7040 non-null   float64\n",
      " 7   20150415_N  7520 non-null   float64\n",
      " 8   20150330_N  6880 non-null   float64\n",
      " 9   20150314_N  7280 non-null   float64\n",
      " 10  20150226_N  6640 non-null   float64\n",
      " 11  20150210_N  7360 non-null   float64\n",
      " 12  20150125_N  6960 non-null   float64\n",
      " 13  20150109_N  7120 non-null   float64\n",
      " 14  20141117_N  6720 non-null   float64\n",
      " 15  20141101_N  7600 non-null   float64\n",
      " 16  20141016_N  6560 non-null   float64\n",
      " 17  20140930_N  7200 non-null   float64\n",
      " 18  20140813_N  7440 non-null   float64\n",
      " 19  20140626_N  6400 non-null   float64\n",
      " 20  20140610_N  7520 non-null   float64\n",
      " 21  20140525_N  7280 non-null   float64\n",
      " 22  20140509_N  7120 non-null   float64\n",
      " 23  20140423_N  6240 non-null   float64\n",
      " 24  20140407_N  7360 non-null   float64\n",
      " 25  20140322_N  6880 non-null   float64\n",
      " 26  20140218_N  6560 non-null   float64\n",
      " 27  20140202_N  7440 non-null   float64\n",
      " 28  20140117_N  6800 non-null   float64\n",
      " 29  20140101_N  7600 non-null   float64\n",
      "dtypes: float64(27), int64(2), object(1)\n",
      "memory usage: 1.8+ MB\n"
     ]
    }
   ],
   "source": [
    "traindf.info()"
   ]
  },
  {
   "cell_type": "code",
   "execution_count": 10,
   "id": "2f02026a",
   "metadata": {
    "execution": {
     "iopub.execute_input": "2025-06-07T17:48:09.879790Z",
     "iopub.status.busy": "2025-06-07T17:48:09.878995Z",
     "iopub.status.idle": "2025-06-07T17:48:09.890895Z",
     "shell.execute_reply": "2025-06-07T17:48:09.889740Z"
    },
    "papermill": {
     "duration": 0.02415,
     "end_time": "2025-06-07T17:48:09.892604",
     "exception": false,
     "start_time": "2025-06-07T17:48:09.868454",
     "status": "completed"
    },
    "tags": []
   },
   "outputs": [
    {
     "data": {
      "text/plain": [
       "Unnamed: 0       0\n",
       "ID               0\n",
       "class            0\n",
       "20150720_N     560\n",
       "20150602_N    1200\n",
       "20150517_N     800\n",
       "20150501_N     960\n",
       "20150415_N     480\n",
       "20150330_N    1120\n",
       "20150314_N     720\n",
       "20150226_N    1360\n",
       "20150210_N     640\n",
       "20150125_N    1040\n",
       "20150109_N     880\n",
       "20141117_N    1280\n",
       "20141101_N     400\n",
       "20141016_N    1440\n",
       "20140930_N     800\n",
       "20140813_N     560\n",
       "20140626_N    1600\n",
       "20140610_N     480\n",
       "20140525_N     720\n",
       "20140509_N     880\n",
       "20140423_N    1760\n",
       "20140407_N     640\n",
       "20140322_N    1120\n",
       "20140218_N    1440\n",
       "20140202_N     560\n",
       "20140117_N    1200\n",
       "20140101_N     400\n",
       "dtype: int64"
      ]
     },
     "execution_count": 10,
     "metadata": {},
     "output_type": "execute_result"
    }
   ],
   "source": [
    "traindf.isnull().sum()"
   ]
  },
  {
   "cell_type": "code",
   "execution_count": 11,
   "id": "cc7f8f2e",
   "metadata": {
    "execution": {
     "iopub.execute_input": "2025-06-07T17:48:09.914730Z",
     "iopub.status.busy": "2025-06-07T17:48:09.913804Z",
     "iopub.status.idle": "2025-06-07T17:48:09.934195Z",
     "shell.execute_reply": "2025-06-07T17:48:09.933142Z"
    },
    "papermill": {
     "duration": 0.033171,
     "end_time": "2025-06-07T17:48:09.936079",
     "exception": false,
     "start_time": "2025-06-07T17:48:09.902908",
     "status": "completed"
    },
    "tags": []
   },
   "outputs": [],
   "source": [
    "traindf.fillna(traindf.median(numeric_only=True), inplace=True)"
   ]
  },
  {
   "cell_type": "code",
   "execution_count": 12,
   "id": "fbae1aa9",
   "metadata": {
    "execution": {
     "iopub.execute_input": "2025-06-07T17:48:09.956936Z",
     "iopub.status.busy": "2025-06-07T17:48:09.956638Z",
     "iopub.status.idle": "2025-06-07T17:48:09.966889Z",
     "shell.execute_reply": "2025-06-07T17:48:09.965910Z"
    },
    "papermill": {
     "duration": 0.022622,
     "end_time": "2025-06-07T17:48:09.968582",
     "exception": false,
     "start_time": "2025-06-07T17:48:09.945960",
     "status": "completed"
    },
    "tags": []
   },
   "outputs": [
    {
     "data": {
      "text/plain": [
       "Unnamed: 0    0\n",
       "ID            0\n",
       "class         0\n",
       "20150720_N    0\n",
       "20150602_N    0\n",
       "20150517_N    0\n",
       "20150501_N    0\n",
       "20150415_N    0\n",
       "20150330_N    0\n",
       "20150314_N    0\n",
       "20150226_N    0\n",
       "20150210_N    0\n",
       "20150125_N    0\n",
       "20150109_N    0\n",
       "20141117_N    0\n",
       "20141101_N    0\n",
       "20141016_N    0\n",
       "20140930_N    0\n",
       "20140813_N    0\n",
       "20140626_N    0\n",
       "20140610_N    0\n",
       "20140525_N    0\n",
       "20140509_N    0\n",
       "20140423_N    0\n",
       "20140407_N    0\n",
       "20140322_N    0\n",
       "20140218_N    0\n",
       "20140202_N    0\n",
       "20140117_N    0\n",
       "20140101_N    0\n",
       "dtype: int64"
      ]
     },
     "execution_count": 12,
     "metadata": {},
     "output_type": "execute_result"
    }
   ],
   "source": [
    "traindf.isnull().sum()"
   ]
  },
  {
   "cell_type": "code",
   "execution_count": 13,
   "id": "ecd40bbb",
   "metadata": {
    "execution": {
     "iopub.execute_input": "2025-06-07T17:48:09.989817Z",
     "iopub.status.busy": "2025-06-07T17:48:09.989511Z",
     "iopub.status.idle": "2025-06-07T17:48:09.996366Z",
     "shell.execute_reply": "2025-06-07T17:48:09.995353Z"
    },
    "papermill": {
     "duration": 0.019307,
     "end_time": "2025-06-07T17:48:09.997926",
     "exception": false,
     "start_time": "2025-06-07T17:48:09.978619",
     "status": "completed"
    },
    "tags": []
   },
   "outputs": [],
   "source": [
    "traindf.drop(['Unnamed: 0'], axis=1, inplace=True)"
   ]
  },
  {
   "cell_type": "markdown",
   "id": "317ba11f",
   "metadata": {
    "papermill": {
     "duration": 0.009465,
     "end_time": "2025-06-07T17:48:10.017602",
     "exception": false,
     "start_time": "2025-06-07T17:48:10.008137",
     "status": "completed"
    },
    "tags": []
   },
   "source": [
    "<h1>Simple Logistc Regression; Accuracy: 94%</h1>"
   ]
  },
  {
   "cell_type": "code",
   "execution_count": 14,
   "id": "5c25c115",
   "metadata": {
    "execution": {
     "iopub.execute_input": "2025-06-07T17:48:10.102187Z",
     "iopub.status.busy": "2025-06-07T17:48:10.101180Z",
     "iopub.status.idle": "2025-06-07T17:48:10.108622Z",
     "shell.execute_reply": "2025-06-07T17:48:10.107550Z"
    },
    "papermill": {
     "duration": 0.083847,
     "end_time": "2025-06-07T17:48:10.111051",
     "exception": false,
     "start_time": "2025-06-07T17:48:10.027204",
     "status": "completed"
    },
    "tags": []
   },
   "outputs": [],
   "source": [
    "X = traindf.drop(columns=['class'])\n",
    "y = traindf['class']"
   ]
  },
  {
   "cell_type": "code",
   "execution_count": 15,
   "id": "a0ebaad7",
   "metadata": {
    "execution": {
     "iopub.execute_input": "2025-06-07T17:48:10.134491Z",
     "iopub.status.busy": "2025-06-07T17:48:10.134155Z",
     "iopub.status.idle": "2025-06-07T17:48:10.140012Z",
     "shell.execute_reply": "2025-06-07T17:48:10.139214Z"
    },
    "papermill": {
     "duration": 0.019409,
     "end_time": "2025-06-07T17:48:10.141493",
     "exception": false,
     "start_time": "2025-06-07T17:48:10.122084",
     "status": "completed"
    },
    "tags": []
   },
   "outputs": [
    {
     "data": {
      "text/plain": [
       "((8000, 28), (8000,))"
      ]
     },
     "execution_count": 15,
     "metadata": {},
     "output_type": "execute_result"
    }
   ],
   "source": [
    "X.shape, y.shape"
   ]
  },
  {
   "cell_type": "code",
   "execution_count": 16,
   "id": "86e6b48c",
   "metadata": {
    "execution": {
     "iopub.execute_input": "2025-06-07T17:48:10.163313Z",
     "iopub.status.busy": "2025-06-07T17:48:10.163003Z",
     "iopub.status.idle": "2025-06-07T17:48:12.079630Z",
     "shell.execute_reply": "2025-06-07T17:48:12.078528Z"
    },
    "papermill": {
     "duration": 1.929448,
     "end_time": "2025-06-07T17:48:12.081545",
     "exception": false,
     "start_time": "2025-06-07T17:48:10.152097",
     "status": "completed"
    },
    "tags": []
   },
   "outputs": [],
   "source": [
    "from sklearn.linear_model import LogisticRegression\n",
    "from sklearn.model_selection import train_test_split"
   ]
  },
  {
   "cell_type": "code",
   "execution_count": 17,
   "id": "1ae150ea",
   "metadata": {
    "execution": {
     "iopub.execute_input": "2025-06-07T17:48:12.103712Z",
     "iopub.status.busy": "2025-06-07T17:48:12.103186Z",
     "iopub.status.idle": "2025-06-07T17:48:12.113961Z",
     "shell.execute_reply": "2025-06-07T17:48:12.113009Z"
    },
    "papermill": {
     "duration": 0.024304,
     "end_time": "2025-06-07T17:48:12.116319",
     "exception": false,
     "start_time": "2025-06-07T17:48:12.092015",
     "status": "completed"
    },
    "tags": []
   },
   "outputs": [],
   "source": [
    "X_train, X_test, y_train, y_test = train_test_split(X, y, test_size=0.25, random_state=42)"
   ]
  },
  {
   "cell_type": "code",
   "execution_count": 18,
   "id": "7c269d20",
   "metadata": {
    "execution": {
     "iopub.execute_input": "2025-06-07T17:48:12.138808Z",
     "iopub.status.busy": "2025-06-07T17:48:12.138479Z",
     "iopub.status.idle": "2025-06-07T17:48:12.144599Z",
     "shell.execute_reply": "2025-06-07T17:48:12.143732Z"
    },
    "papermill": {
     "duration": 0.01879,
     "end_time": "2025-06-07T17:48:12.146216",
     "exception": false,
     "start_time": "2025-06-07T17:48:12.127426",
     "status": "completed"
    },
    "tags": []
   },
   "outputs": [
    {
     "data": {
      "text/plain": [
       "((6000, 28), (2000, 28), (6000,), (2000,))"
      ]
     },
     "execution_count": 18,
     "metadata": {},
     "output_type": "execute_result"
    }
   ],
   "source": [
    "X_train.shape, X_test.shape, y_train.shape, y_test.shape"
   ]
  },
  {
   "cell_type": "code",
   "execution_count": 19,
   "id": "95a592f0",
   "metadata": {
    "execution": {
     "iopub.execute_input": "2025-06-07T17:48:12.168212Z",
     "iopub.status.busy": "2025-06-07T17:48:12.167891Z",
     "iopub.status.idle": "2025-06-07T17:48:12.172430Z",
     "shell.execute_reply": "2025-06-07T17:48:12.171509Z"
    },
    "papermill": {
     "duration": 0.017621,
     "end_time": "2025-06-07T17:48:12.174125",
     "exception": false,
     "start_time": "2025-06-07T17:48:12.156504",
     "status": "completed"
    },
    "tags": []
   },
   "outputs": [],
   "source": [
    "model0 = LogisticRegression(\n",
    "    multi_class='multinomial',\n",
    ")"
   ]
  },
  {
   "cell_type": "code",
   "execution_count": 20,
   "id": "b6c48046",
   "metadata": {
    "execution": {
     "iopub.execute_input": "2025-06-07T17:48:12.197076Z",
     "iopub.status.busy": "2025-06-07T17:48:12.196777Z",
     "iopub.status.idle": "2025-06-07T17:48:12.892491Z",
     "shell.execute_reply": "2025-06-07T17:48:12.890233Z"
    },
    "papermill": {
     "duration": 0.709483,
     "end_time": "2025-06-07T17:48:12.894386",
     "exception": false,
     "start_time": "2025-06-07T17:48:12.184903",
     "status": "completed"
    },
    "tags": []
   },
   "outputs": [
    {
     "data": {
      "text/html": [
       "<style>#sk-container-id-1 {color: black;background-color: white;}#sk-container-id-1 pre{padding: 0;}#sk-container-id-1 div.sk-toggleable {background-color: white;}#sk-container-id-1 label.sk-toggleable__label {cursor: pointer;display: block;width: 100%;margin-bottom: 0;padding: 0.3em;box-sizing: border-box;text-align: center;}#sk-container-id-1 label.sk-toggleable__label-arrow:before {content: \"▸\";float: left;margin-right: 0.25em;color: #696969;}#sk-container-id-1 label.sk-toggleable__label-arrow:hover:before {color: black;}#sk-container-id-1 div.sk-estimator:hover label.sk-toggleable__label-arrow:before {color: black;}#sk-container-id-1 div.sk-toggleable__content {max-height: 0;max-width: 0;overflow: hidden;text-align: left;background-color: #f0f8ff;}#sk-container-id-1 div.sk-toggleable__content pre {margin: 0.2em;color: black;border-radius: 0.25em;background-color: #f0f8ff;}#sk-container-id-1 input.sk-toggleable__control:checked~div.sk-toggleable__content {max-height: 200px;max-width: 100%;overflow: auto;}#sk-container-id-1 input.sk-toggleable__control:checked~label.sk-toggleable__label-arrow:before {content: \"▾\";}#sk-container-id-1 div.sk-estimator input.sk-toggleable__control:checked~label.sk-toggleable__label {background-color: #d4ebff;}#sk-container-id-1 div.sk-label input.sk-toggleable__control:checked~label.sk-toggleable__label {background-color: #d4ebff;}#sk-container-id-1 input.sk-hidden--visually {border: 0;clip: rect(1px 1px 1px 1px);clip: rect(1px, 1px, 1px, 1px);height: 1px;margin: -1px;overflow: hidden;padding: 0;position: absolute;width: 1px;}#sk-container-id-1 div.sk-estimator {font-family: monospace;background-color: #f0f8ff;border: 1px dotted black;border-radius: 0.25em;box-sizing: border-box;margin-bottom: 0.5em;}#sk-container-id-1 div.sk-estimator:hover {background-color: #d4ebff;}#sk-container-id-1 div.sk-parallel-item::after {content: \"\";width: 100%;border-bottom: 1px solid gray;flex-grow: 1;}#sk-container-id-1 div.sk-label:hover label.sk-toggleable__label {background-color: #d4ebff;}#sk-container-id-1 div.sk-serial::before {content: \"\";position: absolute;border-left: 1px solid gray;box-sizing: border-box;top: 0;bottom: 0;left: 50%;z-index: 0;}#sk-container-id-1 div.sk-serial {display: flex;flex-direction: column;align-items: center;background-color: white;padding-right: 0.2em;padding-left: 0.2em;position: relative;}#sk-container-id-1 div.sk-item {position: relative;z-index: 1;}#sk-container-id-1 div.sk-parallel {display: flex;align-items: stretch;justify-content: center;background-color: white;position: relative;}#sk-container-id-1 div.sk-item::before, #sk-container-id-1 div.sk-parallel-item::before {content: \"\";position: absolute;border-left: 1px solid gray;box-sizing: border-box;top: 0;bottom: 0;left: 50%;z-index: -1;}#sk-container-id-1 div.sk-parallel-item {display: flex;flex-direction: column;z-index: 1;position: relative;background-color: white;}#sk-container-id-1 div.sk-parallel-item:first-child::after {align-self: flex-end;width: 50%;}#sk-container-id-1 div.sk-parallel-item:last-child::after {align-self: flex-start;width: 50%;}#sk-container-id-1 div.sk-parallel-item:only-child::after {width: 0;}#sk-container-id-1 div.sk-dashed-wrapped {border: 1px dashed gray;margin: 0 0.4em 0.5em 0.4em;box-sizing: border-box;padding-bottom: 0.4em;background-color: white;}#sk-container-id-1 div.sk-label label {font-family: monospace;font-weight: bold;display: inline-block;line-height: 1.2em;}#sk-container-id-1 div.sk-label-container {text-align: center;}#sk-container-id-1 div.sk-container {/* jupyter's `normalize.less` sets `[hidden] { display: none; }` but bootstrap.min.css set `[hidden] { display: none !important; }` so we also need the `!important` here to be able to override the default hidden behavior on the sphinx rendered scikit-learn.org. See: https://github.com/scikit-learn/scikit-learn/issues/21755 */display: inline-block !important;position: relative;}#sk-container-id-1 div.sk-text-repr-fallback {display: none;}</style><div id=\"sk-container-id-1\" class=\"sk-top-container\"><div class=\"sk-text-repr-fallback\"><pre>LogisticRegression(multi_class=&#x27;multinomial&#x27;)</pre><b>In a Jupyter environment, please rerun this cell to show the HTML representation or trust the notebook. <br />On GitHub, the HTML representation is unable to render, please try loading this page with nbviewer.org.</b></div><div class=\"sk-container\" hidden><div class=\"sk-item\"><div class=\"sk-estimator sk-toggleable\"><input class=\"sk-toggleable__control sk-hidden--visually\" id=\"sk-estimator-id-1\" type=\"checkbox\" checked><label for=\"sk-estimator-id-1\" class=\"sk-toggleable__label sk-toggleable__label-arrow\">LogisticRegression</label><div class=\"sk-toggleable__content\"><pre>LogisticRegression(multi_class=&#x27;multinomial&#x27;)</pre></div></div></div></div></div>"
      ],
      "text/plain": [
       "LogisticRegression(multi_class='multinomial')"
      ]
     },
     "execution_count": 20,
     "metadata": {},
     "output_type": "execute_result"
    }
   ],
   "source": [
    "model0.fit(X_train, y_train)"
   ]
  },
  {
   "cell_type": "code",
   "execution_count": 21,
   "id": "5840bf07",
   "metadata": {
    "execution": {
     "iopub.execute_input": "2025-06-07T17:48:12.930720Z",
     "iopub.status.busy": "2025-06-07T17:48:12.930376Z",
     "iopub.status.idle": "2025-06-07T17:48:12.943988Z",
     "shell.execute_reply": "2025-06-07T17:48:12.943289Z"
    },
    "papermill": {
     "duration": 0.033569,
     "end_time": "2025-06-07T17:48:12.945776",
     "exception": false,
     "start_time": "2025-06-07T17:48:12.912207",
     "status": "completed"
    },
    "tags": []
   },
   "outputs": [],
   "source": [
    "y_preds = model0.predict(X_test)"
   ]
  },
  {
   "cell_type": "code",
   "execution_count": 22,
   "id": "09d1d766",
   "metadata": {
    "execution": {
     "iopub.execute_input": "2025-06-07T17:48:12.982360Z",
     "iopub.status.busy": "2025-06-07T17:48:12.981462Z",
     "iopub.status.idle": "2025-06-07T17:48:12.988046Z",
     "shell.execute_reply": "2025-06-07T17:48:12.987318Z"
    },
    "papermill": {
     "duration": 0.026671,
     "end_time": "2025-06-07T17:48:12.989874",
     "exception": false,
     "start_time": "2025-06-07T17:48:12.963203",
     "status": "completed"
    },
    "tags": []
   },
   "outputs": [],
   "source": [
    "from sklearn.metrics import auc, confusion_matrix, f1_score, precision_score, recall_score, roc_curve, classification_report, accuracy_score"
   ]
  },
  {
   "cell_type": "code",
   "execution_count": 23,
   "id": "37758c6d",
   "metadata": {
    "execution": {
     "iopub.execute_input": "2025-06-07T17:48:13.014053Z",
     "iopub.status.busy": "2025-06-07T17:48:13.013732Z",
     "iopub.status.idle": "2025-06-07T17:48:13.076878Z",
     "shell.execute_reply": "2025-06-07T17:48:13.075623Z"
    },
    "papermill": {
     "duration": 0.075832,
     "end_time": "2025-06-07T17:48:13.078359",
     "exception": false,
     "start_time": "2025-06-07T17:48:13.002527",
     "status": "completed"
    },
    "tags": []
   },
   "outputs": [
    {
     "name": "stdout",
     "output_type": "stream",
     "text": [
      "Classification Report:\n",
      "\n",
      "              precision    recall  f1-score   support\n",
      "\n",
      "        farm       0.81      0.82      0.82       207\n",
      "      forest       0.98      0.99      0.99      1534\n",
      "       grass       0.67      0.66      0.67        53\n",
      "  impervious       0.81      0.77      0.79       171\n",
      "     orchard       0.14      0.11      0.12         9\n",
      "       water       0.74      0.65      0.69        26\n",
      "\n",
      "    accuracy                           0.94      2000\n",
      "   macro avg       0.69      0.67      0.68      2000\n",
      "weighted avg       0.93      0.94      0.94      2000\n",
      "\n"
     ]
    }
   ],
   "source": [
    "print(\"Classification Report:\\n\")\n",
    "\n",
    "print(classification_report(y_test, y_preds))"
   ]
  },
  {
   "cell_type": "markdown",
   "id": "be4bc484",
   "metadata": {
    "papermill": {
     "duration": 0.01001,
     "end_time": "2025-06-07T17:48:13.098866",
     "exception": false,
     "start_time": "2025-06-07T17:48:13.088856",
     "status": "completed"
    },
    "tags": []
   },
   "source": [
    "<h1>GridSearchCV; Accuracy: 96%</h1>\n",
    "\n",
    "Reference: https://scikit-learn.org/stable/modules/generated/sklearn.model_selection.GridSearchCV.html"
   ]
  },
  {
   "cell_type": "code",
   "execution_count": 24,
   "id": "dfba40d4",
   "metadata": {
    "execution": {
     "iopub.execute_input": "2025-06-07T17:48:13.121888Z",
     "iopub.status.busy": "2025-06-07T17:48:13.121478Z",
     "iopub.status.idle": "2025-06-07T17:48:13.127489Z",
     "shell.execute_reply": "2025-06-07T17:48:13.126332Z"
    },
    "papermill": {
     "duration": 0.02045,
     "end_time": "2025-06-07T17:48:13.129650",
     "exception": false,
     "start_time": "2025-06-07T17:48:13.109200",
     "status": "completed"
    },
    "tags": []
   },
   "outputs": [],
   "source": [
    "params = [\n",
    "    {\n",
    "        \"penalty\": ['l1', 'l2', 'elasticnet', None]\n",
    "    },\n",
    "    {\n",
    "        \"tol\": [0.1, 0.001, 0.0001, 0.00001]\n",
    "    },\n",
    "    {\n",
    "        \"C\": [1, 1.1, 1.2, 1.3, 1.4, 1.5, 2, 3, 4]\n",
    "    },\n",
    "    {\n",
    "        \"solver\": ['lbfgs', 'liblinear', 'newton-cg', 'newton-cholesky', 'sag', 'saga']\n",
    "    },\n",
    "    {\n",
    "        \"max_iter\": [10, 100, 150, 200, 500, 1000]\n",
    "    },\n",
    "]"
   ]
  },
  {
   "cell_type": "code",
   "execution_count": 25,
   "id": "e091dc70",
   "metadata": {
    "execution": {
     "iopub.execute_input": "2025-06-07T17:48:13.154432Z",
     "iopub.status.busy": "2025-06-07T17:48:13.154092Z",
     "iopub.status.idle": "2025-06-07T17:48:13.158670Z",
     "shell.execute_reply": "2025-06-07T17:48:13.157681Z"
    },
    "papermill": {
     "duration": 0.019717,
     "end_time": "2025-06-07T17:48:13.160465",
     "exception": false,
     "start_time": "2025-06-07T17:48:13.140748",
     "status": "completed"
    },
    "tags": []
   },
   "outputs": [],
   "source": [
    "model1 = LogisticRegression()"
   ]
  },
  {
   "cell_type": "code",
   "execution_count": 26,
   "id": "e06f5f7e",
   "metadata": {
    "execution": {
     "iopub.execute_input": "2025-06-07T17:48:13.182965Z",
     "iopub.status.busy": "2025-06-07T17:48:13.182653Z",
     "iopub.status.idle": "2025-06-07T17:48:13.187301Z",
     "shell.execute_reply": "2025-06-07T17:48:13.186326Z"
    },
    "papermill": {
     "duration": 0.017759,
     "end_time": "2025-06-07T17:48:13.188797",
     "exception": false,
     "start_time": "2025-06-07T17:48:13.171038",
     "status": "completed"
    },
    "tags": []
   },
   "outputs": [],
   "source": [
    "from sklearn.model_selection import GridSearchCV"
   ]
  },
  {
   "cell_type": "code",
   "execution_count": 27,
   "id": "c0823448",
   "metadata": {
    "execution": {
     "iopub.execute_input": "2025-06-07T17:48:13.212235Z",
     "iopub.status.busy": "2025-06-07T17:48:13.211296Z",
     "iopub.status.idle": "2025-06-07T17:48:13.216073Z",
     "shell.execute_reply": "2025-06-07T17:48:13.215190Z"
    },
    "papermill": {
     "duration": 0.018032,
     "end_time": "2025-06-07T17:48:13.217780",
     "exception": false,
     "start_time": "2025-06-07T17:48:13.199748",
     "status": "completed"
    },
    "tags": []
   },
   "outputs": [],
   "source": [
    "grid_logisticreg = GridSearchCV(model1, params, cv=5, scoring='accuracy', n_jobs=-1)"
   ]
  },
  {
   "cell_type": "code",
   "execution_count": 28,
   "id": "97185466",
   "metadata": {
    "execution": {
     "iopub.execute_input": "2025-06-07T17:48:13.242915Z",
     "iopub.status.busy": "2025-06-07T17:48:13.242577Z",
     "iopub.status.idle": "2025-06-07T17:48:36.374378Z",
     "shell.execute_reply": "2025-06-07T17:48:36.373385Z"
    },
    "papermill": {
     "duration": 23.146153,
     "end_time": "2025-06-07T17:48:36.375964",
     "exception": false,
     "start_time": "2025-06-07T17:48:13.229811",
     "status": "completed"
    },
    "tags": []
   },
   "outputs": [
    {
     "name": "stderr",
     "output_type": "stream",
     "text": [
      "/usr/local/lib/python3.11/dist-packages/sklearn/linear_model/_logistic.py:458: ConvergenceWarning: lbfgs failed to converge (status=1):\n",
      "STOP: TOTAL NO. OF ITERATIONS REACHED LIMIT.\n",
      "\n",
      "Increase the number of iterations (max_iter) or scale the data as shown in:\n",
      "    https://scikit-learn.org/stable/modules/preprocessing.html\n",
      "Please also refer to the documentation for alternative solver options:\n",
      "    https://scikit-learn.org/stable/modules/linear_model.html#logistic-regression\n",
      "  n_iter_i = _check_optimize_result(\n",
      "/usr/local/lib/python3.11/dist-packages/sklearn/linear_model/_logistic.py:458: ConvergenceWarning: lbfgs failed to converge (status=1):\n",
      "STOP: TOTAL NO. OF ITERATIONS REACHED LIMIT.\n",
      "\n",
      "Increase the number of iterations (max_iter) or scale the data as shown in:\n",
      "    https://scikit-learn.org/stable/modules/preprocessing.html\n",
      "Please also refer to the documentation for alternative solver options:\n",
      "    https://scikit-learn.org/stable/modules/linear_model.html#logistic-regression\n",
      "  n_iter_i = _check_optimize_result(\n",
      "/usr/local/lib/python3.11/dist-packages/sklearn/linear_model/_logistic.py:458: ConvergenceWarning: lbfgs failed to converge (status=1):\n",
      "STOP: TOTAL NO. OF ITERATIONS REACHED LIMIT.\n",
      "\n",
      "Increase the number of iterations (max_iter) or scale the data as shown in:\n",
      "    https://scikit-learn.org/stable/modules/preprocessing.html\n",
      "Please also refer to the documentation for alternative solver options:\n",
      "    https://scikit-learn.org/stable/modules/linear_model.html#logistic-regression\n",
      "  n_iter_i = _check_optimize_result(\n",
      "/usr/local/lib/python3.11/dist-packages/sklearn/linear_model/_logistic.py:458: ConvergenceWarning: lbfgs failed to converge (status=1):\n",
      "STOP: TOTAL NO. OF ITERATIONS REACHED LIMIT.\n",
      "\n",
      "Increase the number of iterations (max_iter) or scale the data as shown in:\n",
      "    https://scikit-learn.org/stable/modules/preprocessing.html\n",
      "Please also refer to the documentation for alternative solver options:\n",
      "    https://scikit-learn.org/stable/modules/linear_model.html#logistic-regression\n",
      "  n_iter_i = _check_optimize_result(\n",
      "/usr/local/lib/python3.11/dist-packages/sklearn/linear_model/_logistic.py:458: ConvergenceWarning: lbfgs failed to converge (status=1):\n",
      "STOP: TOTAL NO. OF ITERATIONS REACHED LIMIT.\n",
      "\n",
      "Increase the number of iterations (max_iter) or scale the data as shown in:\n",
      "    https://scikit-learn.org/stable/modules/preprocessing.html\n",
      "Please also refer to the documentation for alternative solver options:\n",
      "    https://scikit-learn.org/stable/modules/linear_model.html#logistic-regression\n",
      "  n_iter_i = _check_optimize_result(\n",
      "/usr/local/lib/python3.11/dist-packages/sklearn/linear_model/_logistic.py:458: ConvergenceWarning: lbfgs failed to converge (status=1):\n",
      "STOP: TOTAL NO. OF ITERATIONS REACHED LIMIT.\n",
      "\n",
      "Increase the number of iterations (max_iter) or scale the data as shown in:\n",
      "    https://scikit-learn.org/stable/modules/preprocessing.html\n",
      "Please also refer to the documentation for alternative solver options:\n",
      "    https://scikit-learn.org/stable/modules/linear_model.html#logistic-regression\n",
      "  n_iter_i = _check_optimize_result(\n",
      "/usr/local/lib/python3.11/dist-packages/sklearn/linear_model/_logistic.py:458: ConvergenceWarning: lbfgs failed to converge (status=1):\n",
      "STOP: TOTAL NO. OF ITERATIONS REACHED LIMIT.\n",
      "\n",
      "Increase the number of iterations (max_iter) or scale the data as shown in:\n",
      "    https://scikit-learn.org/stable/modules/preprocessing.html\n",
      "Please also refer to the documentation for alternative solver options:\n",
      "    https://scikit-learn.org/stable/modules/linear_model.html#logistic-regression\n",
      "  n_iter_i = _check_optimize_result(\n",
      "/usr/local/lib/python3.11/dist-packages/sklearn/linear_model/_logistic.py:458: ConvergenceWarning: lbfgs failed to converge (status=1):\n",
      "STOP: TOTAL NO. OF ITERATIONS REACHED LIMIT.\n",
      "\n",
      "Increase the number of iterations (max_iter) or scale the data as shown in:\n",
      "    https://scikit-learn.org/stable/modules/preprocessing.html\n",
      "Please also refer to the documentation for alternative solver options:\n",
      "    https://scikit-learn.org/stable/modules/linear_model.html#logistic-regression\n",
      "  n_iter_i = _check_optimize_result(\n",
      "/usr/local/lib/python3.11/dist-packages/sklearn/linear_model/_logistic.py:458: ConvergenceWarning: lbfgs failed to converge (status=1):\n",
      "STOP: TOTAL NO. OF ITERATIONS REACHED LIMIT.\n",
      "\n",
      "Increase the number of iterations (max_iter) or scale the data as shown in:\n",
      "    https://scikit-learn.org/stable/modules/preprocessing.html\n",
      "Please also refer to the documentation for alternative solver options:\n",
      "    https://scikit-learn.org/stable/modules/linear_model.html#logistic-regression\n",
      "  n_iter_i = _check_optimize_result(\n",
      "/usr/local/lib/python3.11/dist-packages/sklearn/linear_model/_logistic.py:458: ConvergenceWarning: lbfgs failed to converge (status=1):\n",
      "STOP: TOTAL NO. OF ITERATIONS REACHED LIMIT.\n",
      "\n",
      "Increase the number of iterations (max_iter) or scale the data as shown in:\n",
      "    https://scikit-learn.org/stable/modules/preprocessing.html\n",
      "Please also refer to the documentation for alternative solver options:\n",
      "    https://scikit-learn.org/stable/modules/linear_model.html#logistic-regression\n",
      "  n_iter_i = _check_optimize_result(\n",
      "/usr/local/lib/python3.11/dist-packages/sklearn/linear_model/_logistic.py:458: ConvergenceWarning: lbfgs failed to converge (status=1):\n",
      "STOP: TOTAL NO. OF ITERATIONS REACHED LIMIT.\n",
      "\n",
      "Increase the number of iterations (max_iter) or scale the data as shown in:\n",
      "    https://scikit-learn.org/stable/modules/preprocessing.html\n",
      "Please also refer to the documentation for alternative solver options:\n",
      "    https://scikit-learn.org/stable/modules/linear_model.html#logistic-regression\n",
      "  n_iter_i = _check_optimize_result(\n",
      "/usr/local/lib/python3.11/dist-packages/sklearn/linear_model/_logistic.py:458: ConvergenceWarning: lbfgs failed to converge (status=1):\n",
      "STOP: TOTAL NO. OF ITERATIONS REACHED LIMIT.\n",
      "\n",
      "Increase the number of iterations (max_iter) or scale the data as shown in:\n",
      "    https://scikit-learn.org/stable/modules/preprocessing.html\n",
      "Please also refer to the documentation for alternative solver options:\n",
      "    https://scikit-learn.org/stable/modules/linear_model.html#logistic-regression\n",
      "  n_iter_i = _check_optimize_result(\n",
      "/usr/local/lib/python3.11/dist-packages/sklearn/linear_model/_logistic.py:458: ConvergenceWarning: lbfgs failed to converge (status=1):\n",
      "STOP: TOTAL NO. OF ITERATIONS REACHED LIMIT.\n",
      "\n",
      "Increase the number of iterations (max_iter) or scale the data as shown in:\n",
      "    https://scikit-learn.org/stable/modules/preprocessing.html\n",
      "Please also refer to the documentation for alternative solver options:\n",
      "    https://scikit-learn.org/stable/modules/linear_model.html#logistic-regression\n",
      "  n_iter_i = _check_optimize_result(\n",
      "/usr/local/lib/python3.11/dist-packages/sklearn/linear_model/_logistic.py:458: ConvergenceWarning: lbfgs failed to converge (status=1):\n",
      "STOP: TOTAL NO. OF ITERATIONS REACHED LIMIT.\n",
      "\n",
      "Increase the number of iterations (max_iter) or scale the data as shown in:\n",
      "    https://scikit-learn.org/stable/modules/preprocessing.html\n",
      "Please also refer to the documentation for alternative solver options:\n",
      "    https://scikit-learn.org/stable/modules/linear_model.html#logistic-regression\n",
      "  n_iter_i = _check_optimize_result(\n",
      "/usr/local/lib/python3.11/dist-packages/sklearn/linear_model/_logistic.py:458: ConvergenceWarning: lbfgs failed to converge (status=1):\n",
      "STOP: TOTAL NO. OF ITERATIONS REACHED LIMIT.\n",
      "\n",
      "Increase the number of iterations (max_iter) or scale the data as shown in:\n",
      "    https://scikit-learn.org/stable/modules/preprocessing.html\n",
      "Please also refer to the documentation for alternative solver options:\n",
      "    https://scikit-learn.org/stable/modules/linear_model.html#logistic-regression\n",
      "  n_iter_i = _check_optimize_result(\n",
      "/usr/local/lib/python3.11/dist-packages/sklearn/linear_model/_logistic.py:458: ConvergenceWarning: lbfgs failed to converge (status=1):\n",
      "STOP: TOTAL NO. OF ITERATIONS REACHED LIMIT.\n",
      "\n",
      "Increase the number of iterations (max_iter) or scale the data as shown in:\n",
      "    https://scikit-learn.org/stable/modules/preprocessing.html\n",
      "Please also refer to the documentation for alternative solver options:\n",
      "    https://scikit-learn.org/stable/modules/linear_model.html#logistic-regression\n",
      "  n_iter_i = _check_optimize_result(\n",
      "/usr/local/lib/python3.11/dist-packages/sklearn/linear_model/_logistic.py:458: ConvergenceWarning: lbfgs failed to converge (status=1):\n",
      "STOP: TOTAL NO. OF ITERATIONS REACHED LIMIT.\n",
      "\n",
      "Increase the number of iterations (max_iter) or scale the data as shown in:\n",
      "    https://scikit-learn.org/stable/modules/preprocessing.html\n",
      "Please also refer to the documentation for alternative solver options:\n",
      "    https://scikit-learn.org/stable/modules/linear_model.html#logistic-regression\n",
      "  n_iter_i = _check_optimize_result(\n",
      "/usr/local/lib/python3.11/dist-packages/sklearn/linear_model/_logistic.py:458: ConvergenceWarning: lbfgs failed to converge (status=1):\n",
      "STOP: TOTAL NO. OF ITERATIONS REACHED LIMIT.\n",
      "\n",
      "Increase the number of iterations (max_iter) or scale the data as shown in:\n",
      "    https://scikit-learn.org/stable/modules/preprocessing.html\n",
      "Please also refer to the documentation for alternative solver options:\n",
      "    https://scikit-learn.org/stable/modules/linear_model.html#logistic-regression\n",
      "  n_iter_i = _check_optimize_result(\n",
      "/usr/local/lib/python3.11/dist-packages/sklearn/linear_model/_logistic.py:458: ConvergenceWarning: lbfgs failed to converge (status=1):\n",
      "STOP: TOTAL NO. OF ITERATIONS REACHED LIMIT.\n",
      "\n",
      "Increase the number of iterations (max_iter) or scale the data as shown in:\n",
      "    https://scikit-learn.org/stable/modules/preprocessing.html\n",
      "Please also refer to the documentation for alternative solver options:\n",
      "    https://scikit-learn.org/stable/modules/linear_model.html#logistic-regression\n",
      "  n_iter_i = _check_optimize_result(\n",
      "/usr/local/lib/python3.11/dist-packages/sklearn/linear_model/_logistic.py:458: ConvergenceWarning: lbfgs failed to converge (status=1):\n",
      "STOP: TOTAL NO. OF ITERATIONS REACHED LIMIT.\n",
      "\n",
      "Increase the number of iterations (max_iter) or scale the data as shown in:\n",
      "    https://scikit-learn.org/stable/modules/preprocessing.html\n",
      "Please also refer to the documentation for alternative solver options:\n",
      "    https://scikit-learn.org/stable/modules/linear_model.html#logistic-regression\n",
      "  n_iter_i = _check_optimize_result(\n",
      "/usr/local/lib/python3.11/dist-packages/sklearn/linear_model/_logistic.py:458: ConvergenceWarning: lbfgs failed to converge (status=1):\n",
      "STOP: TOTAL NO. OF ITERATIONS REACHED LIMIT.\n",
      "\n",
      "Increase the number of iterations (max_iter) or scale the data as shown in:\n",
      "    https://scikit-learn.org/stable/modules/preprocessing.html\n",
      "Please also refer to the documentation for alternative solver options:\n",
      "    https://scikit-learn.org/stable/modules/linear_model.html#logistic-regression\n",
      "  n_iter_i = _check_optimize_result(\n",
      "/usr/local/lib/python3.11/dist-packages/sklearn/linear_model/_logistic.py:458: ConvergenceWarning: lbfgs failed to converge (status=1):\n",
      "STOP: TOTAL NO. OF ITERATIONS REACHED LIMIT.\n",
      "\n",
      "Increase the number of iterations (max_iter) or scale the data as shown in:\n",
      "    https://scikit-learn.org/stable/modules/preprocessing.html\n",
      "Please also refer to the documentation for alternative solver options:\n",
      "    https://scikit-learn.org/stable/modules/linear_model.html#logistic-regression\n",
      "  n_iter_i = _check_optimize_result(\n",
      "/usr/local/lib/python3.11/dist-packages/sklearn/linear_model/_logistic.py:458: ConvergenceWarning: lbfgs failed to converge (status=1):\n",
      "STOP: TOTAL NO. OF ITERATIONS REACHED LIMIT.\n",
      "\n",
      "Increase the number of iterations (max_iter) or scale the data as shown in:\n",
      "    https://scikit-learn.org/stable/modules/preprocessing.html\n",
      "Please also refer to the documentation for alternative solver options:\n",
      "    https://scikit-learn.org/stable/modules/linear_model.html#logistic-regression\n",
      "  n_iter_i = _check_optimize_result(\n",
      "/usr/local/lib/python3.11/dist-packages/sklearn/linear_model/_logistic.py:458: ConvergenceWarning: lbfgs failed to converge (status=1):\n",
      "STOP: TOTAL NO. OF ITERATIONS REACHED LIMIT.\n",
      "\n",
      "Increase the number of iterations (max_iter) or scale the data as shown in:\n",
      "    https://scikit-learn.org/stable/modules/preprocessing.html\n",
      "Please also refer to the documentation for alternative solver options:\n",
      "    https://scikit-learn.org/stable/modules/linear_model.html#logistic-regression\n",
      "  n_iter_i = _check_optimize_result(\n",
      "/usr/local/lib/python3.11/dist-packages/sklearn/linear_model/_logistic.py:458: ConvergenceWarning: lbfgs failed to converge (status=1):\n",
      "STOP: TOTAL NO. OF ITERATIONS REACHED LIMIT.\n",
      "\n",
      "Increase the number of iterations (max_iter) or scale the data as shown in:\n",
      "    https://scikit-learn.org/stable/modules/preprocessing.html\n",
      "Please also refer to the documentation for alternative solver options:\n",
      "    https://scikit-learn.org/stable/modules/linear_model.html#logistic-regression\n",
      "  n_iter_i = _check_optimize_result(\n",
      "/usr/local/lib/python3.11/dist-packages/sklearn/linear_model/_logistic.py:458: ConvergenceWarning: lbfgs failed to converge (status=1):\n",
      "STOP: TOTAL NO. OF ITERATIONS REACHED LIMIT.\n",
      "\n",
      "Increase the number of iterations (max_iter) or scale the data as shown in:\n",
      "    https://scikit-learn.org/stable/modules/preprocessing.html\n",
      "Please also refer to the documentation for alternative solver options:\n",
      "    https://scikit-learn.org/stable/modules/linear_model.html#logistic-regression\n",
      "  n_iter_i = _check_optimize_result(\n",
      "/usr/local/lib/python3.11/dist-packages/sklearn/linear_model/_logistic.py:458: ConvergenceWarning: lbfgs failed to converge (status=1):\n",
      "STOP: TOTAL NO. OF ITERATIONS REACHED LIMIT.\n",
      "\n",
      "Increase the number of iterations (max_iter) or scale the data as shown in:\n",
      "    https://scikit-learn.org/stable/modules/preprocessing.html\n",
      "Please also refer to the documentation for alternative solver options:\n",
      "    https://scikit-learn.org/stable/modules/linear_model.html#logistic-regression\n",
      "  n_iter_i = _check_optimize_result(\n",
      "/usr/local/lib/python3.11/dist-packages/sklearn/linear_model/_logistic.py:458: ConvergenceWarning: lbfgs failed to converge (status=1):\n",
      "STOP: TOTAL NO. OF ITERATIONS REACHED LIMIT.\n",
      "\n",
      "Increase the number of iterations (max_iter) or scale the data as shown in:\n",
      "    https://scikit-learn.org/stable/modules/preprocessing.html\n",
      "Please also refer to the documentation for alternative solver options:\n",
      "    https://scikit-learn.org/stable/modules/linear_model.html#logistic-regression\n",
      "  n_iter_i = _check_optimize_result(\n",
      "/usr/local/lib/python3.11/dist-packages/sklearn/linear_model/_logistic.py:458: ConvergenceWarning: lbfgs failed to converge (status=1):\n",
      "STOP: TOTAL NO. OF ITERATIONS REACHED LIMIT.\n",
      "\n",
      "Increase the number of iterations (max_iter) or scale the data as shown in:\n",
      "    https://scikit-learn.org/stable/modules/preprocessing.html\n",
      "Please also refer to the documentation for alternative solver options:\n",
      "    https://scikit-learn.org/stable/modules/linear_model.html#logistic-regression\n",
      "  n_iter_i = _check_optimize_result(\n",
      "/usr/local/lib/python3.11/dist-packages/sklearn/linear_model/_logistic.py:458: ConvergenceWarning: lbfgs failed to converge (status=1):\n",
      "STOP: TOTAL NO. OF ITERATIONS REACHED LIMIT.\n",
      "\n",
      "Increase the number of iterations (max_iter) or scale the data as shown in:\n",
      "    https://scikit-learn.org/stable/modules/preprocessing.html\n",
      "Please also refer to the documentation for alternative solver options:\n",
      "    https://scikit-learn.org/stable/modules/linear_model.html#logistic-regression\n",
      "  n_iter_i = _check_optimize_result(\n",
      "/usr/local/lib/python3.11/dist-packages/sklearn/linear_model/_logistic.py:458: ConvergenceWarning: lbfgs failed to converge (status=1):\n",
      "STOP: TOTAL NO. OF ITERATIONS REACHED LIMIT.\n",
      "\n",
      "Increase the number of iterations (max_iter) or scale the data as shown in:\n",
      "    https://scikit-learn.org/stable/modules/preprocessing.html\n",
      "Please also refer to the documentation for alternative solver options:\n",
      "    https://scikit-learn.org/stable/modules/linear_model.html#logistic-regression\n",
      "  n_iter_i = _check_optimize_result(\n",
      "/usr/local/lib/python3.11/dist-packages/sklearn/linear_model/_logistic.py:458: ConvergenceWarning: lbfgs failed to converge (status=1):\n",
      "STOP: TOTAL NO. OF ITERATIONS REACHED LIMIT.\n",
      "\n",
      "Increase the number of iterations (max_iter) or scale the data as shown in:\n",
      "    https://scikit-learn.org/stable/modules/preprocessing.html\n",
      "Please also refer to the documentation for alternative solver options:\n",
      "    https://scikit-learn.org/stable/modules/linear_model.html#logistic-regression\n",
      "  n_iter_i = _check_optimize_result(\n",
      "/usr/local/lib/python3.11/dist-packages/sklearn/linear_model/_logistic.py:458: ConvergenceWarning: lbfgs failed to converge (status=1):\n",
      "STOP: TOTAL NO. OF ITERATIONS REACHED LIMIT.\n",
      "\n",
      "Increase the number of iterations (max_iter) or scale the data as shown in:\n",
      "    https://scikit-learn.org/stable/modules/preprocessing.html\n",
      "Please also refer to the documentation for alternative solver options:\n",
      "    https://scikit-learn.org/stable/modules/linear_model.html#logistic-regression\n",
      "  n_iter_i = _check_optimize_result(\n",
      "/usr/local/lib/python3.11/dist-packages/sklearn/linear_model/_logistic.py:458: ConvergenceWarning: lbfgs failed to converge (status=1):\n",
      "STOP: TOTAL NO. OF ITERATIONS REACHED LIMIT.\n",
      "\n",
      "Increase the number of iterations (max_iter) or scale the data as shown in:\n",
      "    https://scikit-learn.org/stable/modules/preprocessing.html\n",
      "Please also refer to the documentation for alternative solver options:\n",
      "    https://scikit-learn.org/stable/modules/linear_model.html#logistic-regression\n",
      "  n_iter_i = _check_optimize_result(\n",
      "/usr/local/lib/python3.11/dist-packages/sklearn/linear_model/_logistic.py:458: ConvergenceWarning: lbfgs failed to converge (status=1):\n",
      "STOP: TOTAL NO. OF ITERATIONS REACHED LIMIT.\n",
      "\n",
      "Increase the number of iterations (max_iter) or scale the data as shown in:\n",
      "    https://scikit-learn.org/stable/modules/preprocessing.html\n",
      "Please also refer to the documentation for alternative solver options:\n",
      "    https://scikit-learn.org/stable/modules/linear_model.html#logistic-regression\n",
      "  n_iter_i = _check_optimize_result(\n",
      "/usr/local/lib/python3.11/dist-packages/sklearn/linear_model/_logistic.py:458: ConvergenceWarning: lbfgs failed to converge (status=1):\n",
      "STOP: TOTAL NO. OF ITERATIONS REACHED LIMIT.\n",
      "\n",
      "Increase the number of iterations (max_iter) or scale the data as shown in:\n",
      "    https://scikit-learn.org/stable/modules/preprocessing.html\n",
      "Please also refer to the documentation for alternative solver options:\n",
      "    https://scikit-learn.org/stable/modules/linear_model.html#logistic-regression\n",
      "  n_iter_i = _check_optimize_result(\n",
      "/usr/local/lib/python3.11/dist-packages/sklearn/linear_model/_logistic.py:458: ConvergenceWarning: lbfgs failed to converge (status=1):\n",
      "STOP: TOTAL NO. OF ITERATIONS REACHED LIMIT.\n",
      "\n",
      "Increase the number of iterations (max_iter) or scale the data as shown in:\n",
      "    https://scikit-learn.org/stable/modules/preprocessing.html\n",
      "Please also refer to the documentation for alternative solver options:\n",
      "    https://scikit-learn.org/stable/modules/linear_model.html#logistic-regression\n",
      "  n_iter_i = _check_optimize_result(\n",
      "/usr/local/lib/python3.11/dist-packages/sklearn/linear_model/_logistic.py:458: ConvergenceWarning: lbfgs failed to converge (status=1):\n",
      "STOP: TOTAL NO. OF ITERATIONS REACHED LIMIT.\n",
      "\n",
      "Increase the number of iterations (max_iter) or scale the data as shown in:\n",
      "    https://scikit-learn.org/stable/modules/preprocessing.html\n",
      "Please also refer to the documentation for alternative solver options:\n",
      "    https://scikit-learn.org/stable/modules/linear_model.html#logistic-regression\n",
      "  n_iter_i = _check_optimize_result(\n",
      "/usr/local/lib/python3.11/dist-packages/sklearn/linear_model/_logistic.py:458: ConvergenceWarning: lbfgs failed to converge (status=1):\n",
      "STOP: TOTAL NO. OF ITERATIONS REACHED LIMIT.\n",
      "\n",
      "Increase the number of iterations (max_iter) or scale the data as shown in:\n",
      "    https://scikit-learn.org/stable/modules/preprocessing.html\n",
      "Please also refer to the documentation for alternative solver options:\n",
      "    https://scikit-learn.org/stable/modules/linear_model.html#logistic-regression\n",
      "  n_iter_i = _check_optimize_result(\n",
      "/usr/local/lib/python3.11/dist-packages/sklearn/linear_model/_logistic.py:458: ConvergenceWarning: lbfgs failed to converge (status=1):\n",
      "STOP: TOTAL NO. OF ITERATIONS REACHED LIMIT.\n",
      "\n",
      "Increase the number of iterations (max_iter) or scale the data as shown in:\n",
      "    https://scikit-learn.org/stable/modules/preprocessing.html\n",
      "Please also refer to the documentation for alternative solver options:\n",
      "    https://scikit-learn.org/stable/modules/linear_model.html#logistic-regression\n",
      "  n_iter_i = _check_optimize_result(\n",
      "/usr/local/lib/python3.11/dist-packages/sklearn/linear_model/_logistic.py:458: ConvergenceWarning: lbfgs failed to converge (status=1):\n",
      "STOP: TOTAL NO. OF ITERATIONS REACHED LIMIT.\n",
      "\n",
      "Increase the number of iterations (max_iter) or scale the data as shown in:\n",
      "    https://scikit-learn.org/stable/modules/preprocessing.html\n",
      "Please also refer to the documentation for alternative solver options:\n",
      "    https://scikit-learn.org/stable/modules/linear_model.html#logistic-regression\n",
      "  n_iter_i = _check_optimize_result(\n",
      "/usr/local/lib/python3.11/dist-packages/sklearn/linear_model/_logistic.py:458: ConvergenceWarning: lbfgs failed to converge (status=1):\n",
      "STOP: TOTAL NO. OF ITERATIONS REACHED LIMIT.\n",
      "\n",
      "Increase the number of iterations (max_iter) or scale the data as shown in:\n",
      "    https://scikit-learn.org/stable/modules/preprocessing.html\n",
      "Please also refer to the documentation for alternative solver options:\n",
      "    https://scikit-learn.org/stable/modules/linear_model.html#logistic-regression\n",
      "  n_iter_i = _check_optimize_result(\n",
      "/usr/local/lib/python3.11/dist-packages/sklearn/linear_model/_logistic.py:458: ConvergenceWarning: lbfgs failed to converge (status=1):\n",
      "STOP: TOTAL NO. OF ITERATIONS REACHED LIMIT.\n",
      "\n",
      "Increase the number of iterations (max_iter) or scale the data as shown in:\n",
      "    https://scikit-learn.org/stable/modules/preprocessing.html\n",
      "Please also refer to the documentation for alternative solver options:\n",
      "    https://scikit-learn.org/stable/modules/linear_model.html#logistic-regression\n",
      "  n_iter_i = _check_optimize_result(\n",
      "/usr/local/lib/python3.11/dist-packages/sklearn/linear_model/_logistic.py:458: ConvergenceWarning: lbfgs failed to converge (status=1):\n",
      "STOP: TOTAL NO. OF ITERATIONS REACHED LIMIT.\n",
      "\n",
      "Increase the number of iterations (max_iter) or scale the data as shown in:\n",
      "    https://scikit-learn.org/stable/modules/preprocessing.html\n",
      "Please also refer to the documentation for alternative solver options:\n",
      "    https://scikit-learn.org/stable/modules/linear_model.html#logistic-regression\n",
      "  n_iter_i = _check_optimize_result(\n",
      "/usr/local/lib/python3.11/dist-packages/sklearn/linear_model/_logistic.py:458: ConvergenceWarning: lbfgs failed to converge (status=1):\n",
      "STOP: TOTAL NO. OF ITERATIONS REACHED LIMIT.\n",
      "\n",
      "Increase the number of iterations (max_iter) or scale the data as shown in:\n",
      "    https://scikit-learn.org/stable/modules/preprocessing.html\n",
      "Please also refer to the documentation for alternative solver options:\n",
      "    https://scikit-learn.org/stable/modules/linear_model.html#logistic-regression\n",
      "  n_iter_i = _check_optimize_result(\n",
      "/usr/local/lib/python3.11/dist-packages/sklearn/linear_model/_logistic.py:458: ConvergenceWarning: lbfgs failed to converge (status=1):\n",
      "STOP: TOTAL NO. OF ITERATIONS REACHED LIMIT.\n",
      "\n",
      "Increase the number of iterations (max_iter) or scale the data as shown in:\n",
      "    https://scikit-learn.org/stable/modules/preprocessing.html\n",
      "Please also refer to the documentation for alternative solver options:\n",
      "    https://scikit-learn.org/stable/modules/linear_model.html#logistic-regression\n",
      "  n_iter_i = _check_optimize_result(\n",
      "/usr/local/lib/python3.11/dist-packages/sklearn/linear_model/_logistic.py:458: ConvergenceWarning: lbfgs failed to converge (status=1):\n",
      "STOP: TOTAL NO. OF ITERATIONS REACHED LIMIT.\n",
      "\n",
      "Increase the number of iterations (max_iter) or scale the data as shown in:\n",
      "    https://scikit-learn.org/stable/modules/preprocessing.html\n",
      "Please also refer to the documentation for alternative solver options:\n",
      "    https://scikit-learn.org/stable/modules/linear_model.html#logistic-regression\n",
      "  n_iter_i = _check_optimize_result(\n",
      "/usr/local/lib/python3.11/dist-packages/sklearn/linear_model/_logistic.py:458: ConvergenceWarning: lbfgs failed to converge (status=1):\n",
      "STOP: TOTAL NO. OF ITERATIONS REACHED LIMIT.\n",
      "\n",
      "Increase the number of iterations (max_iter) or scale the data as shown in:\n",
      "    https://scikit-learn.org/stable/modules/preprocessing.html\n",
      "Please also refer to the documentation for alternative solver options:\n",
      "    https://scikit-learn.org/stable/modules/linear_model.html#logistic-regression\n",
      "  n_iter_i = _check_optimize_result(\n",
      "/usr/local/lib/python3.11/dist-packages/sklearn/linear_model/_logistic.py:458: ConvergenceWarning: lbfgs failed to converge (status=1):\n",
      "STOP: TOTAL NO. OF ITERATIONS REACHED LIMIT.\n",
      "\n",
      "Increase the number of iterations (max_iter) or scale the data as shown in:\n",
      "    https://scikit-learn.org/stable/modules/preprocessing.html\n",
      "Please also refer to the documentation for alternative solver options:\n",
      "    https://scikit-learn.org/stable/modules/linear_model.html#logistic-regression\n",
      "  n_iter_i = _check_optimize_result(\n",
      "/usr/local/lib/python3.11/dist-packages/sklearn/linear_model/_logistic.py:458: ConvergenceWarning: lbfgs failed to converge (status=1):\n",
      "STOP: TOTAL NO. OF ITERATIONS REACHED LIMIT.\n",
      "\n",
      "Increase the number of iterations (max_iter) or scale the data as shown in:\n",
      "    https://scikit-learn.org/stable/modules/preprocessing.html\n",
      "Please also refer to the documentation for alternative solver options:\n",
      "    https://scikit-learn.org/stable/modules/linear_model.html#logistic-regression\n",
      "  n_iter_i = _check_optimize_result(\n",
      "/usr/local/lib/python3.11/dist-packages/sklearn/linear_model/_logistic.py:458: ConvergenceWarning: lbfgs failed to converge (status=1):\n",
      "STOP: TOTAL NO. OF ITERATIONS REACHED LIMIT.\n",
      "\n",
      "Increase the number of iterations (max_iter) or scale the data as shown in:\n",
      "    https://scikit-learn.org/stable/modules/preprocessing.html\n",
      "Please also refer to the documentation for alternative solver options:\n",
      "    https://scikit-learn.org/stable/modules/linear_model.html#logistic-regression\n",
      "  n_iter_i = _check_optimize_result(\n",
      "/usr/local/lib/python3.11/dist-packages/sklearn/linear_model/_logistic.py:458: ConvergenceWarning: lbfgs failed to converge (status=1):\n",
      "STOP: TOTAL NO. OF ITERATIONS REACHED LIMIT.\n",
      "\n",
      "Increase the number of iterations (max_iter) or scale the data as shown in:\n",
      "    https://scikit-learn.org/stable/modules/preprocessing.html\n",
      "Please also refer to the documentation for alternative solver options:\n",
      "    https://scikit-learn.org/stable/modules/linear_model.html#logistic-regression\n",
      "  n_iter_i = _check_optimize_result(\n",
      "/usr/local/lib/python3.11/dist-packages/sklearn/linear_model/_logistic.py:458: ConvergenceWarning: lbfgs failed to converge (status=1):\n",
      "STOP: TOTAL NO. OF ITERATIONS REACHED LIMIT.\n",
      "\n",
      "Increase the number of iterations (max_iter) or scale the data as shown in:\n",
      "    https://scikit-learn.org/stable/modules/preprocessing.html\n",
      "Please also refer to the documentation for alternative solver options:\n",
      "    https://scikit-learn.org/stable/modules/linear_model.html#logistic-regression\n",
      "  n_iter_i = _check_optimize_result(\n",
      "/usr/local/lib/python3.11/dist-packages/sklearn/linear_model/_logistic.py:458: ConvergenceWarning: lbfgs failed to converge (status=1):\n",
      "STOP: TOTAL NO. OF ITERATIONS REACHED LIMIT.\n",
      "\n",
      "Increase the number of iterations (max_iter) or scale the data as shown in:\n",
      "    https://scikit-learn.org/stable/modules/preprocessing.html\n",
      "Please also refer to the documentation for alternative solver options:\n",
      "    https://scikit-learn.org/stable/modules/linear_model.html#logistic-regression\n",
      "  n_iter_i = _check_optimize_result(\n",
      "/usr/local/lib/python3.11/dist-packages/sklearn/linear_model/_logistic.py:458: ConvergenceWarning: lbfgs failed to converge (status=1):\n",
      "STOP: TOTAL NO. OF ITERATIONS REACHED LIMIT.\n",
      "\n",
      "Increase the number of iterations (max_iter) or scale the data as shown in:\n",
      "    https://scikit-learn.org/stable/modules/preprocessing.html\n",
      "Please also refer to the documentation for alternative solver options:\n",
      "    https://scikit-learn.org/stable/modules/linear_model.html#logistic-regression\n",
      "  n_iter_i = _check_optimize_result(\n",
      "/usr/local/lib/python3.11/dist-packages/sklearn/linear_model/_logistic.py:458: ConvergenceWarning: lbfgs failed to converge (status=1):\n",
      "STOP: TOTAL NO. OF ITERATIONS REACHED LIMIT.\n",
      "\n",
      "Increase the number of iterations (max_iter) or scale the data as shown in:\n",
      "    https://scikit-learn.org/stable/modules/preprocessing.html\n",
      "Please also refer to the documentation for alternative solver options:\n",
      "    https://scikit-learn.org/stable/modules/linear_model.html#logistic-regression\n",
      "  n_iter_i = _check_optimize_result(\n",
      "/usr/local/lib/python3.11/dist-packages/sklearn/linear_model/_logistic.py:458: ConvergenceWarning: lbfgs failed to converge (status=1):\n",
      "STOP: TOTAL NO. OF ITERATIONS REACHED LIMIT.\n",
      "\n",
      "Increase the number of iterations (max_iter) or scale the data as shown in:\n",
      "    https://scikit-learn.org/stable/modules/preprocessing.html\n",
      "Please also refer to the documentation for alternative solver options:\n",
      "    https://scikit-learn.org/stable/modules/linear_model.html#logistic-regression\n",
      "  n_iter_i = _check_optimize_result(\n",
      "/usr/local/lib/python3.11/dist-packages/sklearn/linear_model/_logistic.py:458: ConvergenceWarning: lbfgs failed to converge (status=1):\n",
      "STOP: TOTAL NO. OF ITERATIONS REACHED LIMIT.\n",
      "\n",
      "Increase the number of iterations (max_iter) or scale the data as shown in:\n",
      "    https://scikit-learn.org/stable/modules/preprocessing.html\n",
      "Please also refer to the documentation for alternative solver options:\n",
      "    https://scikit-learn.org/stable/modules/linear_model.html#logistic-regression\n",
      "  n_iter_i = _check_optimize_result(\n",
      "/usr/local/lib/python3.11/dist-packages/sklearn/linear_model/_logistic.py:458: ConvergenceWarning: lbfgs failed to converge (status=1):\n",
      "STOP: TOTAL NO. OF ITERATIONS REACHED LIMIT.\n",
      "\n",
      "Increase the number of iterations (max_iter) or scale the data as shown in:\n",
      "    https://scikit-learn.org/stable/modules/preprocessing.html\n",
      "Please also refer to the documentation for alternative solver options:\n",
      "    https://scikit-learn.org/stable/modules/linear_model.html#logistic-regression\n",
      "  n_iter_i = _check_optimize_result(\n",
      "/usr/local/lib/python3.11/dist-packages/sklearn/linear_model/_logistic.py:458: ConvergenceWarning: lbfgs failed to converge (status=1):\n",
      "STOP: TOTAL NO. OF ITERATIONS REACHED LIMIT.\n",
      "\n",
      "Increase the number of iterations (max_iter) or scale the data as shown in:\n",
      "    https://scikit-learn.org/stable/modules/preprocessing.html\n",
      "Please also refer to the documentation for alternative solver options:\n",
      "    https://scikit-learn.org/stable/modules/linear_model.html#logistic-regression\n",
      "  n_iter_i = _check_optimize_result(\n",
      "/usr/local/lib/python3.11/dist-packages/sklearn/linear_model/_logistic.py:458: ConvergenceWarning: lbfgs failed to converge (status=1):\n",
      "STOP: TOTAL NO. OF ITERATIONS REACHED LIMIT.\n",
      "\n",
      "Increase the number of iterations (max_iter) or scale the data as shown in:\n",
      "    https://scikit-learn.org/stable/modules/preprocessing.html\n",
      "Please also refer to the documentation for alternative solver options:\n",
      "    https://scikit-learn.org/stable/modules/linear_model.html#logistic-regression\n",
      "  n_iter_i = _check_optimize_result(\n",
      "/usr/local/lib/python3.11/dist-packages/sklearn/linear_model/_logistic.py:458: ConvergenceWarning: lbfgs failed to converge (status=1):\n",
      "STOP: TOTAL NO. OF ITERATIONS REACHED LIMIT.\n",
      "\n",
      "Increase the number of iterations (max_iter) or scale the data as shown in:\n",
      "    https://scikit-learn.org/stable/modules/preprocessing.html\n",
      "Please also refer to the documentation for alternative solver options:\n",
      "    https://scikit-learn.org/stable/modules/linear_model.html#logistic-regression\n",
      "  n_iter_i = _check_optimize_result(\n",
      "/usr/local/lib/python3.11/dist-packages/sklearn/linear_model/_logistic.py:458: ConvergenceWarning: lbfgs failed to converge (status=1):\n",
      "STOP: TOTAL NO. OF ITERATIONS REACHED LIMIT.\n",
      "\n",
      "Increase the number of iterations (max_iter) or scale the data as shown in:\n",
      "    https://scikit-learn.org/stable/modules/preprocessing.html\n",
      "Please also refer to the documentation for alternative solver options:\n",
      "    https://scikit-learn.org/stable/modules/linear_model.html#logistic-regression\n",
      "  n_iter_i = _check_optimize_result(\n",
      "/usr/local/lib/python3.11/dist-packages/sklearn/linear_model/_logistic.py:458: ConvergenceWarning: lbfgs failed to converge (status=1):\n",
      "STOP: TOTAL NO. OF ITERATIONS REACHED LIMIT.\n",
      "\n",
      "Increase the number of iterations (max_iter) or scale the data as shown in:\n",
      "    https://scikit-learn.org/stable/modules/preprocessing.html\n",
      "Please also refer to the documentation for alternative solver options:\n",
      "    https://scikit-learn.org/stable/modules/linear_model.html#logistic-regression\n",
      "  n_iter_i = _check_optimize_result(\n",
      "/usr/local/lib/python3.11/dist-packages/sklearn/linear_model/_logistic.py:458: ConvergenceWarning: lbfgs failed to converge (status=1):\n",
      "STOP: TOTAL NO. OF ITERATIONS REACHED LIMIT.\n",
      "\n",
      "Increase the number of iterations (max_iter) or scale the data as shown in:\n",
      "    https://scikit-learn.org/stable/modules/preprocessing.html\n",
      "Please also refer to the documentation for alternative solver options:\n",
      "    https://scikit-learn.org/stable/modules/linear_model.html#logistic-regression\n",
      "  n_iter_i = _check_optimize_result(\n",
      "/usr/local/lib/python3.11/dist-packages/sklearn/linear_model/_logistic.py:458: ConvergenceWarning: lbfgs failed to converge (status=1):\n",
      "STOP: TOTAL NO. OF ITERATIONS REACHED LIMIT.\n",
      "\n",
      "Increase the number of iterations (max_iter) or scale the data as shown in:\n",
      "    https://scikit-learn.org/stable/modules/preprocessing.html\n",
      "Please also refer to the documentation for alternative solver options:\n",
      "    https://scikit-learn.org/stable/modules/linear_model.html#logistic-regression\n",
      "  n_iter_i = _check_optimize_result(\n",
      "/usr/local/lib/python3.11/dist-packages/sklearn/linear_model/_logistic.py:458: ConvergenceWarning: lbfgs failed to converge (status=1):\n",
      "STOP: TOTAL NO. OF ITERATIONS REACHED LIMIT.\n",
      "\n",
      "Increase the number of iterations (max_iter) or scale the data as shown in:\n",
      "    https://scikit-learn.org/stable/modules/preprocessing.html\n",
      "Please also refer to the documentation for alternative solver options:\n",
      "    https://scikit-learn.org/stable/modules/linear_model.html#logistic-regression\n",
      "  n_iter_i = _check_optimize_result(\n",
      "/usr/local/lib/python3.11/dist-packages/sklearn/linear_model/_logistic.py:458: ConvergenceWarning: lbfgs failed to converge (status=1):\n",
      "STOP: TOTAL NO. OF ITERATIONS REACHED LIMIT.\n",
      "\n",
      "Increase the number of iterations (max_iter) or scale the data as shown in:\n",
      "    https://scikit-learn.org/stable/modules/preprocessing.html\n",
      "Please also refer to the documentation for alternative solver options:\n",
      "    https://scikit-learn.org/stable/modules/linear_model.html#logistic-regression\n",
      "  n_iter_i = _check_optimize_result(\n",
      "/usr/local/lib/python3.11/dist-packages/sklearn/linear_model/_logistic.py:458: ConvergenceWarning: lbfgs failed to converge (status=1):\n",
      "STOP: TOTAL NO. OF ITERATIONS REACHED LIMIT.\n",
      "\n",
      "Increase the number of iterations (max_iter) or scale the data as shown in:\n",
      "    https://scikit-learn.org/stable/modules/preprocessing.html\n",
      "Please also refer to the documentation for alternative solver options:\n",
      "    https://scikit-learn.org/stable/modules/linear_model.html#logistic-regression\n",
      "  n_iter_i = _check_optimize_result(\n",
      "/usr/local/lib/python3.11/dist-packages/sklearn/linear_model/_logistic.py:458: ConvergenceWarning: lbfgs failed to converge (status=1):\n",
      "STOP: TOTAL NO. OF ITERATIONS REACHED LIMIT.\n",
      "\n",
      "Increase the number of iterations (max_iter) or scale the data as shown in:\n",
      "    https://scikit-learn.org/stable/modules/preprocessing.html\n",
      "Please also refer to the documentation for alternative solver options:\n",
      "    https://scikit-learn.org/stable/modules/linear_model.html#logistic-regression\n",
      "  n_iter_i = _check_optimize_result(\n",
      "/usr/local/lib/python3.11/dist-packages/sklearn/linear_model/_logistic.py:458: ConvergenceWarning: lbfgs failed to converge (status=1):\n",
      "STOP: TOTAL NO. OF ITERATIONS REACHED LIMIT.\n",
      "\n",
      "Increase the number of iterations (max_iter) or scale the data as shown in:\n",
      "    https://scikit-learn.org/stable/modules/preprocessing.html\n",
      "Please also refer to the documentation for alternative solver options:\n",
      "    https://scikit-learn.org/stable/modules/linear_model.html#logistic-regression\n",
      "  n_iter_i = _check_optimize_result(\n",
      "/usr/local/lib/python3.11/dist-packages/sklearn/linear_model/_logistic.py:458: ConvergenceWarning: lbfgs failed to converge (status=1):\n",
      "STOP: TOTAL NO. OF ITERATIONS REACHED LIMIT.\n",
      "\n",
      "Increase the number of iterations (max_iter) or scale the data as shown in:\n",
      "    https://scikit-learn.org/stable/modules/preprocessing.html\n",
      "Please also refer to the documentation for alternative solver options:\n",
      "    https://scikit-learn.org/stable/modules/linear_model.html#logistic-regression\n",
      "  n_iter_i = _check_optimize_result(\n",
      "/usr/local/lib/python3.11/dist-packages/sklearn/linear_model/_logistic.py:458: ConvergenceWarning: lbfgs failed to converge (status=1):\n",
      "STOP: TOTAL NO. OF ITERATIONS REACHED LIMIT.\n",
      "\n",
      "Increase the number of iterations (max_iter) or scale the data as shown in:\n",
      "    https://scikit-learn.org/stable/modules/preprocessing.html\n",
      "Please also refer to the documentation for alternative solver options:\n",
      "    https://scikit-learn.org/stable/modules/linear_model.html#logistic-regression\n",
      "  n_iter_i = _check_optimize_result(\n",
      "/usr/local/lib/python3.11/dist-packages/sklearn/linear_model/_logistic.py:458: ConvergenceWarning: lbfgs failed to converge (status=1):\n",
      "STOP: TOTAL NO. OF ITERATIONS REACHED LIMIT.\n",
      "\n",
      "Increase the number of iterations (max_iter) or scale the data as shown in:\n",
      "    https://scikit-learn.org/stable/modules/preprocessing.html\n",
      "Please also refer to the documentation for alternative solver options:\n",
      "    https://scikit-learn.org/stable/modules/linear_model.html#logistic-regression\n",
      "  n_iter_i = _check_optimize_result(\n",
      "/usr/local/lib/python3.11/dist-packages/sklearn/linear_model/_logistic.py:458: ConvergenceWarning: lbfgs failed to converge (status=1):\n",
      "STOP: TOTAL NO. OF ITERATIONS REACHED LIMIT.\n",
      "\n",
      "Increase the number of iterations (max_iter) or scale the data as shown in:\n",
      "    https://scikit-learn.org/stable/modules/preprocessing.html\n",
      "Please also refer to the documentation for alternative solver options:\n",
      "    https://scikit-learn.org/stable/modules/linear_model.html#logistic-regression\n",
      "  n_iter_i = _check_optimize_result(\n",
      "/usr/local/lib/python3.11/dist-packages/sklearn/linear_model/_logistic.py:458: ConvergenceWarning: lbfgs failed to converge (status=1):\n",
      "STOP: TOTAL NO. OF ITERATIONS REACHED LIMIT.\n",
      "\n",
      "Increase the number of iterations (max_iter) or scale the data as shown in:\n",
      "    https://scikit-learn.org/stable/modules/preprocessing.html\n",
      "Please also refer to the documentation for alternative solver options:\n",
      "    https://scikit-learn.org/stable/modules/linear_model.html#logistic-regression\n",
      "  n_iter_i = _check_optimize_result(\n",
      "/usr/local/lib/python3.11/dist-packages/sklearn/linear_model/_logistic.py:458: ConvergenceWarning: lbfgs failed to converge (status=1):\n",
      "STOP: TOTAL NO. OF ITERATIONS REACHED LIMIT.\n",
      "\n",
      "Increase the number of iterations (max_iter) or scale the data as shown in:\n",
      "    https://scikit-learn.org/stable/modules/preprocessing.html\n",
      "Please also refer to the documentation for alternative solver options:\n",
      "    https://scikit-learn.org/stable/modules/linear_model.html#logistic-regression\n",
      "  n_iter_i = _check_optimize_result(\n",
      "/usr/local/lib/python3.11/dist-packages/sklearn/linear_model/_logistic.py:458: ConvergenceWarning: lbfgs failed to converge (status=1):\n",
      "STOP: TOTAL NO. OF ITERATIONS REACHED LIMIT.\n",
      "\n",
      "Increase the number of iterations (max_iter) or scale the data as shown in:\n",
      "    https://scikit-learn.org/stable/modules/preprocessing.html\n",
      "Please also refer to the documentation for alternative solver options:\n",
      "    https://scikit-learn.org/stable/modules/linear_model.html#logistic-regression\n",
      "  n_iter_i = _check_optimize_result(\n",
      "/usr/local/lib/python3.11/dist-packages/sklearn/linear_model/_logistic.py:458: ConvergenceWarning: lbfgs failed to converge (status=1):\n",
      "STOP: TOTAL NO. OF ITERATIONS REACHED LIMIT.\n",
      "\n",
      "Increase the number of iterations (max_iter) or scale the data as shown in:\n",
      "    https://scikit-learn.org/stable/modules/preprocessing.html\n",
      "Please also refer to the documentation for alternative solver options:\n",
      "    https://scikit-learn.org/stable/modules/linear_model.html#logistic-regression\n",
      "  n_iter_i = _check_optimize_result(\n",
      "/usr/local/lib/python3.11/dist-packages/sklearn/linear_model/_logistic.py:458: ConvergenceWarning: lbfgs failed to converge (status=1):\n",
      "STOP: TOTAL NO. OF ITERATIONS REACHED LIMIT.\n",
      "\n",
      "Increase the number of iterations (max_iter) or scale the data as shown in:\n",
      "    https://scikit-learn.org/stable/modules/preprocessing.html\n",
      "Please also refer to the documentation for alternative solver options:\n",
      "    https://scikit-learn.org/stable/modules/linear_model.html#logistic-regression\n",
      "  n_iter_i = _check_optimize_result(\n",
      "/usr/local/lib/python3.11/dist-packages/sklearn/svm/_base.py:1244: ConvergenceWarning: Liblinear failed to converge, increase the number of iterations.\n",
      "  warnings.warn(\n",
      "/usr/local/lib/python3.11/dist-packages/sklearn/utils/optimize.py:210: ConvergenceWarning: newton-cg failed to converge. Increase the number of iterations.\n",
      "  warnings.warn(\n",
      "/usr/local/lib/python3.11/dist-packages/sklearn/utils/optimize.py:210: ConvergenceWarning: newton-cg failed to converge. Increase the number of iterations.\n",
      "  warnings.warn(\n",
      "/usr/local/lib/python3.11/dist-packages/sklearn/utils/optimize.py:210: ConvergenceWarning: newton-cg failed to converge. Increase the number of iterations.\n",
      "  warnings.warn(\n",
      "/usr/local/lib/python3.11/dist-packages/sklearn/linear_model/_linear_loss.py:445: RuntimeWarning: invalid value encountered in less_equal\n",
      "  hessian_warning = np.mean(hess_pointwise <= 0) > 0.25\n",
      "/usr/local/lib/python3.11/dist-packages/sklearn/linear_model/_glm/_newton_solver.py:461: ConvergenceWarning: The inner solver of NewtonCholeskySolver detected a pointwise hessian with many negative values at iteration #16. It will now resort to lbfgs instead.\n",
      "  warnings.warn(\n",
      "/usr/local/lib/python3.11/dist-packages/sklearn/linear_model/_glm/_newton_solver.py:461: ConvergenceWarning: The inner solver of NewtonCholeskySolver detected a pointwise hessian with many negative values at iteration #16. It will now resort to lbfgs instead.\n",
      "  warnings.warn(\n",
      "/usr/local/lib/python3.11/dist-packages/sklearn/linear_model/_glm/_newton_solver.py:195: ConvergenceWarning: lbfgs failed to converge (status=1):\n",
      "STOP: TOTAL NO. OF ITERATIONS REACHED LIMIT.\n",
      "\n",
      "Increase the number of iterations (max_iter) or scale the data as shown in:\n",
      "    https://scikit-learn.org/stable/modules/preprocessing.html\n",
      "  self.n_iter_ = _check_optimize_result(\"lbfgs\", opt_res)\n",
      "/usr/local/lib/python3.11/dist-packages/sklearn/linear_model/_glm/_newton_solver.py:195: ConvergenceWarning: lbfgs failed to converge (status=1):\n",
      "STOP: TOTAL NO. OF ITERATIONS REACHED LIMIT.\n",
      "\n",
      "Increase the number of iterations (max_iter) or scale the data as shown in:\n",
      "    https://scikit-learn.org/stable/modules/preprocessing.html\n",
      "  self.n_iter_ = _check_optimize_result(\"lbfgs\", opt_res)\n",
      "/usr/local/lib/python3.11/dist-packages/sklearn/utils/optimize.py:210: ConvergenceWarning: newton-cg failed to converge. Increase the number of iterations.\n",
      "  warnings.warn(\n",
      "/usr/local/lib/python3.11/dist-packages/sklearn/linear_model/_sag.py:350: ConvergenceWarning: The max_iter was reached which means the coef_ did not converge\n",
      "  warnings.warn(\n",
      "/usr/local/lib/python3.11/dist-packages/sklearn/linear_model/_sag.py:350: ConvergenceWarning: The max_iter was reached which means the coef_ did not converge\n",
      "  warnings.warn(\n",
      "/usr/local/lib/python3.11/dist-packages/sklearn/linear_model/_sag.py:350: ConvergenceWarning: The max_iter was reached which means the coef_ did not converge\n",
      "  warnings.warn(\n",
      "/usr/local/lib/python3.11/dist-packages/sklearn/linear_model/_sag.py:350: ConvergenceWarning: The max_iter was reached which means the coef_ did not converge\n",
      "  warnings.warn(\n",
      "/usr/local/lib/python3.11/dist-packages/sklearn/linear_model/_sag.py:350: ConvergenceWarning: The max_iter was reached which means the coef_ did not converge\n",
      "  warnings.warn(\n",
      "/usr/local/lib/python3.11/dist-packages/sklearn/linear_model/_sag.py:350: ConvergenceWarning: The max_iter was reached which means the coef_ did not converge\n",
      "  warnings.warn(\n",
      "/usr/local/lib/python3.11/dist-packages/sklearn/utils/optimize.py:210: ConvergenceWarning: newton-cg failed to converge. Increase the number of iterations.\n",
      "  warnings.warn(\n",
      "/usr/local/lib/python3.11/dist-packages/sklearn/linear_model/_sag.py:350: ConvergenceWarning: The max_iter was reached which means the coef_ did not converge\n",
      "  warnings.warn(\n",
      "/usr/local/lib/python3.11/dist-packages/sklearn/linear_model/_sag.py:350: ConvergenceWarning: The max_iter was reached which means the coef_ did not converge\n",
      "  warnings.warn(\n",
      "/usr/local/lib/python3.11/dist-packages/sklearn/linear_model/_logistic.py:458: ConvergenceWarning: lbfgs failed to converge (status=1):\n",
      "STOP: TOTAL NO. OF ITERATIONS REACHED LIMIT.\n",
      "\n",
      "Increase the number of iterations (max_iter) or scale the data as shown in:\n",
      "    https://scikit-learn.org/stable/modules/preprocessing.html\n",
      "Please also refer to the documentation for alternative solver options:\n",
      "    https://scikit-learn.org/stable/modules/linear_model.html#logistic-regression\n",
      "  n_iter_i = _check_optimize_result(\n",
      "/usr/local/lib/python3.11/dist-packages/sklearn/linear_model/_logistic.py:458: ConvergenceWarning: lbfgs failed to converge (status=1):\n",
      "STOP: TOTAL NO. OF ITERATIONS REACHED LIMIT.\n",
      "\n",
      "Increase the number of iterations (max_iter) or scale the data as shown in:\n",
      "    https://scikit-learn.org/stable/modules/preprocessing.html\n",
      "Please also refer to the documentation for alternative solver options:\n",
      "    https://scikit-learn.org/stable/modules/linear_model.html#logistic-regression\n",
      "  n_iter_i = _check_optimize_result(\n",
      "/usr/local/lib/python3.11/dist-packages/sklearn/linear_model/_logistic.py:458: ConvergenceWarning: lbfgs failed to converge (status=1):\n",
      "STOP: TOTAL NO. OF ITERATIONS REACHED LIMIT.\n",
      "\n",
      "Increase the number of iterations (max_iter) or scale the data as shown in:\n",
      "    https://scikit-learn.org/stable/modules/preprocessing.html\n",
      "Please also refer to the documentation for alternative solver options:\n",
      "    https://scikit-learn.org/stable/modules/linear_model.html#logistic-regression\n",
      "  n_iter_i = _check_optimize_result(\n",
      "/usr/local/lib/python3.11/dist-packages/sklearn/linear_model/_logistic.py:458: ConvergenceWarning: lbfgs failed to converge (status=1):\n",
      "STOP: TOTAL NO. OF ITERATIONS REACHED LIMIT.\n",
      "\n",
      "Increase the number of iterations (max_iter) or scale the data as shown in:\n",
      "    https://scikit-learn.org/stable/modules/preprocessing.html\n",
      "Please also refer to the documentation for alternative solver options:\n",
      "    https://scikit-learn.org/stable/modules/linear_model.html#logistic-regression\n",
      "  n_iter_i = _check_optimize_result(\n",
      "/usr/local/lib/python3.11/dist-packages/sklearn/linear_model/_logistic.py:458: ConvergenceWarning: lbfgs failed to converge (status=1):\n",
      "STOP: TOTAL NO. OF ITERATIONS REACHED LIMIT.\n",
      "\n",
      "Increase the number of iterations (max_iter) or scale the data as shown in:\n",
      "    https://scikit-learn.org/stable/modules/preprocessing.html\n",
      "Please also refer to the documentation for alternative solver options:\n",
      "    https://scikit-learn.org/stable/modules/linear_model.html#logistic-regression\n",
      "  n_iter_i = _check_optimize_result(\n",
      "/usr/local/lib/python3.11/dist-packages/sklearn/linear_model/_logistic.py:458: ConvergenceWarning: lbfgs failed to converge (status=1):\n",
      "STOP: TOTAL NO. OF ITERATIONS REACHED LIMIT.\n",
      "\n",
      "Increase the number of iterations (max_iter) or scale the data as shown in:\n",
      "    https://scikit-learn.org/stable/modules/preprocessing.html\n",
      "Please also refer to the documentation for alternative solver options:\n",
      "    https://scikit-learn.org/stable/modules/linear_model.html#logistic-regression\n",
      "  n_iter_i = _check_optimize_result(\n",
      "/usr/local/lib/python3.11/dist-packages/sklearn/linear_model/_logistic.py:458: ConvergenceWarning: lbfgs failed to converge (status=1):\n",
      "STOP: TOTAL NO. OF ITERATIONS REACHED LIMIT.\n",
      "\n",
      "Increase the number of iterations (max_iter) or scale the data as shown in:\n",
      "    https://scikit-learn.org/stable/modules/preprocessing.html\n",
      "Please also refer to the documentation for alternative solver options:\n",
      "    https://scikit-learn.org/stable/modules/linear_model.html#logistic-regression\n",
      "  n_iter_i = _check_optimize_result(\n",
      "/usr/local/lib/python3.11/dist-packages/sklearn/linear_model/_sag.py:350: ConvergenceWarning: The max_iter was reached which means the coef_ did not converge\n",
      "  warnings.warn(\n",
      "/usr/local/lib/python3.11/dist-packages/sklearn/linear_model/_logistic.py:458: ConvergenceWarning: lbfgs failed to converge (status=1):\n",
      "STOP: TOTAL NO. OF ITERATIONS REACHED LIMIT.\n",
      "\n",
      "Increase the number of iterations (max_iter) or scale the data as shown in:\n",
      "    https://scikit-learn.org/stable/modules/preprocessing.html\n",
      "Please also refer to the documentation for alternative solver options:\n",
      "    https://scikit-learn.org/stable/modules/linear_model.html#logistic-regression\n",
      "  n_iter_i = _check_optimize_result(\n",
      "/usr/local/lib/python3.11/dist-packages/sklearn/linear_model/_logistic.py:458: ConvergenceWarning: lbfgs failed to converge (status=1):\n",
      "STOP: TOTAL NO. OF ITERATIONS REACHED LIMIT.\n",
      "\n",
      "Increase the number of iterations (max_iter) or scale the data as shown in:\n",
      "    https://scikit-learn.org/stable/modules/preprocessing.html\n",
      "Please also refer to the documentation for alternative solver options:\n",
      "    https://scikit-learn.org/stable/modules/linear_model.html#logistic-regression\n",
      "  n_iter_i = _check_optimize_result(\n",
      "/usr/local/lib/python3.11/dist-packages/sklearn/linear_model/_logistic.py:458: ConvergenceWarning: lbfgs failed to converge (status=1):\n",
      "STOP: TOTAL NO. OF ITERATIONS REACHED LIMIT.\n",
      "\n",
      "Increase the number of iterations (max_iter) or scale the data as shown in:\n",
      "    https://scikit-learn.org/stable/modules/preprocessing.html\n",
      "Please also refer to the documentation for alternative solver options:\n",
      "    https://scikit-learn.org/stable/modules/linear_model.html#logistic-regression\n",
      "  n_iter_i = _check_optimize_result(\n",
      "/usr/local/lib/python3.11/dist-packages/sklearn/linear_model/_logistic.py:458: ConvergenceWarning: lbfgs failed to converge (status=1):\n",
      "STOP: TOTAL NO. OF ITERATIONS REACHED LIMIT.\n",
      "\n",
      "Increase the number of iterations (max_iter) or scale the data as shown in:\n",
      "    https://scikit-learn.org/stable/modules/preprocessing.html\n",
      "Please also refer to the documentation for alternative solver options:\n",
      "    https://scikit-learn.org/stable/modules/linear_model.html#logistic-regression\n",
      "  n_iter_i = _check_optimize_result(\n",
      "/usr/local/lib/python3.11/dist-packages/sklearn/linear_model/_logistic.py:458: ConvergenceWarning: lbfgs failed to converge (status=1):\n",
      "STOP: TOTAL NO. OF ITERATIONS REACHED LIMIT.\n",
      "\n",
      "Increase the number of iterations (max_iter) or scale the data as shown in:\n",
      "    https://scikit-learn.org/stable/modules/preprocessing.html\n",
      "Please also refer to the documentation for alternative solver options:\n",
      "    https://scikit-learn.org/stable/modules/linear_model.html#logistic-regression\n",
      "  n_iter_i = _check_optimize_result(\n",
      "/usr/local/lib/python3.11/dist-packages/sklearn/linear_model/_logistic.py:458: ConvergenceWarning: lbfgs failed to converge (status=1):\n",
      "STOP: TOTAL NO. OF ITERATIONS REACHED LIMIT.\n",
      "\n",
      "Increase the number of iterations (max_iter) or scale the data as shown in:\n",
      "    https://scikit-learn.org/stable/modules/preprocessing.html\n",
      "Please also refer to the documentation for alternative solver options:\n",
      "    https://scikit-learn.org/stable/modules/linear_model.html#logistic-regression\n",
      "  n_iter_i = _check_optimize_result(\n",
      "/usr/local/lib/python3.11/dist-packages/sklearn/linear_model/_sag.py:350: ConvergenceWarning: The max_iter was reached which means the coef_ did not converge\n",
      "  warnings.warn(\n",
      "/usr/local/lib/python3.11/dist-packages/sklearn/linear_model/_logistic.py:458: ConvergenceWarning: lbfgs failed to converge (status=1):\n",
      "STOP: TOTAL NO. OF ITERATIONS REACHED LIMIT.\n",
      "\n",
      "Increase the number of iterations (max_iter) or scale the data as shown in:\n",
      "    https://scikit-learn.org/stable/modules/preprocessing.html\n",
      "Please also refer to the documentation for alternative solver options:\n",
      "    https://scikit-learn.org/stable/modules/linear_model.html#logistic-regression\n",
      "  n_iter_i = _check_optimize_result(\n",
      "/usr/local/lib/python3.11/dist-packages/sklearn/linear_model/_logistic.py:458: ConvergenceWarning: lbfgs failed to converge (status=1):\n",
      "STOP: TOTAL NO. OF ITERATIONS REACHED LIMIT.\n",
      "\n",
      "Increase the number of iterations (max_iter) or scale the data as shown in:\n",
      "    https://scikit-learn.org/stable/modules/preprocessing.html\n",
      "Please also refer to the documentation for alternative solver options:\n",
      "    https://scikit-learn.org/stable/modules/linear_model.html#logistic-regression\n",
      "  n_iter_i = _check_optimize_result(\n",
      "/usr/local/lib/python3.11/dist-packages/sklearn/linear_model/_logistic.py:458: ConvergenceWarning: lbfgs failed to converge (status=1):\n",
      "STOP: TOTAL NO. OF ITERATIONS REACHED LIMIT.\n",
      "\n",
      "Increase the number of iterations (max_iter) or scale the data as shown in:\n",
      "    https://scikit-learn.org/stable/modules/preprocessing.html\n",
      "Please also refer to the documentation for alternative solver options:\n",
      "    https://scikit-learn.org/stable/modules/linear_model.html#logistic-regression\n",
      "  n_iter_i = _check_optimize_result(\n",
      "/usr/local/lib/python3.11/dist-packages/sklearn/linear_model/_logistic.py:458: ConvergenceWarning: lbfgs failed to converge (status=1):\n",
      "STOP: TOTAL NO. OF ITERATIONS REACHED LIMIT.\n",
      "\n",
      "Increase the number of iterations (max_iter) or scale the data as shown in:\n",
      "    https://scikit-learn.org/stable/modules/preprocessing.html\n",
      "Please also refer to the documentation for alternative solver options:\n",
      "    https://scikit-learn.org/stable/modules/linear_model.html#logistic-regression\n",
      "  n_iter_i = _check_optimize_result(\n",
      "/usr/local/lib/python3.11/dist-packages/sklearn/linear_model/_logistic.py:458: ConvergenceWarning: lbfgs failed to converge (status=1):\n",
      "STOP: TOTAL NO. OF ITERATIONS REACHED LIMIT.\n",
      "\n",
      "Increase the number of iterations (max_iter) or scale the data as shown in:\n",
      "    https://scikit-learn.org/stable/modules/preprocessing.html\n",
      "Please also refer to the documentation for alternative solver options:\n",
      "    https://scikit-learn.org/stable/modules/linear_model.html#logistic-regression\n",
      "  n_iter_i = _check_optimize_result(\n",
      "/usr/local/lib/python3.11/dist-packages/sklearn/linear_model/_logistic.py:458: ConvergenceWarning: lbfgs failed to converge (status=1):\n",
      "STOP: TOTAL NO. OF ITERATIONS REACHED LIMIT.\n",
      "\n",
      "Increase the number of iterations (max_iter) or scale the data as shown in:\n",
      "    https://scikit-learn.org/stable/modules/preprocessing.html\n",
      "Please also refer to the documentation for alternative solver options:\n",
      "    https://scikit-learn.org/stable/modules/linear_model.html#logistic-regression\n",
      "  n_iter_i = _check_optimize_result(\n",
      "/usr/local/lib/python3.11/dist-packages/sklearn/linear_model/_logistic.py:458: ConvergenceWarning: lbfgs failed to converge (status=1):\n",
      "STOP: TOTAL NO. OF ITERATIONS REACHED LIMIT.\n",
      "\n",
      "Increase the number of iterations (max_iter) or scale the data as shown in:\n",
      "    https://scikit-learn.org/stable/modules/preprocessing.html\n",
      "Please also refer to the documentation for alternative solver options:\n",
      "    https://scikit-learn.org/stable/modules/linear_model.html#logistic-regression\n",
      "  n_iter_i = _check_optimize_result(\n"
     ]
    },
    {
     "data": {
      "text/html": [
       "<style>#sk-container-id-2 {color: black;background-color: white;}#sk-container-id-2 pre{padding: 0;}#sk-container-id-2 div.sk-toggleable {background-color: white;}#sk-container-id-2 label.sk-toggleable__label {cursor: pointer;display: block;width: 100%;margin-bottom: 0;padding: 0.3em;box-sizing: border-box;text-align: center;}#sk-container-id-2 label.sk-toggleable__label-arrow:before {content: \"▸\";float: left;margin-right: 0.25em;color: #696969;}#sk-container-id-2 label.sk-toggleable__label-arrow:hover:before {color: black;}#sk-container-id-2 div.sk-estimator:hover label.sk-toggleable__label-arrow:before {color: black;}#sk-container-id-2 div.sk-toggleable__content {max-height: 0;max-width: 0;overflow: hidden;text-align: left;background-color: #f0f8ff;}#sk-container-id-2 div.sk-toggleable__content pre {margin: 0.2em;color: black;border-radius: 0.25em;background-color: #f0f8ff;}#sk-container-id-2 input.sk-toggleable__control:checked~div.sk-toggleable__content {max-height: 200px;max-width: 100%;overflow: auto;}#sk-container-id-2 input.sk-toggleable__control:checked~label.sk-toggleable__label-arrow:before {content: \"▾\";}#sk-container-id-2 div.sk-estimator input.sk-toggleable__control:checked~label.sk-toggleable__label {background-color: #d4ebff;}#sk-container-id-2 div.sk-label input.sk-toggleable__control:checked~label.sk-toggleable__label {background-color: #d4ebff;}#sk-container-id-2 input.sk-hidden--visually {border: 0;clip: rect(1px 1px 1px 1px);clip: rect(1px, 1px, 1px, 1px);height: 1px;margin: -1px;overflow: hidden;padding: 0;position: absolute;width: 1px;}#sk-container-id-2 div.sk-estimator {font-family: monospace;background-color: #f0f8ff;border: 1px dotted black;border-radius: 0.25em;box-sizing: border-box;margin-bottom: 0.5em;}#sk-container-id-2 div.sk-estimator:hover {background-color: #d4ebff;}#sk-container-id-2 div.sk-parallel-item::after {content: \"\";width: 100%;border-bottom: 1px solid gray;flex-grow: 1;}#sk-container-id-2 div.sk-label:hover label.sk-toggleable__label {background-color: #d4ebff;}#sk-container-id-2 div.sk-serial::before {content: \"\";position: absolute;border-left: 1px solid gray;box-sizing: border-box;top: 0;bottom: 0;left: 50%;z-index: 0;}#sk-container-id-2 div.sk-serial {display: flex;flex-direction: column;align-items: center;background-color: white;padding-right: 0.2em;padding-left: 0.2em;position: relative;}#sk-container-id-2 div.sk-item {position: relative;z-index: 1;}#sk-container-id-2 div.sk-parallel {display: flex;align-items: stretch;justify-content: center;background-color: white;position: relative;}#sk-container-id-2 div.sk-item::before, #sk-container-id-2 div.sk-parallel-item::before {content: \"\";position: absolute;border-left: 1px solid gray;box-sizing: border-box;top: 0;bottom: 0;left: 50%;z-index: -1;}#sk-container-id-2 div.sk-parallel-item {display: flex;flex-direction: column;z-index: 1;position: relative;background-color: white;}#sk-container-id-2 div.sk-parallel-item:first-child::after {align-self: flex-end;width: 50%;}#sk-container-id-2 div.sk-parallel-item:last-child::after {align-self: flex-start;width: 50%;}#sk-container-id-2 div.sk-parallel-item:only-child::after {width: 0;}#sk-container-id-2 div.sk-dashed-wrapped {border: 1px dashed gray;margin: 0 0.4em 0.5em 0.4em;box-sizing: border-box;padding-bottom: 0.4em;background-color: white;}#sk-container-id-2 div.sk-label label {font-family: monospace;font-weight: bold;display: inline-block;line-height: 1.2em;}#sk-container-id-2 div.sk-label-container {text-align: center;}#sk-container-id-2 div.sk-container {/* jupyter's `normalize.less` sets `[hidden] { display: none; }` but bootstrap.min.css set `[hidden] { display: none !important; }` so we also need the `!important` here to be able to override the default hidden behavior on the sphinx rendered scikit-learn.org. See: https://github.com/scikit-learn/scikit-learn/issues/21755 */display: inline-block !important;position: relative;}#sk-container-id-2 div.sk-text-repr-fallback {display: none;}</style><div id=\"sk-container-id-2\" class=\"sk-top-container\"><div class=\"sk-text-repr-fallback\"><pre>GridSearchCV(cv=5, estimator=LogisticRegression(), n_jobs=-1,\n",
       "             param_grid=[{&#x27;penalty&#x27;: [&#x27;l1&#x27;, &#x27;l2&#x27;, &#x27;elasticnet&#x27;, None]},\n",
       "                         {&#x27;tol&#x27;: [0.1, 0.001, 0.0001, 1e-05]},\n",
       "                         {&#x27;C&#x27;: [1, 1.1, 1.2, 1.3, 1.4, 1.5, 2, 3, 4]},\n",
       "                         {&#x27;solver&#x27;: [&#x27;lbfgs&#x27;, &#x27;liblinear&#x27;, &#x27;newton-cg&#x27;,\n",
       "                                     &#x27;newton-cholesky&#x27;, &#x27;sag&#x27;, &#x27;saga&#x27;]},\n",
       "                         {&#x27;max_iter&#x27;: [10, 100, 150, 200, 500, 1000]}],\n",
       "             scoring=&#x27;accuracy&#x27;)</pre><b>In a Jupyter environment, please rerun this cell to show the HTML representation or trust the notebook. <br />On GitHub, the HTML representation is unable to render, please try loading this page with nbviewer.org.</b></div><div class=\"sk-container\" hidden><div class=\"sk-item sk-dashed-wrapped\"><div class=\"sk-label-container\"><div class=\"sk-label sk-toggleable\"><input class=\"sk-toggleable__control sk-hidden--visually\" id=\"sk-estimator-id-2\" type=\"checkbox\" ><label for=\"sk-estimator-id-2\" class=\"sk-toggleable__label sk-toggleable__label-arrow\">GridSearchCV</label><div class=\"sk-toggleable__content\"><pre>GridSearchCV(cv=5, estimator=LogisticRegression(), n_jobs=-1,\n",
       "             param_grid=[{&#x27;penalty&#x27;: [&#x27;l1&#x27;, &#x27;l2&#x27;, &#x27;elasticnet&#x27;, None]},\n",
       "                         {&#x27;tol&#x27;: [0.1, 0.001, 0.0001, 1e-05]},\n",
       "                         {&#x27;C&#x27;: [1, 1.1, 1.2, 1.3, 1.4, 1.5, 2, 3, 4]},\n",
       "                         {&#x27;solver&#x27;: [&#x27;lbfgs&#x27;, &#x27;liblinear&#x27;, &#x27;newton-cg&#x27;,\n",
       "                                     &#x27;newton-cholesky&#x27;, &#x27;sag&#x27;, &#x27;saga&#x27;]},\n",
       "                         {&#x27;max_iter&#x27;: [10, 100, 150, 200, 500, 1000]}],\n",
       "             scoring=&#x27;accuracy&#x27;)</pre></div></div></div><div class=\"sk-parallel\"><div class=\"sk-parallel-item\"><div class=\"sk-item\"><div class=\"sk-label-container\"><div class=\"sk-label sk-toggleable\"><input class=\"sk-toggleable__control sk-hidden--visually\" id=\"sk-estimator-id-3\" type=\"checkbox\" ><label for=\"sk-estimator-id-3\" class=\"sk-toggleable__label sk-toggleable__label-arrow\">estimator: LogisticRegression</label><div class=\"sk-toggleable__content\"><pre>LogisticRegression()</pre></div></div></div><div class=\"sk-serial\"><div class=\"sk-item\"><div class=\"sk-estimator sk-toggleable\"><input class=\"sk-toggleable__control sk-hidden--visually\" id=\"sk-estimator-id-4\" type=\"checkbox\" ><label for=\"sk-estimator-id-4\" class=\"sk-toggleable__label sk-toggleable__label-arrow\">LogisticRegression</label><div class=\"sk-toggleable__content\"><pre>LogisticRegression()</pre></div></div></div></div></div></div></div></div></div></div>"
      ],
      "text/plain": [
       "GridSearchCV(cv=5, estimator=LogisticRegression(), n_jobs=-1,\n",
       "             param_grid=[{'penalty': ['l1', 'l2', 'elasticnet', None]},\n",
       "                         {'tol': [0.1, 0.001, 0.0001, 1e-05]},\n",
       "                         {'C': [1, 1.1, 1.2, 1.3, 1.4, 1.5, 2, 3, 4]},\n",
       "                         {'solver': ['lbfgs', 'liblinear', 'newton-cg',\n",
       "                                     'newton-cholesky', 'sag', 'saga']},\n",
       "                         {'max_iter': [10, 100, 150, 200, 500, 1000]}],\n",
       "             scoring='accuracy')"
      ]
     },
     "execution_count": 28,
     "metadata": {},
     "output_type": "execute_result"
    }
   ],
   "source": [
    "grid_logisticreg.fit(X_train, y_train)"
   ]
  },
  {
   "cell_type": "code",
   "execution_count": 29,
   "id": "8cc247eb",
   "metadata": {
    "execution": {
     "iopub.execute_input": "2025-06-07T17:48:36.405486Z",
     "iopub.status.busy": "2025-06-07T17:48:36.405124Z",
     "iopub.status.idle": "2025-06-07T17:48:36.412669Z",
     "shell.execute_reply": "2025-06-07T17:48:36.411810Z"
    },
    "papermill": {
     "duration": 0.024191,
     "end_time": "2025-06-07T17:48:36.414309",
     "exception": false,
     "start_time": "2025-06-07T17:48:36.390118",
     "status": "completed"
    },
    "tags": []
   },
   "outputs": [],
   "source": [
    "y_preds1 = grid_logisticreg.predict(X_test)"
   ]
  },
  {
   "cell_type": "code",
   "execution_count": 30,
   "id": "6f5015d8",
   "metadata": {
    "execution": {
     "iopub.execute_input": "2025-06-07T17:48:36.444757Z",
     "iopub.status.busy": "2025-06-07T17:48:36.444400Z",
     "iopub.status.idle": "2025-06-07T17:48:36.509119Z",
     "shell.execute_reply": "2025-06-07T17:48:36.507949Z"
    },
    "papermill": {
     "duration": 0.082524,
     "end_time": "2025-06-07T17:48:36.510716",
     "exception": false,
     "start_time": "2025-06-07T17:48:36.428192",
     "status": "completed"
    },
    "tags": []
   },
   "outputs": [
    {
     "name": "stdout",
     "output_type": "stream",
     "text": [
      "Classification Report of Model1 using GridSearchCV:\n",
      "\n",
      "              precision    recall  f1-score   support\n",
      "\n",
      "        farm       0.86      0.88      0.87       207\n",
      "      forest       0.99      1.00      0.99      1534\n",
      "       grass       0.84      0.79      0.82        53\n",
      "  impervious       0.83      0.82      0.83       171\n",
      "     orchard       0.38      0.33      0.35         9\n",
      "       water       0.88      0.81      0.84        26\n",
      "\n",
      "    accuracy                           0.96      2000\n",
      "   macro avg       0.80      0.77      0.78      2000\n",
      "weighted avg       0.96      0.96      0.96      2000\n",
      "\n"
     ]
    }
   ],
   "source": [
    "print(\"Classification Report of Model1 using GridSearchCV:\\n\")\n",
    "\n",
    "print(classification_report(y_test, y_preds1))"
   ]
  },
  {
   "cell_type": "code",
   "execution_count": 31,
   "id": "1dec2f96",
   "metadata": {
    "execution": {
     "iopub.execute_input": "2025-06-07T17:48:36.540274Z",
     "iopub.status.busy": "2025-06-07T17:48:36.539968Z",
     "iopub.status.idle": "2025-06-07T17:48:36.545779Z",
     "shell.execute_reply": "2025-06-07T17:48:36.544842Z"
    },
    "papermill": {
     "duration": 0.022713,
     "end_time": "2025-06-07T17:48:36.547400",
     "exception": false,
     "start_time": "2025-06-07T17:48:36.524687",
     "status": "completed"
    },
    "tags": []
   },
   "outputs": [
    {
     "data": {
      "text/plain": [
       "{'solver': 'newton-cg'}"
      ]
     },
     "execution_count": 31,
     "metadata": {},
     "output_type": "execute_result"
    }
   ],
   "source": [
    "grid_logisticreg.best_params_"
   ]
  },
  {
   "cell_type": "code",
   "execution_count": 32,
   "id": "5dce41a6",
   "metadata": {
    "execution": {
     "iopub.execute_input": "2025-06-07T17:48:36.577024Z",
     "iopub.status.busy": "2025-06-07T17:48:36.576714Z",
     "iopub.status.idle": "2025-06-07T17:48:36.582606Z",
     "shell.execute_reply": "2025-06-07T17:48:36.581695Z"
    },
    "papermill": {
     "duration": 0.022636,
     "end_time": "2025-06-07T17:48:36.584436",
     "exception": false,
     "start_time": "2025-06-07T17:48:36.561800",
     "status": "completed"
    },
    "tags": []
   },
   "outputs": [
    {
     "data": {
      "text/plain": [
       "0.9595"
      ]
     },
     "execution_count": 32,
     "metadata": {},
     "output_type": "execute_result"
    }
   ],
   "source": [
    "grid_logisticreg.best_score_"
   ]
  },
  {
   "cell_type": "code",
   "execution_count": 33,
   "id": "5a34b480",
   "metadata": {
    "execution": {
     "iopub.execute_input": "2025-06-07T17:48:36.615625Z",
     "iopub.status.busy": "2025-06-07T17:48:36.615327Z",
     "iopub.status.idle": "2025-06-07T17:48:36.622159Z",
     "shell.execute_reply": "2025-06-07T17:48:36.621283Z"
    },
    "papermill": {
     "duration": 0.024364,
     "end_time": "2025-06-07T17:48:36.623787",
     "exception": false,
     "start_time": "2025-06-07T17:48:36.599423",
     "status": "completed"
    },
    "tags": []
   },
   "outputs": [
    {
     "data": {
      "text/html": [
       "<style>#sk-container-id-3 {color: black;background-color: white;}#sk-container-id-3 pre{padding: 0;}#sk-container-id-3 div.sk-toggleable {background-color: white;}#sk-container-id-3 label.sk-toggleable__label {cursor: pointer;display: block;width: 100%;margin-bottom: 0;padding: 0.3em;box-sizing: border-box;text-align: center;}#sk-container-id-3 label.sk-toggleable__label-arrow:before {content: \"▸\";float: left;margin-right: 0.25em;color: #696969;}#sk-container-id-3 label.sk-toggleable__label-arrow:hover:before {color: black;}#sk-container-id-3 div.sk-estimator:hover label.sk-toggleable__label-arrow:before {color: black;}#sk-container-id-3 div.sk-toggleable__content {max-height: 0;max-width: 0;overflow: hidden;text-align: left;background-color: #f0f8ff;}#sk-container-id-3 div.sk-toggleable__content pre {margin: 0.2em;color: black;border-radius: 0.25em;background-color: #f0f8ff;}#sk-container-id-3 input.sk-toggleable__control:checked~div.sk-toggleable__content {max-height: 200px;max-width: 100%;overflow: auto;}#sk-container-id-3 input.sk-toggleable__control:checked~label.sk-toggleable__label-arrow:before {content: \"▾\";}#sk-container-id-3 div.sk-estimator input.sk-toggleable__control:checked~label.sk-toggleable__label {background-color: #d4ebff;}#sk-container-id-3 div.sk-label input.sk-toggleable__control:checked~label.sk-toggleable__label {background-color: #d4ebff;}#sk-container-id-3 input.sk-hidden--visually {border: 0;clip: rect(1px 1px 1px 1px);clip: rect(1px, 1px, 1px, 1px);height: 1px;margin: -1px;overflow: hidden;padding: 0;position: absolute;width: 1px;}#sk-container-id-3 div.sk-estimator {font-family: monospace;background-color: #f0f8ff;border: 1px dotted black;border-radius: 0.25em;box-sizing: border-box;margin-bottom: 0.5em;}#sk-container-id-3 div.sk-estimator:hover {background-color: #d4ebff;}#sk-container-id-3 div.sk-parallel-item::after {content: \"\";width: 100%;border-bottom: 1px solid gray;flex-grow: 1;}#sk-container-id-3 div.sk-label:hover label.sk-toggleable__label {background-color: #d4ebff;}#sk-container-id-3 div.sk-serial::before {content: \"\";position: absolute;border-left: 1px solid gray;box-sizing: border-box;top: 0;bottom: 0;left: 50%;z-index: 0;}#sk-container-id-3 div.sk-serial {display: flex;flex-direction: column;align-items: center;background-color: white;padding-right: 0.2em;padding-left: 0.2em;position: relative;}#sk-container-id-3 div.sk-item {position: relative;z-index: 1;}#sk-container-id-3 div.sk-parallel {display: flex;align-items: stretch;justify-content: center;background-color: white;position: relative;}#sk-container-id-3 div.sk-item::before, #sk-container-id-3 div.sk-parallel-item::before {content: \"\";position: absolute;border-left: 1px solid gray;box-sizing: border-box;top: 0;bottom: 0;left: 50%;z-index: -1;}#sk-container-id-3 div.sk-parallel-item {display: flex;flex-direction: column;z-index: 1;position: relative;background-color: white;}#sk-container-id-3 div.sk-parallel-item:first-child::after {align-self: flex-end;width: 50%;}#sk-container-id-3 div.sk-parallel-item:last-child::after {align-self: flex-start;width: 50%;}#sk-container-id-3 div.sk-parallel-item:only-child::after {width: 0;}#sk-container-id-3 div.sk-dashed-wrapped {border: 1px dashed gray;margin: 0 0.4em 0.5em 0.4em;box-sizing: border-box;padding-bottom: 0.4em;background-color: white;}#sk-container-id-3 div.sk-label label {font-family: monospace;font-weight: bold;display: inline-block;line-height: 1.2em;}#sk-container-id-3 div.sk-label-container {text-align: center;}#sk-container-id-3 div.sk-container {/* jupyter's `normalize.less` sets `[hidden] { display: none; }` but bootstrap.min.css set `[hidden] { display: none !important; }` so we also need the `!important` here to be able to override the default hidden behavior on the sphinx rendered scikit-learn.org. See: https://github.com/scikit-learn/scikit-learn/issues/21755 */display: inline-block !important;position: relative;}#sk-container-id-3 div.sk-text-repr-fallback {display: none;}</style><div id=\"sk-container-id-3\" class=\"sk-top-container\"><div class=\"sk-text-repr-fallback\"><pre>LogisticRegression(solver=&#x27;newton-cg&#x27;)</pre><b>In a Jupyter environment, please rerun this cell to show the HTML representation or trust the notebook. <br />On GitHub, the HTML representation is unable to render, please try loading this page with nbviewer.org.</b></div><div class=\"sk-container\" hidden><div class=\"sk-item\"><div class=\"sk-estimator sk-toggleable\"><input class=\"sk-toggleable__control sk-hidden--visually\" id=\"sk-estimator-id-5\" type=\"checkbox\" checked><label for=\"sk-estimator-id-5\" class=\"sk-toggleable__label sk-toggleable__label-arrow\">LogisticRegression</label><div class=\"sk-toggleable__content\"><pre>LogisticRegression(solver=&#x27;newton-cg&#x27;)</pre></div></div></div></div></div>"
      ],
      "text/plain": [
       "LogisticRegression(solver='newton-cg')"
      ]
     },
     "execution_count": 33,
     "metadata": {},
     "output_type": "execute_result"
    }
   ],
   "source": [
    "grid_logisticreg.best_estimator_"
   ]
  },
  {
   "cell_type": "code",
   "execution_count": 34,
   "id": "a125cdf7",
   "metadata": {
    "execution": {
     "iopub.execute_input": "2025-06-07T17:48:36.655401Z",
     "iopub.status.busy": "2025-06-07T17:48:36.655074Z",
     "iopub.status.idle": "2025-06-07T17:48:36.661209Z",
     "shell.execute_reply": "2025-06-07T17:48:36.660242Z"
    },
    "papermill": {
     "duration": 0.024173,
     "end_time": "2025-06-07T17:48:36.662972",
     "exception": false,
     "start_time": "2025-06-07T17:48:36.638799",
     "status": "completed"
    },
    "tags": []
   },
   "outputs": [
    {
     "data": {
      "text/plain": [
       "19"
      ]
     },
     "execution_count": 34,
     "metadata": {},
     "output_type": "execute_result"
    }
   ],
   "source": [
    "grid_logisticreg.best_index_"
   ]
  },
  {
   "cell_type": "code",
   "execution_count": 35,
   "id": "045a36da",
   "metadata": {
    "execution": {
     "iopub.execute_input": "2025-06-07T17:48:36.691886Z",
     "iopub.status.busy": "2025-06-07T17:48:36.691590Z",
     "iopub.status.idle": "2025-06-07T17:48:36.697478Z",
     "shell.execute_reply": "2025-06-07T17:48:36.696428Z"
    },
    "papermill": {
     "duration": 0.022118,
     "end_time": "2025-06-07T17:48:36.699048",
     "exception": false,
     "start_time": "2025-06-07T17:48:36.676930",
     "status": "completed"
    },
    "tags": []
   },
   "outputs": [
    {
     "data": {
      "text/plain": [
       "make_scorer(accuracy_score)"
      ]
     },
     "execution_count": 35,
     "metadata": {},
     "output_type": "execute_result"
    }
   ],
   "source": [
    "grid_logisticreg.scorer_"
   ]
  },
  {
   "cell_type": "code",
   "execution_count": 36,
   "id": "c111759f",
   "metadata": {
    "execution": {
     "iopub.execute_input": "2025-06-07T17:48:36.729744Z",
     "iopub.status.busy": "2025-06-07T17:48:36.729454Z",
     "iopub.status.idle": "2025-06-07T17:48:36.735858Z",
     "shell.execute_reply": "2025-06-07T17:48:36.734696Z"
    },
    "papermill": {
     "duration": 0.024317,
     "end_time": "2025-06-07T17:48:36.737774",
     "exception": false,
     "start_time": "2025-06-07T17:48:36.713457",
     "status": "completed"
    },
    "tags": []
   },
   "outputs": [
    {
     "data": {
      "text/plain": [
       "5"
      ]
     },
     "execution_count": 36,
     "metadata": {},
     "output_type": "execute_result"
    }
   ],
   "source": [
    "grid_logisticreg.n_splits_"
   ]
  },
  {
   "cell_type": "code",
   "execution_count": 37,
   "id": "d47da9ad",
   "metadata": {
    "execution": {
     "iopub.execute_input": "2025-06-07T17:48:36.769603Z",
     "iopub.status.busy": "2025-06-07T17:48:36.769290Z",
     "iopub.status.idle": "2025-06-07T17:48:36.775284Z",
     "shell.execute_reply": "2025-06-07T17:48:36.774231Z"
    },
    "papermill": {
     "duration": 0.023877,
     "end_time": "2025-06-07T17:48:36.777005",
     "exception": false,
     "start_time": "2025-06-07T17:48:36.753128",
     "status": "completed"
    },
    "tags": []
   },
   "outputs": [
    {
     "data": {
      "text/plain": [
       "3.045867443084717"
      ]
     },
     "execution_count": 37,
     "metadata": {},
     "output_type": "execute_result"
    }
   ],
   "source": [
    "grid_logisticreg.refit_time_"
   ]
  },
  {
   "cell_type": "code",
   "execution_count": 38,
   "id": "7af6ec15",
   "metadata": {
    "execution": {
     "iopub.execute_input": "2025-06-07T17:48:36.809192Z",
     "iopub.status.busy": "2025-06-07T17:48:36.808340Z",
     "iopub.status.idle": "2025-06-07T17:48:36.815991Z",
     "shell.execute_reply": "2025-06-07T17:48:36.814832Z"
    },
    "papermill": {
     "duration": 0.025889,
     "end_time": "2025-06-07T17:48:36.817687",
     "exception": false,
     "start_time": "2025-06-07T17:48:36.791798",
     "status": "completed"
    },
    "tags": []
   },
   "outputs": [
    {
     "data": {
      "text/plain": [
       "array(['farm', 'forest', 'grass', 'impervious', 'orchard', 'water'],\n",
       "      dtype=object)"
      ]
     },
     "execution_count": 38,
     "metadata": {},
     "output_type": "execute_result"
    }
   ],
   "source": [
    "np.unique(y_preds1)"
   ]
  },
  {
   "cell_type": "code",
   "execution_count": 39,
   "id": "28f9de42",
   "metadata": {
    "execution": {
     "iopub.execute_input": "2025-06-07T17:48:36.850443Z",
     "iopub.status.busy": "2025-06-07T17:48:36.849229Z",
     "iopub.status.idle": "2025-06-07T17:48:36.856845Z",
     "shell.execute_reply": "2025-06-07T17:48:36.855636Z"
    },
    "papermill": {
     "duration": 0.025501,
     "end_time": "2025-06-07T17:48:36.858468",
     "exception": false,
     "start_time": "2025-06-07T17:48:36.832967",
     "status": "completed"
    },
    "tags": []
   },
   "outputs": [
    {
     "name": "stdout",
     "output_type": "stream",
     "text": [
      "Unique values: ['farm' 'forest' 'grass' 'impervious' 'orchard' 'water']\n",
      "Counts: [ 211 1539   50  168    8   24]\n"
     ]
    }
   ],
   "source": [
    "ar_unique, i = np.unique(y_preds1, return_counts=True)\n",
    "print(\"Unique values:\", ar_unique)\n",
    "print(\"Counts:\", i)"
   ]
  },
  {
   "cell_type": "markdown",
   "id": "18399b8f",
   "metadata": {
    "papermill": {
     "duration": 0.014226,
     "end_time": "2025-06-07T17:48:36.887078",
     "exception": false,
     "start_time": "2025-06-07T17:48:36.872852",
     "status": "completed"
    },
    "tags": []
   },
   "source": [
    "<p style=\"font-size: 25px\">\n",
    "    GridSearchCV Model Performed Better than the Simple Logistic Regression Model\n",
    "</p>"
   ]
  },
  {
   "cell_type": "markdown",
   "id": "e7ad6bc1",
   "metadata": {
    "papermill": {
     "duration": 0.013999,
     "end_time": "2025-06-07T17:48:36.915641",
     "exception": false,
     "start_time": "2025-06-07T17:48:36.901642",
     "status": "completed"
    },
    "tags": []
   },
   "source": [
    "<h1>\n",
    "    Simple Pipeline: Imputation, StandardScaler, LogisticRegression; Accuracy: 87%\n",
    "</h1>"
   ]
  },
  {
   "cell_type": "code",
   "execution_count": 40,
   "id": "3790c225",
   "metadata": {
    "execution": {
     "iopub.execute_input": "2025-06-07T17:48:36.947954Z",
     "iopub.status.busy": "2025-06-07T17:48:36.947108Z",
     "iopub.status.idle": "2025-06-07T17:48:37.127338Z",
     "shell.execute_reply": "2025-06-07T17:48:37.126239Z"
    },
    "papermill": {
     "duration": 0.197863,
     "end_time": "2025-06-07T17:48:37.129171",
     "exception": false,
     "start_time": "2025-06-07T17:48:36.931308",
     "status": "completed"
    },
    "tags": []
   },
   "outputs": [],
   "source": [
    "from sklearn.pipeline import Pipeline\n",
    "from sklearn.impute import SimpleImputer\n",
    "from sklearn.preprocessing import StandardScaler"
   ]
  },
  {
   "cell_type": "code",
   "execution_count": 41,
   "id": "b4c5d815",
   "metadata": {
    "execution": {
     "iopub.execute_input": "2025-06-07T17:48:37.159543Z",
     "iopub.status.busy": "2025-06-07T17:48:37.159187Z",
     "iopub.status.idle": "2025-06-07T17:48:37.164269Z",
     "shell.execute_reply": "2025-06-07T17:48:37.163231Z"
    },
    "papermill": {
     "duration": 0.02174,
     "end_time": "2025-06-07T17:48:37.165698",
     "exception": false,
     "start_time": "2025-06-07T17:48:37.143958",
     "status": "completed"
    },
    "tags": []
   },
   "outputs": [],
   "source": [
    "pipeline = Pipeline([\n",
    "    (\"imputer\", SimpleImputer(strategy=\"mean\")),\n",
    "    (\"scaler\", StandardScaler()),\n",
    "    (\"clf\", LogisticRegression(max_iter=1000))\n",
    "])"
   ]
  },
  {
   "cell_type": "code",
   "execution_count": 42,
   "id": "e23b911d",
   "metadata": {
    "execution": {
     "iopub.execute_input": "2025-06-07T17:48:37.195963Z",
     "iopub.status.busy": "2025-06-07T17:48:37.195607Z",
     "iopub.status.idle": "2025-06-07T17:48:37.241276Z",
     "shell.execute_reply": "2025-06-07T17:48:37.240211Z"
    },
    "papermill": {
     "duration": 0.06319,
     "end_time": "2025-06-07T17:48:37.243047",
     "exception": false,
     "start_time": "2025-06-07T17:48:37.179857",
     "status": "completed"
    },
    "tags": []
   },
   "outputs": [],
   "source": [
    "traindf = pd.read_csv(\"/kaggle/input/summer-analytics-mid-hackathon/hacktrain.csv\")\n",
    "\n",
    "traindf.drop([\"Unnamed: 0\", \"ID\"], axis=1, inplace=True)"
   ]
  },
  {
   "cell_type": "code",
   "execution_count": 43,
   "id": "37e6eca8",
   "metadata": {
    "execution": {
     "iopub.execute_input": "2025-06-07T17:48:37.273889Z",
     "iopub.status.busy": "2025-06-07T17:48:37.273573Z",
     "iopub.status.idle": "2025-06-07T17:48:37.283724Z",
     "shell.execute_reply": "2025-06-07T17:48:37.282588Z"
    },
    "papermill": {
     "duration": 0.02771,
     "end_time": "2025-06-07T17:48:37.285619",
     "exception": false,
     "start_time": "2025-06-07T17:48:37.257909",
     "status": "completed"
    },
    "tags": []
   },
   "outputs": [],
   "source": [
    "X = traindf.drop(columns=[\"class\"])\n",
    "y = traindf[\"class\"]\n",
    "\n",
    "X_train, X_test, y_train, y_test = train_test_split(X, y, test_size=0.25, random_state=42)"
   ]
  },
  {
   "cell_type": "code",
   "execution_count": 44,
   "id": "71996b67",
   "metadata": {
    "execution": {
     "iopub.execute_input": "2025-06-07T17:48:37.317096Z",
     "iopub.status.busy": "2025-06-07T17:48:37.316720Z",
     "iopub.status.idle": "2025-06-07T17:48:37.323284Z",
     "shell.execute_reply": "2025-06-07T17:48:37.322382Z"
    },
    "papermill": {
     "duration": 0.024828,
     "end_time": "2025-06-07T17:48:37.325275",
     "exception": false,
     "start_time": "2025-06-07T17:48:37.300447",
     "status": "completed"
    },
    "tags": []
   },
   "outputs": [
    {
     "data": {
      "text/plain": [
       "((6000, 27), (6000,), (2000, 27), (2000,))"
      ]
     },
     "execution_count": 44,
     "metadata": {},
     "output_type": "execute_result"
    }
   ],
   "source": [
    "X_train.shape, y_train.shape, X_test.shape, y_test.shape"
   ]
  },
  {
   "cell_type": "code",
   "execution_count": 45,
   "id": "8530ea71",
   "metadata": {
    "execution": {
     "iopub.execute_input": "2025-06-07T17:48:37.356607Z",
     "iopub.status.busy": "2025-06-07T17:48:37.355519Z",
     "iopub.status.idle": "2025-06-07T17:48:37.864542Z",
     "shell.execute_reply": "2025-06-07T17:48:37.863755Z"
    },
    "papermill": {
     "duration": 0.526498,
     "end_time": "2025-06-07T17:48:37.866587",
     "exception": false,
     "start_time": "2025-06-07T17:48:37.340089",
     "status": "completed"
    },
    "tags": []
   },
   "outputs": [
    {
     "data": {
      "text/html": [
       "<style>#sk-container-id-4 {color: black;background-color: white;}#sk-container-id-4 pre{padding: 0;}#sk-container-id-4 div.sk-toggleable {background-color: white;}#sk-container-id-4 label.sk-toggleable__label {cursor: pointer;display: block;width: 100%;margin-bottom: 0;padding: 0.3em;box-sizing: border-box;text-align: center;}#sk-container-id-4 label.sk-toggleable__label-arrow:before {content: \"▸\";float: left;margin-right: 0.25em;color: #696969;}#sk-container-id-4 label.sk-toggleable__label-arrow:hover:before {color: black;}#sk-container-id-4 div.sk-estimator:hover label.sk-toggleable__label-arrow:before {color: black;}#sk-container-id-4 div.sk-toggleable__content {max-height: 0;max-width: 0;overflow: hidden;text-align: left;background-color: #f0f8ff;}#sk-container-id-4 div.sk-toggleable__content pre {margin: 0.2em;color: black;border-radius: 0.25em;background-color: #f0f8ff;}#sk-container-id-4 input.sk-toggleable__control:checked~div.sk-toggleable__content {max-height: 200px;max-width: 100%;overflow: auto;}#sk-container-id-4 input.sk-toggleable__control:checked~label.sk-toggleable__label-arrow:before {content: \"▾\";}#sk-container-id-4 div.sk-estimator input.sk-toggleable__control:checked~label.sk-toggleable__label {background-color: #d4ebff;}#sk-container-id-4 div.sk-label input.sk-toggleable__control:checked~label.sk-toggleable__label {background-color: #d4ebff;}#sk-container-id-4 input.sk-hidden--visually {border: 0;clip: rect(1px 1px 1px 1px);clip: rect(1px, 1px, 1px, 1px);height: 1px;margin: -1px;overflow: hidden;padding: 0;position: absolute;width: 1px;}#sk-container-id-4 div.sk-estimator {font-family: monospace;background-color: #f0f8ff;border: 1px dotted black;border-radius: 0.25em;box-sizing: border-box;margin-bottom: 0.5em;}#sk-container-id-4 div.sk-estimator:hover {background-color: #d4ebff;}#sk-container-id-4 div.sk-parallel-item::after {content: \"\";width: 100%;border-bottom: 1px solid gray;flex-grow: 1;}#sk-container-id-4 div.sk-label:hover label.sk-toggleable__label {background-color: #d4ebff;}#sk-container-id-4 div.sk-serial::before {content: \"\";position: absolute;border-left: 1px solid gray;box-sizing: border-box;top: 0;bottom: 0;left: 50%;z-index: 0;}#sk-container-id-4 div.sk-serial {display: flex;flex-direction: column;align-items: center;background-color: white;padding-right: 0.2em;padding-left: 0.2em;position: relative;}#sk-container-id-4 div.sk-item {position: relative;z-index: 1;}#sk-container-id-4 div.sk-parallel {display: flex;align-items: stretch;justify-content: center;background-color: white;position: relative;}#sk-container-id-4 div.sk-item::before, #sk-container-id-4 div.sk-parallel-item::before {content: \"\";position: absolute;border-left: 1px solid gray;box-sizing: border-box;top: 0;bottom: 0;left: 50%;z-index: -1;}#sk-container-id-4 div.sk-parallel-item {display: flex;flex-direction: column;z-index: 1;position: relative;background-color: white;}#sk-container-id-4 div.sk-parallel-item:first-child::after {align-self: flex-end;width: 50%;}#sk-container-id-4 div.sk-parallel-item:last-child::after {align-self: flex-start;width: 50%;}#sk-container-id-4 div.sk-parallel-item:only-child::after {width: 0;}#sk-container-id-4 div.sk-dashed-wrapped {border: 1px dashed gray;margin: 0 0.4em 0.5em 0.4em;box-sizing: border-box;padding-bottom: 0.4em;background-color: white;}#sk-container-id-4 div.sk-label label {font-family: monospace;font-weight: bold;display: inline-block;line-height: 1.2em;}#sk-container-id-4 div.sk-label-container {text-align: center;}#sk-container-id-4 div.sk-container {/* jupyter's `normalize.less` sets `[hidden] { display: none; }` but bootstrap.min.css set `[hidden] { display: none !important; }` so we also need the `!important` here to be able to override the default hidden behavior on the sphinx rendered scikit-learn.org. See: https://github.com/scikit-learn/scikit-learn/issues/21755 */display: inline-block !important;position: relative;}#sk-container-id-4 div.sk-text-repr-fallback {display: none;}</style><div id=\"sk-container-id-4\" class=\"sk-top-container\"><div class=\"sk-text-repr-fallback\"><pre>Pipeline(steps=[(&#x27;imputer&#x27;, SimpleImputer()), (&#x27;scaler&#x27;, StandardScaler()),\n",
       "                (&#x27;clf&#x27;, LogisticRegression(max_iter=1000))])</pre><b>In a Jupyter environment, please rerun this cell to show the HTML representation or trust the notebook. <br />On GitHub, the HTML representation is unable to render, please try loading this page with nbviewer.org.</b></div><div class=\"sk-container\" hidden><div class=\"sk-item sk-dashed-wrapped\"><div class=\"sk-label-container\"><div class=\"sk-label sk-toggleable\"><input class=\"sk-toggleable__control sk-hidden--visually\" id=\"sk-estimator-id-6\" type=\"checkbox\" ><label for=\"sk-estimator-id-6\" class=\"sk-toggleable__label sk-toggleable__label-arrow\">Pipeline</label><div class=\"sk-toggleable__content\"><pre>Pipeline(steps=[(&#x27;imputer&#x27;, SimpleImputer()), (&#x27;scaler&#x27;, StandardScaler()),\n",
       "                (&#x27;clf&#x27;, LogisticRegression(max_iter=1000))])</pre></div></div></div><div class=\"sk-serial\"><div class=\"sk-item\"><div class=\"sk-estimator sk-toggleable\"><input class=\"sk-toggleable__control sk-hidden--visually\" id=\"sk-estimator-id-7\" type=\"checkbox\" ><label for=\"sk-estimator-id-7\" class=\"sk-toggleable__label sk-toggleable__label-arrow\">SimpleImputer</label><div class=\"sk-toggleable__content\"><pre>SimpleImputer()</pre></div></div></div><div class=\"sk-item\"><div class=\"sk-estimator sk-toggleable\"><input class=\"sk-toggleable__control sk-hidden--visually\" id=\"sk-estimator-id-8\" type=\"checkbox\" ><label for=\"sk-estimator-id-8\" class=\"sk-toggleable__label sk-toggleable__label-arrow\">StandardScaler</label><div class=\"sk-toggleable__content\"><pre>StandardScaler()</pre></div></div></div><div class=\"sk-item\"><div class=\"sk-estimator sk-toggleable\"><input class=\"sk-toggleable__control sk-hidden--visually\" id=\"sk-estimator-id-9\" type=\"checkbox\" ><label for=\"sk-estimator-id-9\" class=\"sk-toggleable__label sk-toggleable__label-arrow\">LogisticRegression</label><div class=\"sk-toggleable__content\"><pre>LogisticRegression(max_iter=1000)</pre></div></div></div></div></div></div></div>"
      ],
      "text/plain": [
       "Pipeline(steps=[('imputer', SimpleImputer()), ('scaler', StandardScaler()),\n",
       "                ('clf', LogisticRegression(max_iter=1000))])"
      ]
     },
     "execution_count": 45,
     "metadata": {},
     "output_type": "execute_result"
    }
   ],
   "source": [
    "pipeline.fit(X_train, y_train)"
   ]
  },
  {
   "cell_type": "code",
   "execution_count": 46,
   "id": "c5bc56b3",
   "metadata": {
    "execution": {
     "iopub.execute_input": "2025-06-07T17:48:37.919988Z",
     "iopub.status.busy": "2025-06-07T17:48:37.919630Z",
     "iopub.status.idle": "2025-06-07T17:48:37.936243Z",
     "shell.execute_reply": "2025-06-07T17:48:37.935351Z"
    },
    "papermill": {
     "duration": 0.046605,
     "end_time": "2025-06-07T17:48:37.938111",
     "exception": false,
     "start_time": "2025-06-07T17:48:37.891506",
     "status": "completed"
    },
    "tags": []
   },
   "outputs": [],
   "source": [
    "y_preds2 = pipeline.predict(X_test)"
   ]
  },
  {
   "cell_type": "code",
   "execution_count": 47,
   "id": "9f001847",
   "metadata": {
    "execution": {
     "iopub.execute_input": "2025-06-07T17:48:37.986116Z",
     "iopub.status.busy": "2025-06-07T17:48:37.985139Z",
     "iopub.status.idle": "2025-06-07T17:48:38.045180Z",
     "shell.execute_reply": "2025-06-07T17:48:38.043930Z"
    },
    "papermill": {
     "duration": 0.082537,
     "end_time": "2025-06-07T17:48:38.046765",
     "exception": false,
     "start_time": "2025-06-07T17:48:37.964228",
     "status": "completed"
    },
    "tags": []
   },
   "outputs": [
    {
     "name": "stdout",
     "output_type": "stream",
     "text": [
      "Classification Report of Model2 using Pipeline (SimpleImputer, StandardScaler, LogisticRegression):\n",
      "\n",
      "              precision    recall  f1-score   support\n",
      "\n",
      "        farm       0.68      0.46      0.55       207\n",
      "      forest       0.90      0.97      0.94      1534\n",
      "       grass       0.72      0.25      0.37        53\n",
      "  impervious       0.81      0.77      0.79       171\n",
      "     orchard       0.33      0.11      0.17         9\n",
      "       water       0.61      0.54      0.57        26\n",
      "\n",
      "    accuracy                           0.87      2000\n",
      "   macro avg       0.68      0.52      0.56      2000\n",
      "weighted avg       0.86      0.87      0.86      2000\n",
      "\n"
     ]
    }
   ],
   "source": [
    "print(\"Classification Report of Model2 using Pipeline (SimpleImputer, StandardScaler, LogisticRegression):\\n\")\n",
    "\n",
    "print(classification_report(y_test, y_preds2))"
   ]
  },
  {
   "cell_type": "markdown",
   "id": "d8aff95f",
   "metadata": {
    "papermill": {
     "duration": 0.01479,
     "end_time": "2025-06-07T17:48:38.076775",
     "exception": false,
     "start_time": "2025-06-07T17:48:38.061985",
     "status": "completed"
    },
    "tags": []
   },
   "source": [
    "<p style=\"font-size: 25px\">\n",
    "    Simple Pipeline: Imputation, StandardScaler, LogisticRegression; Accuracy: 87%\n",
    "</p>"
   ]
  },
  {
   "cell_type": "markdown",
   "id": "0161c704",
   "metadata": {
    "papermill": {
     "duration": 0.015133,
     "end_time": "2025-06-07T17:48:38.107002",
     "exception": false,
     "start_time": "2025-06-07T17:48:38.091869",
     "status": "completed"
    },
    "tags": []
   },
   "source": [
    "<h3>\n",
    "    Summary of Models\n",
    "</h3>\n",
    "\n",
    "<h4>\n",
    "    Simple Logistic Regression Model (model0):\n",
    "    <ul>\n",
    "        <li>LogisticRegression initialized with <code>multi_class='multinomial'</code>.</li>\n",
    "        <li>Model trained using <code>model0.fit(X_train, y_train)</code>.</li>\n",
    "        <li>Predictions made using <code>model0.predict(X_test)</code>.</li>\n",
    "        <li>Accuracy of 94% is achieved</li>\n",
    "    </ul>\n",
    "</h4>\n",
    "\n",
    "<h4>\n",
    "    Logistic Regression Model (model1):\n",
    "    <ul>\n",
    "        <li>Standard LogisticRegression initialized with default parameters.</li>\n",
    "        <li>Used as a base estimator for hyperparameter tuning via GridSearchCV.</li>\n",
    "        <li>GridSearchCV applied on model1 for hyperparameter optimization.</li>\n",
    "        <li>Parameters tuned: <code>params</code>, using 5-fold cross-validation.</li>\n",
    "        <li>Scoring based on accuracy with parallel jobs enabled (<code>n_jobs=-1</code>).</li>\n",
    "        <li>Accuracy of 96% is achieved</li>\n",
    "    </ul>\n",
    "</h4>\n",
    "\n",
    "<h4>\n",
    "    Pipeline with Imputation (pipeline):\n",
    "    <ul>\n",
    "        <li>Pipeline created to preprocess data using <code>SimpleImputer(strategy=\"mean\")</code>.</li>\n",
    "        <li>Allows sequential execution of imputation followed by model fitting.</li>\n",
    "        <li>Accuracy of 87% is achieved</li>\n",
    "    </ul>\n",
    "</h4>\n"
   ]
  }
 ],
 "metadata": {
  "kaggle": {
   "accelerator": "none",
   "dataSources": [
    {
     "databundleVersionId": 12585144,
     "sourceId": 104491,
     "sourceType": "competition"
    }
   ],
   "dockerImageVersionId": 31040,
   "isGpuEnabled": false,
   "isInternetEnabled": false,
   "language": "python",
   "sourceType": "notebook"
  },
  "kernelspec": {
   "display_name": "Python 3",
   "language": "python",
   "name": "python3"
  },
  "language_info": {
   "codemirror_mode": {
    "name": "ipython",
    "version": 3
   },
   "file_extension": ".py",
   "mimetype": "text/x-python",
   "name": "python",
   "nbconvert_exporter": "python",
   "pygments_lexer": "ipython3",
   "version": "3.11.11"
  },
  "papermill": {
   "default_parameters": {},
   "duration": 38.717222,
   "end_time": "2025-06-07T17:48:40.742435",
   "environment_variables": {},
   "exception": null,
   "input_path": "__notebook__.ipynb",
   "output_path": "__notebook__.ipynb",
   "parameters": {},
   "start_time": "2025-06-07T17:48:02.025213",
   "version": "2.6.0"
  }
 },
 "nbformat": 4,
 "nbformat_minor": 5
}
