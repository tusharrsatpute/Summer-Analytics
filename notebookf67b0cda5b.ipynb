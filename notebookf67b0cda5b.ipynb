{
 "cells": [
  {
   "cell_type": "code",
   "execution_count": 1,
   "id": "6d1e1169",
   "metadata": {
    "_cell_guid": "b1076dfc-b9ad-4769-8c92-a6c4dae69d19",
    "_uuid": "8f2839f25d086af736a60e9eeb907d3b93b6e0e5",
    "execution": {
     "iopub.execute_input": "2025-06-29T19:46:23.757160Z",
     "iopub.status.busy": "2025-06-29T19:46:23.756806Z",
     "iopub.status.idle": "2025-06-29T19:46:26.077773Z",
     "shell.execute_reply": "2025-06-29T19:46:26.076318Z"
    },
    "papermill": {
     "duration": 2.331738,
     "end_time": "2025-06-29T19:46:26.079693",
     "exception": false,
     "start_time": "2025-06-29T19:46:23.747955",
     "status": "completed"
    },
    "tags": []
   },
   "outputs": [
    {
     "name": "stdout",
     "output_type": "stream",
     "text": [
      "/kaggle/input/nutrition-health-survey-age-prediction/Train_Data.csv\n",
      "/kaggle/input/nutrition-health-survey-age-prediction/Test_Data.csv\n"
     ]
    }
   ],
   "source": [
    "# This Python 3 environment comes with many helpful analytics libraries installed\n",
    "# It is defined by the kaggle/python Docker image: https://github.com/kaggle/docker-python\n",
    "# For example, here's several helpful packages to load\n",
    "\n",
    "import numpy as np # linear algebra\n",
    "import pandas as pd # data processing, CSV file I/O (e.g. pd.read_csv)\n",
    "\n",
    "# Input data files are available in the read-only \"../input/\" directory\n",
    "# For example, running this (by clicking run or pressing Shift+Enter) will list all files under the input directory\n",
    "\n",
    "import os\n",
    "for dirname, _, filenames in os.walk('/kaggle/input'):\n",
    "    for filename in filenames:\n",
    "        print(os.path.join(dirname, filename))\n",
    "\n",
    "# You can write up to 20GB to the current directory (/kaggle/working/) that gets preserved as output when you create a version using \"Save & Run All\" \n",
    "# You can also write temporary files to /kaggle/temp/, but they won't be saved outside of the current session"
   ]
  },
  {
   "cell_type": "code",
   "execution_count": 2,
   "id": "02f0fd10",
   "metadata": {
    "execution": {
     "iopub.execute_input": "2025-06-29T19:46:26.090798Z",
     "iopub.status.busy": "2025-06-29T19:46:26.090352Z",
     "iopub.status.idle": "2025-06-29T19:46:28.435092Z",
     "shell.execute_reply": "2025-06-29T19:46:28.434062Z"
    },
    "papermill": {
     "duration": 2.352183,
     "end_time": "2025-06-29T19:46:28.437004",
     "exception": false,
     "start_time": "2025-06-29T19:46:26.084821",
     "status": "completed"
    },
    "tags": []
   },
   "outputs": [],
   "source": [
    "import pandas as pd\n",
    "import numpy as np\n",
    "from sklearn.model_selection import train_test_split\n",
    "from sklearn.preprocessing import StandardScaler\n",
    "from sklearn.ensemble import RandomForestClassifier\n",
    "from sklearn.metrics import accuracy_score\n",
    "\n",
    "# Load the data\n",
    "train_data = pd.read_csv('/kaggle/input/nutrition-health-survey-age-prediction/Train_Data.csv')\n",
    "test_data = pd.read_csv('/kaggle/input/nutrition-health-survey-age-prediction/Test_Data.csv')"
   ]
  },
  {
   "cell_type": "code",
   "execution_count": 3,
   "id": "76b03b99",
   "metadata": {
    "execution": {
     "iopub.execute_input": "2025-06-29T19:46:28.447858Z",
     "iopub.status.busy": "2025-06-29T19:46:28.447463Z",
     "iopub.status.idle": "2025-06-29T19:46:28.496284Z",
     "shell.execute_reply": "2025-06-29T19:46:28.495227Z"
    },
    "papermill": {
     "duration": 0.056245,
     "end_time": "2025-06-29T19:46:28.498134",
     "exception": false,
     "start_time": "2025-06-29T19:46:28.441889",
     "status": "completed"
    },
    "tags": []
   },
   "outputs": [
    {
     "name": "stdout",
     "output_type": "stream",
     "text": [
      "      SEQN  RIAGENDR  PAQ605  BMXBMI  LBXGLU  DIQ010  LBXGLT  LBXIN age_group\n",
      "0  73564.0       2.0     2.0    35.7   110.0     2.0   150.0  14.91     Adult\n",
      "1  73568.0       2.0     2.0    20.3    89.0     2.0    80.0   3.85     Adult\n",
      "2  73576.0       1.0     2.0    23.2    89.0     2.0    68.0   6.14     Adult\n",
      "3  73577.0       1.0     2.0    28.9   104.0     NaN    84.0  16.15     Adult\n",
      "4  73580.0       2.0     1.0    35.9   103.0     2.0    81.0  10.92     Adult\n",
      "<class 'pandas.core.frame.DataFrame'>\n",
      "RangeIndex: 1966 entries, 0 to 1965\n",
      "Data columns (total 9 columns):\n",
      " #   Column     Non-Null Count  Dtype  \n",
      "---  ------     --------------  -----  \n",
      " 0   SEQN       1954 non-null   float64\n",
      " 1   RIAGENDR   1948 non-null   float64\n",
      " 2   PAQ605     1953 non-null   float64\n",
      " 3   BMXBMI     1948 non-null   float64\n",
      " 4   LBXGLU     1953 non-null   float64\n",
      " 5   DIQ010     1948 non-null   float64\n",
      " 6   LBXGLT     1955 non-null   float64\n",
      " 7   LBXIN      1957 non-null   float64\n",
      " 8   age_group  1952 non-null   object \n",
      "dtypes: float64(8), object(1)\n",
      "memory usage: 138.4+ KB\n",
      "None\n",
      "SEQN         12\n",
      "RIAGENDR     18\n",
      "PAQ605       13\n",
      "BMXBMI       18\n",
      "LBXGLU       13\n",
      "DIQ010       18\n",
      "LBXGLT       11\n",
      "LBXIN         9\n",
      "age_group    14\n",
      "dtype: int64\n",
      "      SEQN  RIAGENDR  PAQ605  BMXBMI  LBXGLU  DIQ010  LBXGLT  LBXIN\n",
      "0  77017.0       1.0     1.0    32.2    96.0     2.0   135.0  15.11\n",
      "1  75580.0       2.0     2.0    26.3   100.0     2.0   141.0  15.26\n",
      "2  73820.0       1.0     2.0    28.6   107.0     2.0   136.0   8.82\n",
      "3  80489.0       2.0     1.0    22.1    93.0     2.0   111.0  12.13\n",
      "4  82047.0       1.0     1.0    24.7    91.0     2.0   105.0   3.12\n",
      "<class 'pandas.core.frame.DataFrame'>\n",
      "RangeIndex: 312 entries, 0 to 311\n",
      "Data columns (total 8 columns):\n",
      " #   Column    Non-Null Count  Dtype  \n",
      "---  ------    --------------  -----  \n",
      " 0   SEQN      310 non-null    float64\n",
      " 1   RIAGENDR  310 non-null    float64\n",
      " 2   PAQ605    311 non-null    float64\n",
      " 3   BMXBMI    311 non-null    float64\n",
      " 4   LBXGLU    311 non-null    float64\n",
      " 5   DIQ010    311 non-null    float64\n",
      " 6   LBXGLT    310 non-null    float64\n",
      " 7   LBXIN     311 non-null    float64\n",
      "dtypes: float64(8)\n",
      "memory usage: 19.6 KB\n",
      "None\n",
      "SEQN        2\n",
      "RIAGENDR    2\n",
      "PAQ605      1\n",
      "BMXBMI      1\n",
      "LBXGLU      1\n",
      "DIQ010      1\n",
      "LBXGLT      2\n",
      "LBXIN       1\n",
      "dtype: int64\n"
     ]
    }
   ],
   "source": [
    "import warnings\n",
    "\n",
    "warnings.filterwarnings('ignore')\n",
    "\n",
    "print(train_data.head())\n",
    "print(train_data.info())\n",
    "print(train_data.isnull().sum())\n",
    "\n",
    "print(test_data.head())\n",
    "print(test_data.info())\n",
    "print(test_data.isnull().sum())"
   ]
  },
  {
   "cell_type": "code",
   "execution_count": 4,
   "id": "410f182c",
   "metadata": {
    "execution": {
     "iopub.execute_input": "2025-06-29T19:46:28.509768Z",
     "iopub.status.busy": "2025-06-29T19:46:28.508745Z",
     "iopub.status.idle": "2025-06-29T19:46:28.515088Z",
     "shell.execute_reply": "2025-06-29T19:46:28.514112Z"
    },
    "papermill": {
     "duration": 0.013768,
     "end_time": "2025-06-29T19:46:28.516739",
     "exception": false,
     "start_time": "2025-06-29T19:46:28.502971",
     "status": "completed"
    },
    "tags": []
   },
   "outputs": [],
   "source": [
    "# Identify numeric columns\n",
    "numeric_cols = train_data.select_dtypes(include=[np.number]).columns\n",
    "non_numeric_cols = train_data.select_dtypes(exclude=[np.number]).columns"
   ]
  },
  {
   "cell_type": "code",
   "execution_count": 5,
   "id": "172c6e27",
   "metadata": {
    "execution": {
     "iopub.execute_input": "2025-06-29T19:46:28.528342Z",
     "iopub.status.busy": "2025-06-29T19:46:28.527019Z",
     "iopub.status.idle": "2025-06-29T19:46:28.548560Z",
     "shell.execute_reply": "2025-06-29T19:46:28.547504Z"
    },
    "papermill": {
     "duration": 0.028954,
     "end_time": "2025-06-29T19:46:28.550419",
     "exception": false,
     "start_time": "2025-06-29T19:46:28.521465",
     "status": "completed"
    },
    "tags": []
   },
   "outputs": [],
   "source": [
    "# Fill NaN values with the mean of each numeric column\n",
    "train_data[numeric_cols].fillna(train_data[numeric_cols].mean(), inplace=True)\n",
    "test_data[numeric_cols].fillna(test_data[numeric_cols].mean(), inplace=True)"
   ]
  },
  {
   "cell_type": "code",
   "execution_count": 6,
   "id": "5b43f414",
   "metadata": {
    "execution": {
     "iopub.execute_input": "2025-06-29T19:46:28.562054Z",
     "iopub.status.busy": "2025-06-29T19:46:28.561704Z",
     "iopub.status.idle": "2025-06-29T19:46:28.569321Z",
     "shell.execute_reply": "2025-06-29T19:46:28.568388Z"
    },
    "papermill": {
     "duration": 0.015659,
     "end_time": "2025-06-29T19:46:28.571033",
     "exception": false,
     "start_time": "2025-06-29T19:46:28.555374",
     "status": "completed"
    },
    "tags": []
   },
   "outputs": [],
   "source": [
    "# Fill NaN values for non-numeric columns with the mode\n",
    "#for col in non_numeric_cols:\n",
    "#    train_data[col].fillna(train_data[col].mode()[0], inplace=True)\n",
    "#    test_data[col].fillna(test_data[col].mode()[0], inplace=True)\n",
    "\n",
    "# For non-numeric columns, fill NaN values with the mode\n",
    "for col in non_numeric_cols:\n",
    "   if col in train_data.columns:\n",
    "      train_data[col].fillna(train_data[col].mode()[0], inplace=True)\n",
    "\n",
    "# Check if column exists in the test data before filling\n",
    "if col in test_data.columns:\n",
    "    test_data[col].fillna(test_data[col].mode()[0], inplace=True)"
   ]
  },
  {
   "cell_type": "code",
   "execution_count": 7,
   "id": "383a638e",
   "metadata": {
    "execution": {
     "iopub.execute_input": "2025-06-29T19:46:28.582552Z",
     "iopub.status.busy": "2025-06-29T19:46:28.582112Z",
     "iopub.status.idle": "2025-06-29T19:46:28.588377Z",
     "shell.execute_reply": "2025-06-29T19:46:28.587143Z"
    },
    "papermill": {
     "duration": 0.01423,
     "end_time": "2025-06-29T19:46:28.590182",
     "exception": false,
     "start_time": "2025-06-29T19:46:28.575952",
     "status": "completed"
    },
    "tags": []
   },
   "outputs": [],
   "source": [
    "\n",
    "\n",
    "# Separate features and target variable\n",
    "X = train_data.drop(columns=['age_group', 'SEQN'])\n",
    "y = train_data['age_group']"
   ]
  },
  {
   "cell_type": "code",
   "execution_count": 8,
   "id": "31f66305",
   "metadata": {
    "execution": {
     "iopub.execute_input": "2025-06-29T19:46:28.601437Z",
     "iopub.status.busy": "2025-06-29T19:46:28.601098Z",
     "iopub.status.idle": "2025-06-29T19:46:28.608992Z",
     "shell.execute_reply": "2025-06-29T19:46:28.607753Z"
    },
    "papermill": {
     "duration": 0.015562,
     "end_time": "2025-06-29T19:46:28.610935",
     "exception": false,
     "start_time": "2025-06-29T19:46:28.595373",
     "status": "completed"
    },
    "tags": []
   },
   "outputs": [],
   "source": [
    "X_train, X_val, y_train, y_val = train_test_split(X, y, test_size=0.2, random_state=42)"
   ]
  },
  {
   "cell_type": "code",
   "execution_count": 9,
   "id": "deb92f9a",
   "metadata": {
    "execution": {
     "iopub.execute_input": "2025-06-29T19:46:28.622182Z",
     "iopub.status.busy": "2025-06-29T19:46:28.621820Z",
     "iopub.status.idle": "2025-06-29T19:46:28.667862Z",
     "shell.execute_reply": "2025-06-29T19:46:28.666540Z"
    },
    "papermill": {
     "duration": 0.05352,
     "end_time": "2025-06-29T19:46:28.669808",
     "exception": false,
     "start_time": "2025-06-29T19:46:28.616288",
     "status": "completed"
    },
    "tags": []
   },
   "outputs": [],
   "source": [
    "scaler = StandardScaler()\n",
    "X_train_scaled = scaler.fit_transform(X_train)\n",
    "X_val_scaled = scaler.transform(X_val)\n",
    "X_test_scaled = scaler.transform(test_data.drop(columns=['SEQN']))"
   ]
  },
  {
   "cell_type": "code",
   "execution_count": 10,
   "id": "debbe915",
   "metadata": {
    "execution": {
     "iopub.execute_input": "2025-06-29T19:46:28.680627Z",
     "iopub.status.busy": "2025-06-29T19:46:28.680255Z",
     "iopub.status.idle": "2025-06-29T19:46:28.716831Z",
     "shell.execute_reply": "2025-06-29T19:46:28.715518Z"
    },
    "papermill": {
     "duration": 0.044099,
     "end_time": "2025-06-29T19:46:28.718640",
     "exception": false,
     "start_time": "2025-06-29T19:46:28.674541",
     "status": "completed"
    },
    "tags": []
   },
   "outputs": [],
   "source": [
    "import pandas as pd\n",
    "import numpy as np\n",
    "from sklearn.model_selection import train_test_split\n",
    "from sklearn.preprocessing import StandardScaler\n",
    "from sklearn.ensemble import RandomForestClassifier\n",
    "from sklearn.metrics import accuracy_score\n",
    "from sklearn.impute import SimpleImputer\n",
    "from sklearn.pipeline import Pipeline\n",
    "\n",
    "# Separate features and target\n",
    "X = train_data.drop(columns=['age_group', 'SEQN'])\n",
    "y = train_data['age_group']\n",
    "\n",
    "X_test = test_data.drop(columns=['SEQN'])\n",
    "\n",
    "\n"
   ]
  },
  {
   "cell_type": "code",
   "execution_count": 11,
   "id": "b872f3ea",
   "metadata": {
    "execution": {
     "iopub.execute_input": "2025-06-29T19:46:28.729332Z",
     "iopub.status.busy": "2025-06-29T19:46:28.729008Z",
     "iopub.status.idle": "2025-06-29T19:46:28.735267Z",
     "shell.execute_reply": "2025-06-29T19:46:28.734016Z"
    },
    "papermill": {
     "duration": 0.013712,
     "end_time": "2025-06-29T19:46:28.737145",
     "exception": false,
     "start_time": "2025-06-29T19:46:28.723433",
     "status": "completed"
    },
    "tags": []
   },
   "outputs": [],
   "source": [
    "# Identify numeric and categorical columns\n",
    "numeric_cols = X.select_dtypes(include=[np.number]).columns.tolist()\n",
    "categorical_cols = X.select_dtypes(exclude=[np.number]).columns.tolist()\n"
   ]
  },
  {
   "cell_type": "code",
   "execution_count": 12,
   "id": "18e91021",
   "metadata": {
    "execution": {
     "iopub.execute_input": "2025-06-29T19:46:28.747626Z",
     "iopub.status.busy": "2025-06-29T19:46:28.747296Z",
     "iopub.status.idle": "2025-06-29T19:46:28.752455Z",
     "shell.execute_reply": "2025-06-29T19:46:28.751316Z"
    },
    "papermill": {
     "duration": 0.012534,
     "end_time": "2025-06-29T19:46:28.754347",
     "exception": false,
     "start_time": "2025-06-29T19:46:28.741813",
     "status": "completed"
    },
    "tags": []
   },
   "outputs": [],
   "source": [
    "# Impute missing values for numeric columns with SimpleImputer(mean)\n",
    "num_imputer = SimpleImputer(strategy='mean')"
   ]
  },
  {
   "cell_type": "code",
   "execution_count": 13,
   "id": "558a416e",
   "metadata": {
    "execution": {
     "iopub.execute_input": "2025-06-29T19:46:28.765699Z",
     "iopub.status.busy": "2025-06-29T19:46:28.765122Z",
     "iopub.status.idle": "2025-06-29T19:46:28.770933Z",
     "shell.execute_reply": "2025-06-29T19:46:28.769761Z"
    },
    "papermill": {
     "duration": 0.013523,
     "end_time": "2025-06-29T19:46:28.772766",
     "exception": false,
     "start_time": "2025-06-29T19:46:28.759243",
     "status": "completed"
    },
    "tags": []
   },
   "outputs": [],
   "source": [
    "# If you have categorical columns, you can impute with mode (most frequent):\n",
    "cat_imputer = SimpleImputer(strategy='most_frequent')\n"
   ]
  },
  {
   "cell_type": "code",
   "execution_count": 14,
   "id": "25e81199",
   "metadata": {
    "execution": {
     "iopub.execute_input": "2025-06-29T19:46:28.783684Z",
     "iopub.status.busy": "2025-06-29T19:46:28.783339Z",
     "iopub.status.idle": "2025-06-29T19:46:28.797341Z",
     "shell.execute_reply": "2025-06-29T19:46:28.796328Z"
    },
    "papermill": {
     "duration": 0.021889,
     "end_time": "2025-06-29T19:46:28.799415",
     "exception": false,
     "start_time": "2025-06-29T19:46:28.777526",
     "status": "completed"
    },
    "tags": []
   },
   "outputs": [],
   "source": [
    "# Apply imputer on numeric columns\n",
    "X_num = pd.DataFrame(num_imputer.fit_transform(X[numeric_cols]), columns=numeric_cols)\n",
    "X_test_num = pd.DataFrame(num_imputer.transform(X_test[numeric_cols]), columns=numeric_cols)\n"
   ]
  },
  {
   "cell_type": "code",
   "execution_count": 15,
   "id": "ec15d0ed",
   "metadata": {
    "execution": {
     "iopub.execute_input": "2025-06-29T19:46:28.810664Z",
     "iopub.status.busy": "2025-06-29T19:46:28.810283Z",
     "iopub.status.idle": "2025-06-29T19:46:28.816703Z",
     "shell.execute_reply": "2025-06-29T19:46:28.815531Z"
    },
    "papermill": {
     "duration": 0.013762,
     "end_time": "2025-06-29T19:46:28.818539",
     "exception": false,
     "start_time": "2025-06-29T19:46:28.804777",
     "status": "completed"
    },
    "tags": []
   },
   "outputs": [],
   "source": [
    "# Apply imputer on categorical columns (if exist)\n",
    "if categorical_cols:\n",
    "   X_cat = pd.DataFrame(cat_imputer.fit_transform(X[categorical_cols]), columns=categorical_cols)\n",
    "   X_test_cat = pd.DataFrame(cat_imputer.transform(X_test[categorical_cols]), columns=categorical_cols)\n",
    "\n",
    "# Combine numeric + categorical columns back\n",
    "   X = pd.concat([X_num, X_cat], axis=1)\n",
    "   X_test = pd.concat([X_test_num, X_test_cat], axis=1)\n",
    "else:\n",
    "    X = X_num\n",
    "    X_test = X_test_num"
   ]
  },
  {
   "cell_type": "code",
   "execution_count": 16,
   "id": "20b7c8ca",
   "metadata": {
    "execution": {
     "iopub.execute_input": "2025-06-29T19:46:28.829535Z",
     "iopub.status.busy": "2025-06-29T19:46:28.829227Z",
     "iopub.status.idle": "2025-06-29T19:46:28.837034Z",
     "shell.execute_reply": "2025-06-29T19:46:28.835968Z"
    },
    "papermill": {
     "duration": 0.015249,
     "end_time": "2025-06-29T19:46:28.839072",
     "exception": false,
     "start_time": "2025-06-29T19:46:28.823823",
     "status": "completed"
    },
    "tags": []
   },
   "outputs": [],
   "source": [
    "# Now split into train and validation sets\n",
    "X_train, X_val, y_train, y_val = train_test_split(X, y, test_size=0.2, random_state=42)\n"
   ]
  },
  {
   "cell_type": "code",
   "execution_count": 17,
   "id": "6a0aa34c",
   "metadata": {
    "execution": {
     "iopub.execute_input": "2025-06-29T19:46:28.849573Z",
     "iopub.status.busy": "2025-06-29T19:46:28.849253Z",
     "iopub.status.idle": "2025-06-29T19:46:28.861340Z",
     "shell.execute_reply": "2025-06-29T19:46:28.860230Z"
    },
    "papermill": {
     "duration": 0.019658,
     "end_time": "2025-06-29T19:46:28.863440",
     "exception": false,
     "start_time": "2025-06-29T19:46:28.843782",
     "status": "completed"
    },
    "tags": []
   },
   "outputs": [],
   "source": [
    "# Scale features (only numeric features, but since after imputation and concat we have all numeric)\n",
    "scaler = StandardScaler()\n",
    "X_train_scaled = scaler.fit_transform(X_train)\n",
    "X_val_scaled = scaler.transform(X_val)\n",
    "X_test_scaled = scaler.transform(X_test)\n"
   ]
  },
  {
   "cell_type": "code",
   "execution_count": 18,
   "id": "dc949ee5",
   "metadata": {
    "execution": {
     "iopub.execute_input": "2025-06-29T19:46:28.874216Z",
     "iopub.status.busy": "2025-06-29T19:46:28.873569Z",
     "iopub.status.idle": "2025-06-29T19:46:29.225396Z",
     "shell.execute_reply": "2025-06-29T19:46:29.224251Z"
    },
    "papermill": {
     "duration": 0.359386,
     "end_time": "2025-06-29T19:46:29.227510",
     "exception": false,
     "start_time": "2025-06-29T19:46:28.868124",
     "status": "completed"
    },
    "tags": []
   },
   "outputs": [
    {
     "data": {
      "text/html": [
       "<style>#sk-container-id-1 {color: black;background-color: white;}#sk-container-id-1 pre{padding: 0;}#sk-container-id-1 div.sk-toggleable {background-color: white;}#sk-container-id-1 label.sk-toggleable__label {cursor: pointer;display: block;width: 100%;margin-bottom: 0;padding: 0.3em;box-sizing: border-box;text-align: center;}#sk-container-id-1 label.sk-toggleable__label-arrow:before {content: \"▸\";float: left;margin-right: 0.25em;color: #696969;}#sk-container-id-1 label.sk-toggleable__label-arrow:hover:before {color: black;}#sk-container-id-1 div.sk-estimator:hover label.sk-toggleable__label-arrow:before {color: black;}#sk-container-id-1 div.sk-toggleable__content {max-height: 0;max-width: 0;overflow: hidden;text-align: left;background-color: #f0f8ff;}#sk-container-id-1 div.sk-toggleable__content pre {margin: 0.2em;color: black;border-radius: 0.25em;background-color: #f0f8ff;}#sk-container-id-1 input.sk-toggleable__control:checked~div.sk-toggleable__content {max-height: 200px;max-width: 100%;overflow: auto;}#sk-container-id-1 input.sk-toggleable__control:checked~label.sk-toggleable__label-arrow:before {content: \"▾\";}#sk-container-id-1 div.sk-estimator input.sk-toggleable__control:checked~label.sk-toggleable__label {background-color: #d4ebff;}#sk-container-id-1 div.sk-label input.sk-toggleable__control:checked~label.sk-toggleable__label {background-color: #d4ebff;}#sk-container-id-1 input.sk-hidden--visually {border: 0;clip: rect(1px 1px 1px 1px);clip: rect(1px, 1px, 1px, 1px);height: 1px;margin: -1px;overflow: hidden;padding: 0;position: absolute;width: 1px;}#sk-container-id-1 div.sk-estimator {font-family: monospace;background-color: #f0f8ff;border: 1px dotted black;border-radius: 0.25em;box-sizing: border-box;margin-bottom: 0.5em;}#sk-container-id-1 div.sk-estimator:hover {background-color: #d4ebff;}#sk-container-id-1 div.sk-parallel-item::after {content: \"\";width: 100%;border-bottom: 1px solid gray;flex-grow: 1;}#sk-container-id-1 div.sk-label:hover label.sk-toggleable__label {background-color: #d4ebff;}#sk-container-id-1 div.sk-serial::before {content: \"\";position: absolute;border-left: 1px solid gray;box-sizing: border-box;top: 0;bottom: 0;left: 50%;z-index: 0;}#sk-container-id-1 div.sk-serial {display: flex;flex-direction: column;align-items: center;background-color: white;padding-right: 0.2em;padding-left: 0.2em;position: relative;}#sk-container-id-1 div.sk-item {position: relative;z-index: 1;}#sk-container-id-1 div.sk-parallel {display: flex;align-items: stretch;justify-content: center;background-color: white;position: relative;}#sk-container-id-1 div.sk-item::before, #sk-container-id-1 div.sk-parallel-item::before {content: \"\";position: absolute;border-left: 1px solid gray;box-sizing: border-box;top: 0;bottom: 0;left: 50%;z-index: -1;}#sk-container-id-1 div.sk-parallel-item {display: flex;flex-direction: column;z-index: 1;position: relative;background-color: white;}#sk-container-id-1 div.sk-parallel-item:first-child::after {align-self: flex-end;width: 50%;}#sk-container-id-1 div.sk-parallel-item:last-child::after {align-self: flex-start;width: 50%;}#sk-container-id-1 div.sk-parallel-item:only-child::after {width: 0;}#sk-container-id-1 div.sk-dashed-wrapped {border: 1px dashed gray;margin: 0 0.4em 0.5em 0.4em;box-sizing: border-box;padding-bottom: 0.4em;background-color: white;}#sk-container-id-1 div.sk-label label {font-family: monospace;font-weight: bold;display: inline-block;line-height: 1.2em;}#sk-container-id-1 div.sk-label-container {text-align: center;}#sk-container-id-1 div.sk-container {/* jupyter's `normalize.less` sets `[hidden] { display: none; }` but bootstrap.min.css set `[hidden] { display: none !important; }` so we also need the `!important` here to be able to override the default hidden behavior on the sphinx rendered scikit-learn.org. See: https://github.com/scikit-learn/scikit-learn/issues/21755 */display: inline-block !important;position: relative;}#sk-container-id-1 div.sk-text-repr-fallback {display: none;}</style><div id=\"sk-container-id-1\" class=\"sk-top-container\"><div class=\"sk-text-repr-fallback\"><pre>RandomForestClassifier(random_state=42)</pre><b>In a Jupyter environment, please rerun this cell to show the HTML representation or trust the notebook. <br />On GitHub, the HTML representation is unable to render, please try loading this page with nbviewer.org.</b></div><div class=\"sk-container\" hidden><div class=\"sk-item\"><div class=\"sk-estimator sk-toggleable\"><input class=\"sk-toggleable__control sk-hidden--visually\" id=\"sk-estimator-id-1\" type=\"checkbox\" checked><label for=\"sk-estimator-id-1\" class=\"sk-toggleable__label sk-toggleable__label-arrow\">RandomForestClassifier</label><div class=\"sk-toggleable__content\"><pre>RandomForestClassifier(random_state=42)</pre></div></div></div></div></div>"
      ],
      "text/plain": [
       "RandomForestClassifier(random_state=42)"
      ]
     },
     "execution_count": 18,
     "metadata": {},
     "output_type": "execute_result"
    }
   ],
   "source": [
    "# Train RandomForestClassifier\n",
    "model = RandomForestClassifier(random_state=42)\n",
    "model.fit(X_train_scaled, y_train)"
   ]
  },
  {
   "cell_type": "code",
   "execution_count": 19,
   "id": "e6dee617",
   "metadata": {
    "execution": {
     "iopub.execute_input": "2025-06-29T19:46:29.239282Z",
     "iopub.status.busy": "2025-06-29T19:46:29.238864Z",
     "iopub.status.idle": "2025-06-29T19:46:29.260516Z",
     "shell.execute_reply": "2025-06-29T19:46:29.258889Z"
    },
    "papermill": {
     "duration": 0.029511,
     "end_time": "2025-06-29T19:46:29.262271",
     "exception": false,
     "start_time": "2025-06-29T19:46:29.232760",
     "status": "completed"
    },
    "tags": []
   },
   "outputs": [
    {
     "name": "stdout",
     "output_type": "stream",
     "text": [
      "Validation accuracy: 0.8426\n"
     ]
    }
   ],
   "source": [
    "# Validate model\n",
    "y_pred_val = model.predict(X_val_scaled)\n",
    "accuracy = accuracy_score(y_val, y_pred_val)\n",
    "print(f'Validation accuracy: {accuracy:.4f}')\n"
   ]
  },
  {
   "cell_type": "code",
   "execution_count": 20,
   "id": "5b272cf6",
   "metadata": {
    "execution": {
     "iopub.execute_input": "2025-06-29T19:46:29.274713Z",
     "iopub.status.busy": "2025-06-29T19:46:29.273363Z",
     "iopub.status.idle": "2025-06-29T19:46:29.292689Z",
     "shell.execute_reply": "2025-06-29T19:46:29.291437Z"
    },
    "papermill": {
     "duration": 0.027216,
     "end_time": "2025-06-29T19:46:29.294515",
     "exception": false,
     "start_time": "2025-06-29T19:46:29.267299",
     "status": "completed"
    },
    "tags": []
   },
   "outputs": [],
   "source": [
    "# Predict on test set\n",
    "y_pred_test = model.predict(X_test_scaled)\n",
    "\n",
    "\n"
   ]
  },
  {
   "cell_type": "code",
   "execution_count": 21,
   "id": "512f5cec",
   "metadata": {
    "execution": {
     "iopub.execute_input": "2025-06-29T19:46:29.309253Z",
     "iopub.status.busy": "2025-06-29T19:46:29.308867Z",
     "iopub.status.idle": "2025-06-29T19:46:29.324318Z",
     "shell.execute_reply": "2025-06-29T19:46:29.322551Z"
    },
    "papermill": {
     "duration": 0.025411,
     "end_time": "2025-06-29T19:46:29.326195",
     "exception": false,
     "start_time": "2025-06-29T19:46:29.300784",
     "status": "completed"
    },
    "tags": []
   },
   "outputs": [],
   "source": [
    "# Create submission file (remember age_group: Adult = 0, Senior = 1)\n",
    "submission = pd.DataFrame({'SEQN': test_data['SEQN'], 'age_group': y_pred_test})\n",
    "submission.to_csv('sample-submission.csv', index=False)"
   ]
  }
 ],
 "metadata": {
  "kaggle": {
   "accelerator": "none",
   "dataSources": [
    {
     "datasetId": 7718896,
     "sourceId": 12250479,
     "sourceType": "datasetVersion"
    }
   ],
   "dockerImageVersionId": 31040,
   "isGpuEnabled": false,
   "isInternetEnabled": true,
   "language": "python",
   "sourceType": "notebook"
  },
  "kernelspec": {
   "display_name": "Python 3",
   "language": "python",
   "name": "python3"
  },
  "language_info": {
   "codemirror_mode": {
    "name": "ipython",
    "version": 3
   },
   "file_extension": ".py",
   "mimetype": "text/x-python",
   "name": "python",
   "nbconvert_exporter": "python",
   "pygments_lexer": "ipython3",
   "version": "3.11.11"
  },
  "papermill": {
   "default_parameters": {},
   "duration": 11.864002,
   "end_time": "2025-06-29T19:46:29.954250",
   "environment_variables": {},
   "exception": null,
   "input_path": "__notebook__.ipynb",
   "output_path": "__notebook__.ipynb",
   "parameters": {},
   "start_time": "2025-06-29T19:46:18.090248",
   "version": "2.6.0"
  }
 },
 "nbformat": 4,
 "nbformat_minor": 5
}
